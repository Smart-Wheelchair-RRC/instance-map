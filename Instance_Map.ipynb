{
  "cells": [
    {
      "cell_type": "markdown",
      "metadata": {},
      "source": [
        "# Imports"
      ]
    },
    {
      "cell_type": "code",
      "execution_count": 1,
      "metadata": {
        "id": "qWCVyi4O1DVh"
      },
      "outputs": [],
      "source": [
        "import ipywidgets as widgets\n",
        "from IPython.display import clear_output, display, Image\n",
        "import os\n",
        "import sys\n",
        "import copy\n",
        "import pickle\n",
        "\n",
        "import numpy as np\n",
        "import random\n",
        "import cv2\n",
        "import matplotlib.pyplot as plt\n",
        "\n",
        "from PIL import Image, ImageDraw, ImageFont\n",
        "\n",
        "from scipy.spatial.transform import Rotation as R"
      ]
    },
    {
      "cell_type": "code",
      "execution_count": 2,
      "metadata": {},
      "outputs": [],
      "source": [
        "import torch\n",
        "import torchvision.transforms as transforms\n",
        "from torchvision.ops import box_convert\n",
        "from torch import nn\n",
        "import torch.nn.functional as F\n",
        "from torchvision.transforms import Compose, Resize, CenterCrop, ToTensor, Normalize"
      ]
    },
    {
      "cell_type": "code",
      "execution_count": 3,
      "metadata": {
        "id": "EvB4dhqs2y9z"
      },
      "outputs": [
        {
          "name": "stdout",
          "output_type": "stream",
          "text": [
            "/home2/kumaradi.gupta/instance-map\n"
          ]
        }
      ],
      "source": [
        "HOME = os.getcwd()\n",
        "print(HOME)"
      ]
    },
    {
      "cell_type": "code",
      "execution_count": 4,
      "metadata": {
        "colab": {
          "base_uri": "https://localhost:8080/"
        },
        "id": "j5O08XEt2WLE",
        "outputId": "d0d34ec6-3464-49d5-d14b-763a73b0e1c4"
      },
      "outputs": [],
      "source": [
        "#RAM Imports\n",
        "from ram.models import ram\n",
        "from ram import inference_ram as inference\n",
        "\n",
        "# Grounding DINO\n",
        "import GroundingDINO.groundingdino.datasets.transforms as T\n",
        "from GroundingDINO.groundingdino.models import build_model\n",
        "from GroundingDINO.groundingdino.util import box_ops\n",
        "from GroundingDINO.groundingdino.util.slconfig import SLConfig\n",
        "from GroundingDINO.groundingdino.util.utils import clean_state_dict, get_phrases_from_posmap\n",
        "from GroundingDINO.groundingdino.util.inference import load_model, load_image, predict, annotate\n",
        "\n",
        "import supervision as sv\n",
        "\n",
        "# Segment Anything\n",
        "from segment_anything import build_sam, SamPredictor\n",
        "\n",
        "#Embeddings\n",
        "from typing import Literal\n",
        "import einops\n",
        "import clip"
      ]
    },
    {
      "cell_type": "code",
      "execution_count": 5,
      "metadata": {},
      "outputs": [],
      "source": [
        "from tqdm.notebook import tqdm"
      ]
    },
    {
      "cell_type": "code",
      "execution_count": 6,
      "metadata": {},
      "outputs": [],
      "source": [
        "import gc"
      ]
    },
    {
      "cell_type": "markdown",
      "metadata": {},
      "source": [
        "# Setup"
      ]
    },
    {
      "cell_type": "code",
      "execution_count": 7,
      "metadata": {
        "id": "Z96585gsBdX1"
      },
      "outputs": [
        {
          "name": "stdout",
          "output_type": "stream",
          "text": [
            "cuda:0\n"
          ]
        }
      ],
      "source": [
        "device = torch.device('cuda:0' if torch.cuda.is_available() else 'cpu')\n",
        "print(device)"
      ]
    },
    {
      "cell_type": "code",
      "execution_count": 8,
      "metadata": {
        "colab": {
          "base_uri": "https://localhost:8080/"
        },
        "id": "VcWsI9sB3vxN",
        "outputId": "ebef163b-7e0b-40ac-e9c7-0c12c643032a"
      },
      "outputs": [],
      "source": [
        "weights_dir = \"/scratch/laksh.nanwani/checkpoints\"\n",
        "\n",
        "# imgs_dir = \"/scratch/laksh.nanwani/instance_slam/JmbYfDe2QKZ/rgb\"\n",
        "# depth_dir = \"/scratch/laksh.nanwani/instance_slam/JmbYfDe2QKZ/depth/\"\n",
        "# pose_dir = \"/scratch/laksh.nanwani/instance_slam/JmbYfDe2QKZ/pose/\"\n",
        "\n",
        "imgs_dir = \"/scratch/kumaradi.gupta/run_kinect_wheel_1/rgb\"\n",
        "depth_dir = \"/scratch/kumaradi.gupta/run_kinect_wheel_1/depth/\"\n",
        "pose_dir = \"/scratch/kumaradi.gupta/run_kinect_wheel_1/pose/\""
      ]
    },
    {
      "cell_type": "code",
      "execution_count": 9,
      "metadata": {},
      "outputs": [],
      "source": [
        "# req_tags = [\"table\", \"chair\", \"stool\", \"fan\", \"computer\", 'stool', \n",
        "#             'pillar', 'couch', 'door', 'art', 'bed', 'bookshelf', 'picture', 'frame', \n",
        "#             'appliance', 'box', 'cabinet', 'wall','cubicle', 'pillar', 'equipment', \n",
        "#             'clock', 'board']\n",
        "\n",
        "# colors = [\n",
        "#     (255, 105, 97),  # Pastel Red\n",
        "#     (255, 179, 71),  # Pastel Orange\n",
        "#     (253, 253, 150), # Pastel Yellow\n",
        "#     (119, 221, 119), # Pastel Green\n",
        "#     (203, 153, 201), # Pastel Purple\n",
        "#     (174, 198, 207), # Pastel Blue\n",
        "#     (255, 209, 220), # Pastel Pink\n",
        "#     (128, 128, 128), # Grey\n",
        "#     (255, 0, 255),   # Magenta\n",
        "#     (0, 0, 255),     # Blue\n",
        "#     (0, 255, 255),   # Cyan\n",
        "#     (255, 0, 0),     # Red\n",
        "#     (139, 69, 19),   # Saddle Brown\n",
        "#     (255, 140, 0),   # Dark Orange\n",
        "#     (128, 0, 0),     # Maroon\n",
        "#     (75, 0, 130),    # Indigo\n",
        "#     (173, 216, 230), # Light Blue\n",
        "#     (144, 238, 144), # Light Green\n",
        "#     (255, 192, 203), # Pink\n",
        "#     (210, 105, 30),  # Chocolate\n",
        "#     (106, 90, 205),  # Slate Blue\n",
        "#     (255, 165, 0),   # Orange\n",
        "#     (70, 130, 180),  # Steel Blue\n",
        "# ]\n",
        "\n",
        "req_tags = ['chair', 'cupboard', 'stool', 'table', 'fan', 'door']\n",
        "colors = [\n",
        "    (255, 105, 97),  # Pastel Red\n",
        "    (253, 253, 150), # Pastel Yellow\n",
        "    (119, 221, 119), # Pastel Green\n",
        "    (203, 153, 201), # Pastel Purple\n",
        "    (174, 198, 207), # Pastel Blue\n",
        "    (255, 209, 220), # Pastel Pink\n",
        "]\n",
        "\n",
        "\n",
        "def normalize_color(color_255):\n",
        "    return tuple(val/255.0 for val in color_255)"
      ]
    },
    {
      "cell_type": "markdown",
      "metadata": {},
      "source": [
        "# RAM Load + Run"
      ]
    },
    {
      "cell_type": "code",
      "execution_count": 10,
      "metadata": {
        "colab": {
          "base_uri": "https://localhost:8080/",
          "height": 488,
          "referenced_widgets": [
            "2e9965e0500840e58f52bffa8636f90e",
            "e56804186464441fa5b9cf7618843f88",
            "86504c1627d14f4e9db6fba4d9bc9d03",
            "75d60b958d824913ac1f986d51b01b7a",
            "3d3138d332694cc281bf2fef049e849b",
            "80f48003e0d34f3f8fc5b1c1cb2976b8",
            "9e72f69d6b26453d8c143df4f6b1f06e",
            "1491132eb14b4836b081fb957a3f630f",
            "4183ec9c5d7e4dbf8f78d90a1cfab1c8",
            "d9aec613b0e94d68a567b55db70ae9d5",
            "71d6306fd9b14b22892b88331db72886",
            "826834cda0a143138896c0294dd8f7bf",
            "c8f88ed0f91a442391aadb929ff515e9",
            "72b774a3f1f14c988c7e3c37e4358fb0",
            "581f67eb04144ff5964ef4b91b7b567e",
            "dad4bdc7e18443629d96903fc5783d72",
            "dbdc2a9d94d34ba590f96faefd61c761",
            "43331b3efadc44fb8bd48623efff6336",
            "b65e1e7b83fc43279f44daac5cca240d",
            "94f3304e390444899e0e556de89211e0",
            "7d38565ca4df4a1a9c784d675bf866c1",
            "d41180caf8ad478f9c0a8f82660b0246",
            "4416d4be8664450ebbcd080b79a7a7da",
            "3d30d1e917f84cbea3abeef5b25c1862",
            "b09344aa2c9e4ab3b57c18e7c6202c75",
            "c700b748f77547889b408e19f086d1f9",
            "7fb27ba503b4421b9a66edc6e753333d",
            "81b5592f3b6344708f62af5ab51800e7",
            "327226e663594b369890367566265c24",
            "351deb86d39c4447819536b78b645d97",
            "26cc9dcc2c7d48ffa5be6ea18a51db97",
            "85fc18a793c64d7ea176105a100c3f5b",
            "abe808693c9e4890a5c38ca335c33d51"
          ]
        },
        "id": "IKdOF5Ih5RIb",
        "outputId": "9ab6389c-e9b7-43a7-d17e-7dba3e53ea81"
      },
      "outputs": [
        {
          "name": "stdout",
          "output_type": "stream",
          "text": [
            "/encoder/layer/0/crossattention/self/query is tied\n",
            "/encoder/layer/0/crossattention/self/key is tied\n",
            "/encoder/layer/0/crossattention/self/value is tied\n",
            "/encoder/layer/0/crossattention/output/dense is tied\n",
            "/encoder/layer/0/crossattention/output/LayerNorm is tied\n",
            "/encoder/layer/0/intermediate/dense is tied\n",
            "/encoder/layer/0/output/dense is tied\n",
            "/encoder/layer/0/output/LayerNorm is tied\n",
            "/encoder/layer/1/crossattention/self/query is tied\n",
            "/encoder/layer/1/crossattention/self/key is tied\n",
            "/encoder/layer/1/crossattention/self/value is tied\n",
            "/encoder/layer/1/crossattention/output/dense is tied\n",
            "/encoder/layer/1/crossattention/output/LayerNorm is tied\n",
            "/encoder/layer/1/intermediate/dense is tied\n",
            "/encoder/layer/1/output/dense is tied\n",
            "/encoder/layer/1/output/LayerNorm is tied\n",
            "--------------\n",
            "/scratch/laksh.nanwani/checkpoints/ram_swin_large_14m.pth\n",
            "--------------\n",
            "load checkpoint from /scratch/laksh.nanwani/checkpoints/ram_swin_large_14m.pth\n",
            "vit: swin_l\n"
          ]
        }
      ],
      "source": [
        "image_size = 384 # default value\n",
        "pretrained = f\"{weights_dir}/ram_swin_large_14m.pth\"\n",
        "\n",
        "normalize = transforms.Normalize(mean=[0.485, 0.456, 0.406],\n",
        "                                  std=[0.229, 0.224, 0.225])\n",
        "transform = transforms.Compose([\n",
        "    transforms.Resize((image_size, image_size)),\n",
        "    transforms.ToTensor(), normalize\n",
        "])\n",
        "\n",
        "#Load model\n",
        "ram_model = ram(pretrained=pretrained,\n",
        "                          image_size=image_size,\n",
        "                          vit='swin_l')\n",
        "ram_model.eval()\n",
        "\n",
        "ram_model = ram_model.to(device)"
      ]
    },
    {
      "cell_type": "code",
      "execution_count": 11,
      "metadata": {
        "id": "DH1zwZMpinOX"
      },
      "outputs": [
        {
          "data": {
            "application/vnd.jupyter.widget-view+json": {
              "model_id": "af3f7b4b36cb4d71ae62df5cb8016944",
              "version_major": 2,
              "version_minor": 0
            },
            "text/plain": [
              "  0%|          | 0/893 [00:00<?, ?it/s]"
            ]
          },
          "metadata": {},
          "output_type": "display_data"
        }
      ],
      "source": [
        "img_files = [f for f in os.listdir(imgs_dir) if os.path.isfile(os.path.join(imgs_dir, f))]\n",
        "\n",
        "img_dict = {}\n",
        "\n",
        "# # Loop through each image file\n",
        "for i, img_file in enumerate(tqdm(img_files)):\n",
        "    img_id = os.path.splitext(img_file)[0]\n",
        "    img_path = os.path.join(imgs_dir, img_file)\n",
        "    raw_image = Image.open(img_path).convert(\"RGB\").resize((image_size, image_size))\n",
        "    image = transform(raw_image).unsqueeze(0).to(device)\n",
        "\n",
        "    ram_tags = inference(image, ram_model)[0]\n",
        "    ram_tags = ram_tags.split(' | ') # Split the tags\n",
        "    ram_tags = [tag.split() for tag in ram_tags] # Split the tags into words\n",
        "    ram_tags = [item for sublist in ram_tags for item in sublist] # Flatten the list\n",
        "    ram_tags = list(set(ram_tags) & set(req_tags)) # Get the intersection of the tags\n",
        "    ram_tags = \" . \".join(str(tag) for tag in ram_tags) # Join the tags with a period\n",
        "    # print(ram_tags)\n",
        "\n",
        "    # Add the img_path and ram_tags to the dictionary\n",
        "    img_dict[img_id] = {'img_path': img_path, 'ram_tags': ram_tags, 'objs': {}}"
      ]
    },
    {
      "cell_type": "code",
      "execution_count": 13,
      "metadata": {},
      "outputs": [
        {
          "name": "stdout",
          "output_type": "stream",
          "text": [
            "{'img_path': '/scratch/kumaradi.gupta/run_kinect_wheel_1/rgb/1.jpg', 'ram_tags': 'stool . chair . table', 'objs': {}}\n"
          ]
        }
      ],
      "source": [
        "# print(img_dict['JmbYfDe2QKZ_1'])\n",
        "print(img_dict['1'])"
      ]
    },
    {
      "cell_type": "code",
      "execution_count": 14,
      "metadata": {
        "id": "7khwINNyFaVs"
      },
      "outputs": [
        {
          "data": {
            "text/plain": [
              "50"
            ]
          },
          "execution_count": 14,
          "metadata": {},
          "output_type": "execute_result"
        }
      ],
      "source": [
        "del ram_model\n",
        "torch.cuda.empty_cache()\n",
        "gc.collect()"
      ]
    },
    {
      "cell_type": "markdown",
      "metadata": {},
      "source": [
        "# GDINO + SAM Load and Run"
      ]
    },
    {
      "cell_type": "code",
      "execution_count": 15,
      "metadata": {
        "colab": {
          "base_uri": "https://localhost:8080/"
        },
        "id": "iJQeYLu1CzQV",
        "outputId": "54c9b9ec-8791-4a3f-8abd-03aa3b6e885e"
      },
      "outputs": [
        {
          "name": "stdout",
          "output_type": "stream",
          "text": [
            "/home2/kumaradi.gupta/instance-map/GroundingDINO/groundingdino/config/GroundingDINO_SwinT_OGC.py ; exist: True\n",
            "/scratch/laksh.nanwani/checkpoints/groundingdino_swint_ogc.pth ; exist: True\n"
          ]
        }
      ],
      "source": [
        "CONFIG_PATH = f\"{HOME}/GroundingDINO/groundingdino/config/GroundingDINO_SwinT_OGC.py\"\n",
        "print(CONFIG_PATH, \"; exist:\", os.path.isfile(CONFIG_PATH))\n",
        "\n",
        "WEIGHTS_NAME_GD = \"groundingdino_swint_ogc.pth\"\n",
        "WEIGHTS_PATH_GD = f\"{weights_dir}/{WEIGHTS_NAME_GD}\"\n",
        "print(WEIGHTS_PATH_GD, \"; exist:\", os.path.isfile(WEIGHTS_PATH_GD))"
      ]
    },
    {
      "cell_type": "code",
      "execution_count": 16,
      "metadata": {
        "colab": {
          "base_uri": "https://localhost:8080/",
          "height": 99,
          "referenced_widgets": [
            "c34218c813754a04adc3821dd86745b2",
            "7ac391c29a094d2b875e953d05065712",
            "d5390edb1312428e9f3eb126dc284065",
            "04e504edf8f949428d9c88833efc7c21",
            "eb8de5229523430fbc59079873e47308",
            "fe8f7952eb7c42b289af3cf9ca4fb9f7",
            "5c2d52b97abd4ad999b35f3639ad4550",
            "3b3f7ce37e5943c5995c12da3aa0112c",
            "20b50aad30904d6fbd6c2bf0c202a0bd",
            "a8805ffe97f64b29806e8251aca9de82",
            "4a0a269d902645518219aa71101125a7",
            "db4691309c98491e9f268562ad8276d7",
            "d6ff4e03dba94ee5bbbc50e08e365047",
            "9a49c86bd47648a0965a25be2f0002cc",
            "99b954c2d2e147109cb6f25a3e35eba2",
            "13018fa5b9dd45bcb13b92b87fec0612",
            "a601d8351eb64f088ab8c486502707e4",
            "855d8bc31332444a88f45d8ed5e2c9d2",
            "b0291f4b2d044a898f22931cc3b060f1",
            "4b508bf35abd4a8785d3c2fe34826ebe",
            "9b754af8ed7d4497a9ece7b255235f8d",
            "988fdbc475a5475dae445c381b5596aa"
          ]
        },
        "id": "SvK7WrkdD1pr",
        "outputId": "efdb5899-5e68-4c31-bf94-45a05ac02333"
      },
      "outputs": [
        {
          "name": "stdout",
          "output_type": "stream",
          "text": [
            "final text_encoder_type: bert-base-uncased\n"
          ]
        }
      ],
      "source": [
        "#Load Model Grounding DINO\n",
        "GDINO_model = load_model(CONFIG_PATH, WEIGHTS_PATH_GD)"
      ]
    },
    {
      "cell_type": "code",
      "execution_count": 17,
      "metadata": {
        "id": "yB6UhpucuUtx"
      },
      "outputs": [],
      "source": [
        "sam_checkpoint_name = \"sam_vit_h_4b8939.pth\"\n",
        "sam_checkpoint = f\"{weights_dir}/{sam_checkpoint_name}\"\n",
        "sam_predictor = SamPredictor(build_sam(checkpoint=sam_checkpoint).to(device))"
      ]
    },
    {
      "cell_type": "code",
      "execution_count": 18,
      "metadata": {
        "id": "edG5KqIxE1zD"
      },
      "outputs": [],
      "source": [
        "# SAM Functions\n",
        "\n",
        "def segment(image, sam_model, boxes):\n",
        "  sam_model.set_image(image)\n",
        "  H, W, _ = image.shape\n",
        "  boxes_xyxy = box_ops.box_cxcywh_to_xyxy(boxes) * torch.Tensor([W, H, W, H])\n",
        "\n",
        "  transformed_boxes = sam_model.transform.apply_boxes_torch(boxes_xyxy.to(device), image.shape[:2])\n",
        "  masks, _, _ = sam_model.predict_torch(\n",
        "      point_coords = None,\n",
        "      point_labels = None,\n",
        "      boxes = transformed_boxes,\n",
        "      multimask_output = False,\n",
        "      )\n",
        "  return masks.cpu()\n",
        "\n",
        "# For drawing SAM Mask\n",
        "def draw_mask(mask, image, random_color=True):\n",
        "    if random_color:\n",
        "        color = np.concatenate([np.random.random(3), np.array([0.8])], axis=0)\n",
        "    else:\n",
        "        color = np.array([30/255, 144/255, 255/255, 0.6])\n",
        "    h, w = mask.shape[-2:]\n",
        "    mask_image = mask.reshape(h, w, 1) * color.reshape(1, 1, -1)\n",
        "\n",
        "    annotated_frame_pil = Image.fromarray(image).convert(\"RGBA\")\n",
        "    mask_image_pil = Image.fromarray((mask_image.cpu().numpy() * 255).astype(np.uint8)).convert(\"RGBA\")\n",
        "\n",
        "    return np.array(Image.alpha_composite(annotated_frame_pil, mask_image_pil))"
      ]
    },
    {
      "cell_type": "code",
      "execution_count": 19,
      "metadata": {
        "colab": {
          "base_uri": "https://localhost:8080/",
          "height": 1000
        },
        "id": "Y476-QtCWgnK",
        "outputId": "979ef994-52e1-4f85-832d-20aab64ad23b"
      },
      "outputs": [
        {
          "data": {
            "application/vnd.jupyter.widget-view+json": {
              "model_id": "a211115ee3b74efb8f487705a53c1186",
              "version_major": 2,
              "version_minor": 0
            },
            "text/plain": [
              "  0%|          | 0/893 [00:00<?, ?it/s]"
            ]
          },
          "metadata": {},
          "output_type": "display_data"
        }
      ],
      "source": [
        "BOX_TRESHOLD = 0.37\n",
        "TEXT_TRESHOLD = 0.37\n",
        "\n",
        "for img_id, img_data in tqdm(img_dict.items()):\n",
        "    img_path = img_data['img_path']\n",
        "\n",
        "    TEXT_PROMPT = img_dict[img_id]['ram_tags']\n",
        "    image_source, image = load_image(img_path)\n",
        "\n",
        "    # Get DINO Bounding Boxes\n",
        "    boxes, logits, phrases = predict(\n",
        "        model=GDINO_model,\n",
        "        image=image,\n",
        "        caption=TEXT_PROMPT,\n",
        "        box_threshold=BOX_TRESHOLD,\n",
        "        text_threshold=TEXT_TRESHOLD\n",
        "    )\n",
        "    # print(boxes)\n",
        "\n",
        "    if boxes.nelement() == 0:\n",
        "        continue\n",
        "\n",
        "    # Get SAM Masks\n",
        "    sam_image = cv2.imread(img_path)\n",
        "    sam_image = cv2.cvtColor(sam_image, cv2.COLOR_BGR2RGB)\n",
        "    segmented_frame_masks = segment(sam_image, sam_predictor, boxes=boxes)\n",
        "\n",
        "    num_objs = boxes.shape[0]\n",
        "    objs = {}\n",
        "\n",
        "    for j in range(num_objs):\n",
        "      img_data['objs'][j] = {'bbox': boxes[j].cpu().numpy(),\n",
        "                             'phrase' : phrases[j],\n",
        "                             'prob' : logits[j].item(),\n",
        "                             'mask' : segmented_frame_masks[j].cpu().squeeze().numpy(),\n",
        "                             'clip_embed' : None,\n",
        "                             'dino_embed' : None}\n",
        "\n",
        "\n",
        "    # annotated_frame = annotate(image_source=image_source, boxes=boxes, logits=logits, phrases=phrases)\n",
        "    # %matplotlib inline\n",
        "    # sv.plot_image(annotated_frame, (8, 8))"
      ]
    },
    {
      "cell_type": "code",
      "execution_count": 20,
      "metadata": {},
      "outputs": [
        {
          "data": {
            "text/plain": [
              "27"
            ]
          },
          "execution_count": 20,
          "metadata": {},
          "output_type": "execute_result"
        }
      ],
      "source": [
        "del sam_predictor\n",
        "del GDINO_model\n",
        "torch.cuda.empty_cache()\n",
        "gc.collect()"
      ]
    },
    {
      "cell_type": "markdown",
      "metadata": {},
      "source": [
        "# Clip + DINOv2 Embeddings"
      ]
    },
    {
      "cell_type": "code",
      "execution_count": 21,
      "metadata": {
        "id": "W4Lx4gAQYV1-"
      },
      "outputs": [],
      "source": [
        "def crop_image(image, bounding_box):\n",
        "    height, width = image.shape[:2]\n",
        "\n",
        "    x, y, w, h = bounding_box\n",
        "    xmin = int((x - w/2).item() * width)\n",
        "    ymin = int((y - h/2).item() * height)\n",
        "    xmax = int((x + w/2).item() * width)\n",
        "    ymax = int((y + h/2).item() * height)\n",
        "    cropped_image = image[ymin:ymax, xmin:xmax]\n",
        "\n",
        "    return cropped_image\n",
        "\n",
        "def resize_and_pad(image, desired_size=256):\n",
        "    old_size = image.shape[:2]  # old_size is in (height, width) format\n",
        "\n",
        "    # find the larger dimension of the image\n",
        "    max_dim = max(old_size)\n",
        "    ratio = float(desired_size) / max_dim\n",
        "    new_size = tuple([int(x*ratio) for x in old_size])\n",
        "    image = cv2.resize(image, (new_size[1], new_size[0]))\n",
        "\n",
        "    # compute the deltas for padding\n",
        "    delta_w = desired_size - new_size[1]\n",
        "    delta_h = desired_size - new_size[0]\n",
        "    top, bottom = delta_h // 2, delta_h - (delta_h // 2)\n",
        "    left, right = delta_w // 2, delta_w - (delta_w // 2)\n",
        "\n",
        "    # create a border around the image\n",
        "    color = [0, 0, 0]  # black padding\n",
        "    new_img = cv2.copyMakeBorder(image, top, bottom, left, right, cv2.BORDER_CONSTANT, value=color)\n",
        "\n",
        "    return new_img"
      ]
    },
    {
      "cell_type": "code",
      "execution_count": 22,
      "metadata": {
        "colab": {
          "base_uri": "https://localhost:8080/"
        },
        "id": "EGFL93r2YfMH",
        "outputId": "56abeb40-cbb5-4e21-9573-9e8c79c6fe2d"
      },
      "outputs": [
        {
          "name": "stderr",
          "output_type": "stream",
          "text": [
            "Using cache found in /home2/kumaradi.gupta/.cache/torch/hub/facebookresearch_dinov2_main\n",
            "xFormers not available\n",
            "xFormers not available\n"
          ]
        }
      ],
      "source": [
        "# CLIP Model Loading and Preprocessing\n",
        "model_clip, preprocess_clip = clip.load(\"ViT-B/32\", device=device)\n",
        "\n",
        "# Preprocess function for input images\n",
        "preprocess_fn_clip = Compose([\n",
        "    Resize((224, 224)),\n",
        "    CenterCrop((224, 224)),\n",
        "    ToTensor(),\n",
        "    Normalize([0.485, 0.456, 0.406], [0.229, 0.224, 0.225])\n",
        "])\n",
        "\n",
        "# Load the pre-trained DINO model\n",
        "dino_model = torch.hub.load('facebookresearch/dinov2', 'dinov2_vitb14')\n",
        "dino_model = dino_model.to(device)\n",
        "dino_model.eval()\n",
        "\n",
        "# Define the image transformation pipeline\n",
        "transform_dino = transforms.Compose([\n",
        "    transforms.Resize(256, interpolation=3),\n",
        "    transforms.CenterCrop(224),\n",
        "    transforms.ToTensor(),\n",
        "    transforms.Normalize(mean=[0.485, 0.456, 0.406], std=[0.229, 0.224, 0.225]),\n",
        "])\n"
      ]
    },
    {
      "cell_type": "code",
      "execution_count": 23,
      "metadata": {
        "id": "399MkZf9YjXC"
      },
      "outputs": [],
      "source": [
        "# Combined Function for Calculating Embeddings\n",
        "\n",
        "def get_dino_clip_embeddings(cropped_img):\n",
        "    # Load and preprocess the image for DinoV2\n",
        "    dino_img = Image.fromarray(cv2.cvtColor(cropped_img, cv2.COLOR_BGR2RGB))\n",
        "    dino_image_tensor = transform_dino(dino_img).unsqueeze(0).to(device)  # Add batch dimension and send to device\n",
        "\n",
        "    # Get the feature embedding from the model\n",
        "    with torch.no_grad():\n",
        "        dino_features = dino_model(dino_image_tensor)[0]\n",
        "\n",
        "    # Load and preprocess the image for CLIP\n",
        "    image_clip = Image.fromarray(cv2.cvtColor(cropped_img, cv2.COLOR_BGR2RGB))\n",
        "    input_clip = preprocess_fn_clip(image_clip).unsqueeze(0).to(device)\n",
        "\n",
        "    # Calculate CLIP embeddings\n",
        "    with torch.no_grad():\n",
        "        clip_features = model_clip.encode_image(input_clip)\n",
        "\n",
        "    return dino_features, clip_features"
      ]
    },
    {
      "cell_type": "code",
      "execution_count": 24,
      "metadata": {
        "id": "A6BffjkWXnAO"
      },
      "outputs": [
        {
          "data": {
            "application/vnd.jupyter.widget-view+json": {
              "model_id": "dd93037475374f438ae64e6e836f894d",
              "version_major": 2,
              "version_minor": 0
            },
            "text/plain": [
              "  0%|          | 0/893 [00:00<?, ?it/s]"
            ]
          },
          "metadata": {},
          "output_type": "display_data"
        }
      ],
      "source": [
        "for img_id, img_data in tqdm(img_dict.items()):\n",
        "  img_path = img_data['img_path']\n",
        "  img = cv2.imread(img_path)\n",
        "\n",
        "  if len(img_data['objs']) == 0:\n",
        "    continue\n",
        "\n",
        "  for obj_id, obj_data in img_data['objs'].items():\n",
        "    cropped_img = crop_image(img, obj_data['bbox'])\n",
        "\n",
        "    dino_features, clip_features = get_dino_clip_embeddings(cropped_img)\n",
        "\n",
        "    clip_features = clip_features.cpu().squeeze().numpy()\n",
        "    dino_features = dino_features.cpu().squeeze().numpy()\n",
        "\n",
        "    obj_data['clip_embed'] = clip_features\n",
        "    obj_data['dino_embed'] = dino_features\n",
        "    # print(\"DinoV2 features shape:\", dino_features.shape)\n",
        "    # print(\"CLIP features shape:\", clip_features.shape)"
      ]
    },
    {
      "cell_type": "code",
      "execution_count": 25,
      "metadata": {
        "colab": {
          "base_uri": "https://localhost:8080/"
        },
        "id": "b5XXQAugct6c",
        "outputId": "e1415c2a-dc2d-40e7-8a4d-01c7afa71cb8"
      },
      "outputs": [
        {
          "name": "stdout",
          "output_type": "stream",
          "text": [
            "(768,)\n"
          ]
        }
      ],
      "source": [
        "print(img_dict['1']['objs'][0]['dino_embed'].shape)"
      ]
    },
    {
      "cell_type": "code",
      "execution_count": 26,
      "metadata": {},
      "outputs": [
        {
          "data": {
            "text/plain": [
              "18"
            ]
          },
          "execution_count": 26,
          "metadata": {},
          "output_type": "execute_result"
        }
      ],
      "source": [
        "del model_clip\n",
        "del preprocess_clip\n",
        "del dino_model\n",
        "torch.cuda.empty_cache()\n",
        "gc.collect()"
      ]
    },
    {
      "cell_type": "markdown",
      "metadata": {},
      "source": [
        "# Save/Load img_dict"
      ]
    },
    {
      "cell_type": "code",
      "execution_count": 29,
      "metadata": {},
      "outputs": [],
      "source": [
        "with open('/home2/kumaradi.gupta/instance-map/kinect_img_dict.pkl', 'wb') as file:\n",
        "    pickle.dump(img_dict, file)"
      ]
    },
    {
      "cell_type": "code",
      "execution_count": null,
      "metadata": {},
      "outputs": [],
      "source": [
        "del img_dict"
      ]
    },
    {
      "cell_type": "code",
      "execution_count": null,
      "metadata": {},
      "outputs": [],
      "source": [
        "# # Load from pickle file\n",
        "# with open('/content/drive/MyDrive/habitat_output/img_dict.pkl', 'rb') as file:\n",
        "#     img_dict = pickle.load(file)\n"
      ]
    },
    {
      "cell_type": "markdown",
      "metadata": {},
      "source": [
        "# Experiments"
      ]
    },
    {
      "cell_type": "code",
      "execution_count": 30,
      "metadata": {
        "colab": {
          "base_uri": "https://localhost:8080/",
          "height": 1000
        },
        "id": "RwssFk4G293K",
        "outputId": "a824ffb5-38b7-47c3-fb8c-81b4fd82545e"
      },
      "outputs": [
        {
          "data": {
            "image/png": "[encoded data removed]",
            "text/plain": [
              "<Figure size 640x480 with 1 Axes>"
            ]
          },
          "metadata": {},
          "output_type": "display_data"
        },
        {
          "data": {
            "image/png": "[encoded data removed]",
            "text/plain": [
              "<Figure size 640x480 with 1 Axes>"
            ]
          },
          "metadata": {},
          "output_type": "display_data"
        },
        {
          "data": {
            "image/png": "[encoded data removed]",
            "text/plain": [
              "<Figure size 640x480 with 1 Axes>"
            ]
          },
          "metadata": {},
          "output_type": "display_data"
        }
      ],
      "source": [
        "#Code to visualize separate masks for a single image\n",
        "\n",
        "img_id = '1'\n",
        "\n",
        "# Load the image\n",
        "img_path = img_dict[img_id]['img_path']\n",
        "img = cv2.imread(img_path)\n",
        "img = cv2.cvtColor(img, cv2.COLOR_BGR2RGB)  # Convert from BGR to RGB\n",
        "\n",
        "# Get the object data for the image\n",
        "objs = img_dict[img_id]['objs']\n",
        "\n",
        "# Loop through each object in the image\n",
        "for obj_index, obj_data in objs.items():\n",
        "    # Get the mask for the object\n",
        "    mask = obj_data['mask']\n",
        "    obj_name = obj_data['phrase']\n",
        "\n",
        "    # If the mask isn't a numpy array, convert it to one\n",
        "    if not isinstance(mask, np.ndarray):\n",
        "        mask = mask.numpy()\n",
        "\n",
        "    # Apply the mask to the image. This assumes your mask is binary (0s and 1s).\n",
        "    # If it isn't, you may need to adjust this step accordingly.\n",
        "    masked_image = img * np.expand_dims(mask, axis=2)\n",
        "\n",
        "    # Display the masked image\n",
        "    plt.figure()\n",
        "    plt.imshow(masked_image)\n",
        "    plt.title(f\"Object {obj_name}\")\n",
        "    plt.show()\n"
      ]
    },
    {
      "cell_type": "code",
      "execution_count": 31,
      "metadata": {
        "colab": {
          "base_uri": "https://localhost:8080/",
          "height": 345
        },
        "id": "B0JsmSZe5NKx",
        "outputId": "bc403c86-ec63-4d24-b887-a35c7dc25e16"
      },
      "outputs": [
        {
          "data": {
            "image/png": "[encoded data removed]",
            "text/plain": [
              "<Figure size 640x480 with 1 Axes>"
            ]
          },
          "metadata": {},
          "output_type": "display_data"
        }
      ],
      "source": [
        "#Code to draw the segmentation mask on the image\n",
        "\n",
        "from torchvision.utils import draw_segmentation_masks\n",
        "\n",
        "# Load the image\n",
        "img_id = '1'\n",
        "img_path = img_dict[img_id]['img_path']\n",
        "img = Image.open(img_path)  # Load with PIL to avoid needing to convert color spaces\n",
        "\n",
        "transform = transforms.Compose([transforms.ToTensor()])\n",
        "img_tensor = transform(img)\n",
        "img_tensor = (img_tensor * 255).byte()\n",
        "\n",
        "masks = []\n",
        "mask_colors = []\n",
        "\n",
        "objs = img_dict[img_id]['objs']\n",
        "\n",
        "for obj_index, obj_data in objs.items():\n",
        "    mask = obj_data['mask']\n",
        "\n",
        "    phrase = obj_data['phrase']\n",
        "    phrase = phrase.split()[0] #Use only the first phrase\n",
        "\n",
        "    # If the mask isn't a numpy array, convert it to one\n",
        "    if not isinstance(mask, np.ndarray):\n",
        "        mask = mask.numpy()\n",
        "\n",
        "    # Add the mask to the list of masks\n",
        "    masks.append(mask)\n",
        "    #Cheeck the color for the mask and add it to the list\n",
        "    color = colors[req_tags.index(phrase)]\n",
        "    mask_colors.append(color)\n",
        "\n",
        "# Convert the masks to a boolean tensor\n",
        "masks_tensor = torch.tensor(masks, dtype=torch.bool)\n",
        "\n",
        "# Draw all masks on the image\n",
        "result = draw_segmentation_masks(img_tensor, masks_tensor, colors=mask_colors)\n",
        "\n",
        "# Convert the result tensor back to a PIL image, transpose the dimensions back to H,W,C for PIL\n",
        "result_img = Image.fromarray(result.permute(1, 2, 0).byte().cpu().numpy())\n",
        "\n",
        "# Display the image with all masks\n",
        "plt.imshow(result_img)\n",
        "plt.show()\n"
      ]
    }
  ],
  "metadata": {
    "accelerator": "GPU",
    "colab": {
      "machine_shape": "hm",
      "provenance": []
    },
    "kernelspec": {
      "display_name": "sam",
      "language": "python",
      "name": "python3"
    },
    "language_info": {
      "codemirror_mode": {
        "name": "ipython",
        "version": 3
      },
      "file_extension": ".py",
      "mimetype": "text/x-python",
      "name": "python",
      "nbconvert_exporter": "python",
      "pygments_lexer": "ipython3",
      "version": "3.11.4"
    },
    "vscode": {
      "interpreter": {
        "hash": "ae7e490a50ec599c751ae1d6643aabb89cd583d53a7c2ab4ac26c2944404b2a0"
      }
    },
    "widgets": {
      "application/vnd.jupyter.widget-state+json": {
        "04e504edf8f949428d9c88833efc7c21": {
          "model_module": "@jupyter-widgets/controls",
          "model_module_version": "1.5.0",
          "model_name": "HTMLModel",
          "state": {
            "_dom_classes": [],
            "_model_module": "@jupyter-widgets/controls",
            "_model_module_version": "1.5.0",
            "_model_name": "HTMLModel",
            "_view_count": null,
            "_view_module": "@jupyter-widgets/controls",
            "_view_module_version": "1.5.0",
            "_view_name": "HTMLView",
            "description": "",
            "description_tooltip": null,
            "layout": "IPY_MODEL_a8805ffe97f64b29806e8251aca9de82",
            "placeholder": "​",
            "style": "IPY_MODEL_4a0a269d902645518219aa71101125a7",
            "value": " 466k/466k [00:00&lt;00:00, 1.90MB/s]"
          }
        },
        "13018fa5b9dd45bcb13b92b87fec0612": {
          "model_module": "@jupyter-widgets/base",
          "model_module_version": "1.2.0",
          "model_name": "LayoutModel",
          "state": {
            "_model_module": "@jupyter-widgets/base",
            "_model_module_version": "1.2.0",
            "_model_name": "LayoutModel",
            "_view_count": null,
            "_view_module": "@jupyter-widgets/base",
            "_view_module_version": "1.2.0",
            "_view_name": "LayoutView",
            "align_content": null,
            "align_items": null,
            "align_self": null,
            "border": null,
            "bottom": null,
            "display": null,
            "flex": null,
            "flex_flow": null,
            "grid_area": null,
            "grid_auto_columns": null,
            "grid_auto_flow": null,
            "grid_auto_rows": null,
            "grid_column": null,
            "grid_gap": null,
            "grid_row": null,
            "grid_template_areas": null,
            "grid_template_columns": null,
            "grid_template_rows": null,
            "height": null,
            "justify_content": null,
            "justify_items": null,
            "left": null,
            "margin": null,
            "max_height": null,
            "max_width": null,
            "min_height": null,
            "min_width": null,
            "object_fit": null,
            "object_position": null,
            "order": null,
            "overflow": null,
            "overflow_x": null,
            "overflow_y": null,
            "padding": null,
            "right": null,
            "top": null,
            "visibility": null,
            "width": null
          }
        },
        "1491132eb14b4836b081fb957a3f630f": {
          "model_module": "@jupyter-widgets/base",
          "model_module_version": "1.2.0",
          "model_name": "LayoutModel",
          "state": {
            "_model_module": "@jupyter-widgets/base",
            "_model_module_version": "1.2.0",
            "_model_name": "LayoutModel",
            "_view_count": null,
            "_view_module": "@jupyter-widgets/base",
            "_view_module_version": "1.2.0",
            "_view_name": "LayoutView",
            "align_content": null,
            "align_items": null,
            "align_self": null,
            "border": null,
            "bottom": null,
            "display": null,
            "flex": null,
            "flex_flow": null,
            "grid_area": null,
            "grid_auto_columns": null,
            "grid_auto_flow": null,
            "grid_auto_rows": null,
            "grid_column": null,
            "grid_gap": null,
            "grid_row": null,
            "grid_template_areas": null,
            "grid_template_columns": null,
            "grid_template_rows": null,
            "height": null,
            "justify_content": null,
            "justify_items": null,
            "left": null,
            "margin": null,
            "max_height": null,
            "max_width": null,
            "min_height": null,
            "min_width": null,
            "object_fit": null,
            "object_position": null,
            "order": null,
            "overflow": null,
            "overflow_x": null,
            "overflow_y": null,
            "padding": null,
            "right": null,
            "top": null,
            "visibility": null,
            "width": null
          }
        },
        "20b50aad30904d6fbd6c2bf0c202a0bd": {
          "model_module": "@jupyter-widgets/controls",
          "model_module_version": "1.5.0",
          "model_name": "ProgressStyleModel",
          "state": {
            "_model_module": "@jupyter-widgets/controls",
            "_model_module_version": "1.5.0",
            "_model_name": "ProgressStyleModel",
            "_view_count": null,
            "_view_module": "@jupyter-widgets/base",
            "_view_module_version": "1.2.0",
            "_view_name": "StyleView",
            "bar_color": null,
            "description_width": ""
          }
        },
        "26cc9dcc2c7d48ffa5be6ea18a51db97": {
          "model_module": "@jupyter-widgets/controls",
          "model_module_version": "1.5.0",
          "model_name": "ProgressStyleModel",
          "state": {
            "_model_module": "@jupyter-widgets/controls",
            "_model_module_version": "1.5.0",
            "_model_name": "ProgressStyleModel",
            "_view_count": null,
            "_view_module": "@jupyter-widgets/base",
            "_view_module_version": "1.2.0",
            "_view_name": "StyleView",
            "bar_color": null,
            "description_width": ""
          }
        },
        "2e9965e0500840e58f52bffa8636f90e": {
          "model_module": "@jupyter-widgets/controls",
          "model_module_version": "1.5.0",
          "model_name": "HBoxModel",
          "state": {
            "_dom_classes": [],
            "_model_module": "@jupyter-widgets/controls",
            "_model_module_version": "1.5.0",
            "_model_name": "HBoxModel",
            "_view_count": null,
            "_view_module": "@jupyter-widgets/controls",
            "_view_module_version": "1.5.0",
            "_view_name": "HBoxView",
            "box_style": "",
            "children": [
              "IPY_MODEL_e56804186464441fa5b9cf7618843f88",
              "IPY_MODEL_86504c1627d14f4e9db6fba4d9bc9d03",
              "IPY_MODEL_75d60b958d824913ac1f986d51b01b7a"
            ],
            "layout": "IPY_MODEL_3d3138d332694cc281bf2fef049e849b"
          }
        },
        "327226e663594b369890367566265c24": {
          "model_module": "@jupyter-widgets/controls",
          "model_module_version": "1.5.0",
          "model_name": "DescriptionStyleModel",
          "state": {
            "_model_module": "@jupyter-widgets/controls",
            "_model_module_version": "1.5.0",
            "_model_name": "DescriptionStyleModel",
            "_view_count": null,
            "_view_module": "@jupyter-widgets/base",
            "_view_module_version": "1.2.0",
            "_view_name": "StyleView",
            "description_width": ""
          }
        },
        "351deb86d39c4447819536b78b645d97": {
          "model_module": "@jupyter-widgets/base",
          "model_module_version": "1.2.0",
          "model_name": "LayoutModel",
          "state": {
            "_model_module": "@jupyter-widgets/base",
            "_model_module_version": "1.2.0",
            "_model_name": "LayoutModel",
            "_view_count": null,
            "_view_module": "@jupyter-widgets/base",
            "_view_module_version": "1.2.0",
            "_view_name": "LayoutView",
            "align_content": null,
            "align_items": null,
            "align_self": null,
            "border": null,
            "bottom": null,
            "display": null,
            "flex": null,
            "flex_flow": null,
            "grid_area": null,
            "grid_auto_columns": null,
            "grid_auto_flow": null,
            "grid_auto_rows": null,
            "grid_column": null,
            "grid_gap": null,
            "grid_row": null,
            "grid_template_areas": null,
            "grid_template_columns": null,
            "grid_template_rows": null,
            "height": null,
            "justify_content": null,
            "justify_items": null,
            "left": null,
            "margin": null,
            "max_height": null,
            "max_width": null,
            "min_height": null,
            "min_width": null,
            "object_fit": null,
            "object_position": null,
            "order": null,
            "overflow": null,
            "overflow_x": null,
            "overflow_y": null,
            "padding": null,
            "right": null,
            "top": null,
            "visibility": null,
            "width": null
          }
        },
        "3b3f7ce37e5943c5995c12da3aa0112c": {
          "model_module": "@jupyter-widgets/base",
          "model_module_version": "1.2.0",
          "model_name": "LayoutModel",
          "state": {
            "_model_module": "@jupyter-widgets/base",
            "_model_module_version": "1.2.0",
            "_model_name": "LayoutModel",
            "_view_count": null,
            "_view_module": "@jupyter-widgets/base",
            "_view_module_version": "1.2.0",
            "_view_name": "LayoutView",
            "align_content": null,
            "align_items": null,
            "align_self": null,
            "border": null,
            "bottom": null,
            "display": null,
            "flex": null,
            "flex_flow": null,
            "grid_area": null,
            "grid_auto_columns": null,
            "grid_auto_flow": null,
            "grid_auto_rows": null,
            "grid_column": null,
            "grid_gap": null,
            "grid_row": null,
            "grid_template_areas": null,
            "grid_template_columns": null,
            "grid_template_rows": null,
            "height": null,
            "justify_content": null,
            "justify_items": null,
            "left": null,
            "margin": null,
            "max_height": null,
            "max_width": null,
            "min_height": null,
            "min_width": null,
            "object_fit": null,
            "object_position": null,
            "order": null,
            "overflow": null,
            "overflow_x": null,
            "overflow_y": null,
            "padding": null,
            "right": null,
            "top": null,
            "visibility": null,
            "width": null
          }
        },
        "3d30d1e917f84cbea3abeef5b25c1862": {
          "model_module": "@jupyter-widgets/controls",
          "model_module_version": "1.5.0",
          "model_name": "HTMLModel",
          "state": {
            "_dom_classes": [],
            "_model_module": "@jupyter-widgets/controls",
            "_model_module_version": "1.5.0",
            "_model_name": "HTMLModel",
            "_view_count": null,
            "_view_module": "@jupyter-widgets/controls",
            "_view_module_version": "1.5.0",
            "_view_name": "HTMLView",
            "description": "",
            "description_tooltip": null,
            "layout": "IPY_MODEL_81b5592f3b6344708f62af5ab51800e7",
            "placeholder": "​",
            "style": "IPY_MODEL_327226e663594b369890367566265c24",
            "value": "Downloading (…)lve/main/config.json: 100%"
          }
        },
        "3d3138d332694cc281bf2fef049e849b": {
          "model_module": "@jupyter-widgets/base",
          "model_module_version": "1.2.0",
          "model_name": "LayoutModel",
          "state": {
            "_model_module": "@jupyter-widgets/base",
            "_model_module_version": "1.2.0",
            "_model_name": "LayoutModel",
            "_view_count": null,
            "_view_module": "@jupyter-widgets/base",
            "_view_module_version": "1.2.0",
            "_view_name": "LayoutView",
            "align_content": null,
            "align_items": null,
            "align_self": null,
            "border": null,
            "bottom": null,
            "display": null,
            "flex": null,
            "flex_flow": null,
            "grid_area": null,
            "grid_auto_columns": null,
            "grid_auto_flow": null,
            "grid_auto_rows": null,
            "grid_column": null,
            "grid_gap": null,
            "grid_row": null,
            "grid_template_areas": null,
            "grid_template_columns": null,
            "grid_template_rows": null,
            "height": null,
            "justify_content": null,
            "justify_items": null,
            "left": null,
            "margin": null,
            "max_height": null,
            "max_width": null,
            "min_height": null,
            "min_width": null,
            "object_fit": null,
            "object_position": null,
            "order": null,
            "overflow": null,
            "overflow_x": null,
            "overflow_y": null,
            "padding": null,
            "right": null,
            "top": null,
            "visibility": null,
            "width": null
          }
        },
        "4183ec9c5d7e4dbf8f78d90a1cfab1c8": {
          "model_module": "@jupyter-widgets/controls",
          "model_module_version": "1.5.0",
          "model_name": "ProgressStyleModel",
          "state": {
            "_model_module": "@jupyter-widgets/controls",
            "_model_module_version": "1.5.0",
            "_model_name": "ProgressStyleModel",
            "_view_count": null,
            "_view_module": "@jupyter-widgets/base",
            "_view_module_version": "1.2.0",
            "_view_name": "StyleView",
            "bar_color": null,
            "description_width": ""
          }
        },
        "43331b3efadc44fb8bd48623efff6336": {
          "model_module": "@jupyter-widgets/controls",
          "model_module_version": "1.5.0",
          "model_name": "DescriptionStyleModel",
          "state": {
            "_model_module": "@jupyter-widgets/controls",
            "_model_module_version": "1.5.0",
            "_model_name": "DescriptionStyleModel",
            "_view_count": null,
            "_view_module": "@jupyter-widgets/base",
            "_view_module_version": "1.2.0",
            "_view_name": "StyleView",
            "description_width": ""
          }
        },
        "4416d4be8664450ebbcd080b79a7a7da": {
          "model_module": "@jupyter-widgets/controls",
          "model_module_version": "1.5.0",
          "model_name": "HBoxModel",
          "state": {
            "_dom_classes": [],
            "_model_module": "@jupyter-widgets/controls",
            "_model_module_version": "1.5.0",
            "_model_name": "HBoxModel",
            "_view_count": null,
            "_view_module": "@jupyter-widgets/controls",
            "_view_module_version": "1.5.0",
            "_view_name": "HBoxView",
            "box_style": "",
            "children": [
              "IPY_MODEL_3d30d1e917f84cbea3abeef5b25c1862",
              "IPY_MODEL_b09344aa2c9e4ab3b57c18e7c6202c75",
              "IPY_MODEL_c700b748f77547889b408e19f086d1f9"
            ],
            "layout": "IPY_MODEL_7fb27ba503b4421b9a66edc6e753333d"
          }
        },
        "4a0a269d902645518219aa71101125a7": {
          "model_module": "@jupyter-widgets/controls",
          "model_module_version": "1.5.0",
          "model_name": "DescriptionStyleModel",
          "state": {
            "_model_module": "@jupyter-widgets/controls",
            "_model_module_version": "1.5.0",
            "_model_name": "DescriptionStyleModel",
            "_view_count": null,
            "_view_module": "@jupyter-widgets/base",
            "_view_module_version": "1.2.0",
            "_view_name": "StyleView",
            "description_width": ""
          }
        },
        "4b508bf35abd4a8785d3c2fe34826ebe": {
          "model_module": "@jupyter-widgets/controls",
          "model_module_version": "1.5.0",
          "model_name": "ProgressStyleModel",
          "state": {
            "_model_module": "@jupyter-widgets/controls",
            "_model_module_version": "1.5.0",
            "_model_name": "ProgressStyleModel",
            "_view_count": null,
            "_view_module": "@jupyter-widgets/base",
            "_view_module_version": "1.2.0",
            "_view_name": "StyleView",
            "bar_color": null,
            "description_width": ""
          }
        },
        "581f67eb04144ff5964ef4b91b7b567e": {
          "model_module": "@jupyter-widgets/controls",
          "model_module_version": "1.5.0",
          "model_name": "HTMLModel",
          "state": {
            "_dom_classes": [],
            "_model_module": "@jupyter-widgets/controls",
            "_model_module_version": "1.5.0",
            "_model_name": "HTMLModel",
            "_view_count": null,
            "_view_module": "@jupyter-widgets/controls",
            "_view_module_version": "1.5.0",
            "_view_name": "HTMLView",
            "description": "",
            "description_tooltip": null,
            "layout": "IPY_MODEL_7d38565ca4df4a1a9c784d675bf866c1",
            "placeholder": "​",
            "style": "IPY_MODEL_d41180caf8ad478f9c0a8f82660b0246",
            "value": " 28.0/28.0 [00:00&lt;00:00, 1.85kB/s]"
          }
        },
        "5c2d52b97abd4ad999b35f3639ad4550": {
          "model_module": "@jupyter-widgets/controls",
          "model_module_version": "1.5.0",
          "model_name": "DescriptionStyleModel",
          "state": {
            "_model_module": "@jupyter-widgets/controls",
            "_model_module_version": "1.5.0",
            "_model_name": "DescriptionStyleModel",
            "_view_count": null,
            "_view_module": "@jupyter-widgets/base",
            "_view_module_version": "1.2.0",
            "_view_name": "StyleView",
            "description_width": ""
          }
        },
        "71d6306fd9b14b22892b88331db72886": {
          "model_module": "@jupyter-widgets/controls",
          "model_module_version": "1.5.0",
          "model_name": "DescriptionStyleModel",
          "state": {
            "_model_module": "@jupyter-widgets/controls",
            "_model_module_version": "1.5.0",
            "_model_name": "DescriptionStyleModel",
            "_view_count": null,
            "_view_module": "@jupyter-widgets/base",
            "_view_module_version": "1.2.0",
            "_view_name": "StyleView",
            "description_width": ""
          }
        },
        "72b774a3f1f14c988c7e3c37e4358fb0": {
          "model_module": "@jupyter-widgets/controls",
          "model_module_version": "1.5.0",
          "model_name": "FloatProgressModel",
          "state": {
            "_dom_classes": [],
            "_model_module": "@jupyter-widgets/controls",
            "_model_module_version": "1.5.0",
            "_model_name": "FloatProgressModel",
            "_view_count": null,
            "_view_module": "@jupyter-widgets/controls",
            "_view_module_version": "1.5.0",
            "_view_name": "ProgressView",
            "bar_style": "success",
            "description": "",
            "description_tooltip": null,
            "layout": "IPY_MODEL_b65e1e7b83fc43279f44daac5cca240d",
            "max": 28,
            "min": 0,
            "orientation": "horizontal",
            "style": "IPY_MODEL_94f3304e390444899e0e556de89211e0",
            "value": 28
          }
        },
        "75d60b958d824913ac1f986d51b01b7a": {
          "model_module": "@jupyter-widgets/controls",
          "model_module_version": "1.5.0",
          "model_name": "HTMLModel",
          "state": {
            "_dom_classes": [],
            "_model_module": "@jupyter-widgets/controls",
            "_model_module_version": "1.5.0",
            "_model_name": "HTMLModel",
            "_view_count": null,
            "_view_module": "@jupyter-widgets/controls",
            "_view_module_version": "1.5.0",
            "_view_name": "HTMLView",
            "description": "",
            "description_tooltip": null,
            "layout": "IPY_MODEL_d9aec613b0e94d68a567b55db70ae9d5",
            "placeholder": "​",
            "style": "IPY_MODEL_71d6306fd9b14b22892b88331db72886",
            "value": " 232k/232k [00:00&lt;00:00, 8.82MB/s]"
          }
        },
        "7ac391c29a094d2b875e953d05065712": {
          "model_module": "@jupyter-widgets/controls",
          "model_module_version": "1.5.0",
          "model_name": "HTMLModel",
          "state": {
            "_dom_classes": [],
            "_model_module": "@jupyter-widgets/controls",
            "_model_module_version": "1.5.0",
            "_model_name": "HTMLModel",
            "_view_count": null,
            "_view_module": "@jupyter-widgets/controls",
            "_view_module_version": "1.5.0",
            "_view_name": "HTMLView",
            "description": "",
            "description_tooltip": null,
            "layout": "IPY_MODEL_fe8f7952eb7c42b289af3cf9ca4fb9f7",
            "placeholder": "​",
            "style": "IPY_MODEL_5c2d52b97abd4ad999b35f3639ad4550",
            "value": "Downloading (…)/main/tokenizer.json: 100%"
          }
        },
        "7d38565ca4df4a1a9c784d675bf866c1": {
          "model_module": "@jupyter-widgets/base",
          "model_module_version": "1.2.0",
          "model_name": "LayoutModel",
          "state": {
            "_model_module": "@jupyter-widgets/base",
            "_model_module_version": "1.2.0",
            "_model_name": "LayoutModel",
            "_view_count": null,
            "_view_module": "@jupyter-widgets/base",
            "_view_module_version": "1.2.0",
            "_view_name": "LayoutView",
            "align_content": null,
            "align_items": null,
            "align_self": null,
            "border": null,
            "bottom": null,
            "display": null,
            "flex": null,
            "flex_flow": null,
            "grid_area": null,
            "grid_auto_columns": null,
            "grid_auto_flow": null,
            "grid_auto_rows": null,
            "grid_column": null,
            "grid_gap": null,
            "grid_row": null,
            "grid_template_areas": null,
            "grid_template_columns": null,
            "grid_template_rows": null,
            "height": null,
            "justify_content": null,
            "justify_items": null,
            "left": null,
            "margin": null,
            "max_height": null,
            "max_width": null,
            "min_height": null,
            "min_width": null,
            "object_fit": null,
            "object_position": null,
            "order": null,
            "overflow": null,
            "overflow_x": null,
            "overflow_y": null,
            "padding": null,
            "right": null,
            "top": null,
            "visibility": null,
            "width": null
          }
        },
        "7fb27ba503b4421b9a66edc6e753333d": {
          "model_module": "@jupyter-widgets/base",
          "model_module_version": "1.2.0",
          "model_name": "LayoutModel",
          "state": {
            "_model_module": "@jupyter-widgets/base",
            "_model_module_version": "1.2.0",
            "_model_name": "LayoutModel",
            "_view_count": null,
            "_view_module": "@jupyter-widgets/base",
            "_view_module_version": "1.2.0",
            "_view_name": "LayoutView",
            "align_content": null,
            "align_items": null,
            "align_self": null,
            "border": null,
            "bottom": null,
            "display": null,
            "flex": null,
            "flex_flow": null,
            "grid_area": null,
            "grid_auto_columns": null,
            "grid_auto_flow": null,
            "grid_auto_rows": null,
            "grid_column": null,
            "grid_gap": null,
            "grid_row": null,
            "grid_template_areas": null,
            "grid_template_columns": null,
            "grid_template_rows": null,
            "height": null,
            "justify_content": null,
            "justify_items": null,
            "left": null,
            "margin": null,
            "max_height": null,
            "max_width": null,
            "min_height": null,
            "min_width": null,
            "object_fit": null,
            "object_position": null,
            "order": null,
            "overflow": null,
            "overflow_x": null,
            "overflow_y": null,
            "padding": null,
            "right": null,
            "top": null,
            "visibility": null,
            "width": null
          }
        },
        "80f48003e0d34f3f8fc5b1c1cb2976b8": {
          "model_module": "@jupyter-widgets/base",
          "model_module_version": "1.2.0",
          "model_name": "LayoutModel",
          "state": {
            "_model_module": "@jupyter-widgets/base",
            "_model_module_version": "1.2.0",
            "_model_name": "LayoutModel",
            "_view_count": null,
            "_view_module": "@jupyter-widgets/base",
            "_view_module_version": "1.2.0",
            "_view_name": "LayoutView",
            "align_content": null,
            "align_items": null,
            "align_self": null,
            "border": null,
            "bottom": null,
            "display": null,
            "flex": null,
            "flex_flow": null,
            "grid_area": null,
            "grid_auto_columns": null,
            "grid_auto_flow": null,
            "grid_auto_rows": null,
            "grid_column": null,
            "grid_gap": null,
            "grid_row": null,
            "grid_template_areas": null,
            "grid_template_columns": null,
            "grid_template_rows": null,
            "height": null,
            "justify_content": null,
            "justify_items": null,
            "left": null,
            "margin": null,
            "max_height": null,
            "max_width": null,
            "min_height": null,
            "min_width": null,
            "object_fit": null,
            "object_position": null,
            "order": null,
            "overflow": null,
            "overflow_x": null,
            "overflow_y": null,
            "padding": null,
            "right": null,
            "top": null,
            "visibility": null,
            "width": null
          }
        },
        "81b5592f3b6344708f62af5ab51800e7": {
          "model_module": "@jupyter-widgets/base",
          "model_module_version": "1.2.0",
          "model_name": "LayoutModel",
          "state": {
            "_model_module": "@jupyter-widgets/base",
            "_model_module_version": "1.2.0",
            "_model_name": "LayoutModel",
            "_view_count": null,
            "_view_module": "@jupyter-widgets/base",
            "_view_module_version": "1.2.0",
            "_view_name": "LayoutView",
            "align_content": null,
            "align_items": null,
            "align_self": null,
            "border": null,
            "bottom": null,
            "display": null,
            "flex": null,
            "flex_flow": null,
            "grid_area": null,
            "grid_auto_columns": null,
            "grid_auto_flow": null,
            "grid_auto_rows": null,
            "grid_column": null,
            "grid_gap": null,
            "grid_row": null,
            "grid_template_areas": null,
            "grid_template_columns": null,
            "grid_template_rows": null,
            "height": null,
            "justify_content": null,
            "justify_items": null,
            "left": null,
            "margin": null,
            "max_height": null,
            "max_width": null,
            "min_height": null,
            "min_width": null,
            "object_fit": null,
            "object_position": null,
            "order": null,
            "overflow": null,
            "overflow_x": null,
            "overflow_y": null,
            "padding": null,
            "right": null,
            "top": null,
            "visibility": null,
            "width": null
          }
        },
        "826834cda0a143138896c0294dd8f7bf": {
          "model_module": "@jupyter-widgets/controls",
          "model_module_version": "1.5.0",
          "model_name": "HBoxModel",
          "state": {
            "_dom_classes": [],
            "_model_module": "@jupyter-widgets/controls",
            "_model_module_version": "1.5.0",
            "_model_name": "HBoxModel",
            "_view_count": null,
            "_view_module": "@jupyter-widgets/controls",
            "_view_module_version": "1.5.0",
            "_view_name": "HBoxView",
            "box_style": "",
            "children": [
              "IPY_MODEL_c8f88ed0f91a442391aadb929ff515e9",
              "IPY_MODEL_72b774a3f1f14c988c7e3c37e4358fb0",
              "IPY_MODEL_581f67eb04144ff5964ef4b91b7b567e"
            ],
            "layout": "IPY_MODEL_dad4bdc7e18443629d96903fc5783d72"
          }
        },
        "855d8bc31332444a88f45d8ed5e2c9d2": {
          "model_module": "@jupyter-widgets/controls",
          "model_module_version": "1.5.0",
          "model_name": "DescriptionStyleModel",
          "state": {
            "_model_module": "@jupyter-widgets/controls",
            "_model_module_version": "1.5.0",
            "_model_name": "DescriptionStyleModel",
            "_view_count": null,
            "_view_module": "@jupyter-widgets/base",
            "_view_module_version": "1.2.0",
            "_view_name": "StyleView",
            "description_width": ""
          }
        },
        "85fc18a793c64d7ea176105a100c3f5b": {
          "model_module": "@jupyter-widgets/base",
          "model_module_version": "1.2.0",
          "model_name": "LayoutModel",
          "state": {
            "_model_module": "@jupyter-widgets/base",
            "_model_module_version": "1.2.0",
            "_model_name": "LayoutModel",
            "_view_count": null,
            "_view_module": "@jupyter-widgets/base",
            "_view_module_version": "1.2.0",
            "_view_name": "LayoutView",
            "align_content": null,
            "align_items": null,
            "align_self": null,
            "border": null,
            "bottom": null,
            "display": null,
            "flex": null,
            "flex_flow": null,
            "grid_area": null,
            "grid_auto_columns": null,
            "grid_auto_flow": null,
            "grid_auto_rows": null,
            "grid_column": null,
            "grid_gap": null,
            "grid_row": null,
            "grid_template_areas": null,
            "grid_template_columns": null,
            "grid_template_rows": null,
            "height": null,
            "justify_content": null,
            "justify_items": null,
            "left": null,
            "margin": null,
            "max_height": null,
            "max_width": null,
            "min_height": null,
            "min_width": null,
            "object_fit": null,
            "object_position": null,
            "order": null,
            "overflow": null,
            "overflow_x": null,
            "overflow_y": null,
            "padding": null,
            "right": null,
            "top": null,
            "visibility": null,
            "width": null
          }
        },
        "86504c1627d14f4e9db6fba4d9bc9d03": {
          "model_module": "@jupyter-widgets/controls",
          "model_module_version": "1.5.0",
          "model_name": "FloatProgressModel",
          "state": {
            "_dom_classes": [],
            "_model_module": "@jupyter-widgets/controls",
            "_model_module_version": "1.5.0",
            "_model_name": "FloatProgressModel",
            "_view_count": null,
            "_view_module": "@jupyter-widgets/controls",
            "_view_module_version": "1.5.0",
            "_view_name": "ProgressView",
            "bar_style": "success",
            "description": "",
            "description_tooltip": null,
            "layout": "IPY_MODEL_1491132eb14b4836b081fb957a3f630f",
            "max": 231508,
            "min": 0,
            "orientation": "horizontal",
            "style": "IPY_MODEL_4183ec9c5d7e4dbf8f78d90a1cfab1c8",
            "value": 231508
          }
        },
        "94f3304e390444899e0e556de89211e0": {
          "model_module": "@jupyter-widgets/controls",
          "model_module_version": "1.5.0",
          "model_name": "ProgressStyleModel",
          "state": {
            "_model_module": "@jupyter-widgets/controls",
            "_model_module_version": "1.5.0",
            "_model_name": "ProgressStyleModel",
            "_view_count": null,
            "_view_module": "@jupyter-widgets/base",
            "_view_module_version": "1.2.0",
            "_view_name": "StyleView",
            "bar_color": null,
            "description_width": ""
          }
        },
        "988fdbc475a5475dae445c381b5596aa": {
          "model_module": "@jupyter-widgets/controls",
          "model_module_version": "1.5.0",
          "model_name": "DescriptionStyleModel",
          "state": {
            "_model_module": "@jupyter-widgets/controls",
            "_model_module_version": "1.5.0",
            "_model_name": "DescriptionStyleModel",
            "_view_count": null,
            "_view_module": "@jupyter-widgets/base",
            "_view_module_version": "1.2.0",
            "_view_name": "StyleView",
            "description_width": ""
          }
        },
        "99b954c2d2e147109cb6f25a3e35eba2": {
          "model_module": "@jupyter-widgets/controls",
          "model_module_version": "1.5.0",
          "model_name": "HTMLModel",
          "state": {
            "_dom_classes": [],
            "_model_module": "@jupyter-widgets/controls",
            "_model_module_version": "1.5.0",
            "_model_name": "HTMLModel",
            "_view_count": null,
            "_view_module": "@jupyter-widgets/controls",
            "_view_module_version": "1.5.0",
            "_view_name": "HTMLView",
            "description": "",
            "description_tooltip": null,
            "layout": "IPY_MODEL_9b754af8ed7d4497a9ece7b255235f8d",
            "placeholder": "​",
            "style": "IPY_MODEL_988fdbc475a5475dae445c381b5596aa",
            "value": " 440M/440M [00:01&lt;00:00, 379MB/s]"
          }
        },
        "9a49c86bd47648a0965a25be2f0002cc": {
          "model_module": "@jupyter-widgets/controls",
          "model_module_version": "1.5.0",
          "model_name": "FloatProgressModel",
          "state": {
            "_dom_classes": [],
            "_model_module": "@jupyter-widgets/controls",
            "_model_module_version": "1.5.0",
            "_model_name": "FloatProgressModel",
            "_view_count": null,
            "_view_module": "@jupyter-widgets/controls",
            "_view_module_version": "1.5.0",
            "_view_name": "ProgressView",
            "bar_style": "success",
            "description": "",
            "description_tooltip": null,
            "layout": "IPY_MODEL_b0291f4b2d044a898f22931cc3b060f1",
            "max": 440449768,
            "min": 0,
            "orientation": "horizontal",
            "style": "IPY_MODEL_4b508bf35abd4a8785d3c2fe34826ebe",
            "value": 440449768
          }
        },
        "9b754af8ed7d4497a9ece7b255235f8d": {
          "model_module": "@jupyter-widgets/base",
          "model_module_version": "1.2.0",
          "model_name": "LayoutModel",
          "state": {
            "_model_module": "@jupyter-widgets/base",
            "_model_module_version": "1.2.0",
            "_model_name": "LayoutModel",
            "_view_count": null,
            "_view_module": "@jupyter-widgets/base",
            "_view_module_version": "1.2.0",
            "_view_name": "LayoutView",
            "align_content": null,
            "align_items": null,
            "align_self": null,
            "border": null,
            "bottom": null,
            "display": null,
            "flex": null,
            "flex_flow": null,
            "grid_area": null,
            "grid_auto_columns": null,
            "grid_auto_flow": null,
            "grid_auto_rows": null,
            "grid_column": null,
            "grid_gap": null,
            "grid_row": null,
            "grid_template_areas": null,
            "grid_template_columns": null,
            "grid_template_rows": null,
            "height": null,
            "justify_content": null,
            "justify_items": null,
            "left": null,
            "margin": null,
            "max_height": null,
            "max_width": null,
            "min_height": null,
            "min_width": null,
            "object_fit": null,
            "object_position": null,
            "order": null,
            "overflow": null,
            "overflow_x": null,
            "overflow_y": null,
            "padding": null,
            "right": null,
            "top": null,
            "visibility": null,
            "width": null
          }
        },
        "9e72f69d6b26453d8c143df4f6b1f06e": {
          "model_module": "@jupyter-widgets/controls",
          "model_module_version": "1.5.0",
          "model_name": "DescriptionStyleModel",
          "state": {
            "_model_module": "@jupyter-widgets/controls",
            "_model_module_version": "1.5.0",
            "_model_name": "DescriptionStyleModel",
            "_view_count": null,
            "_view_module": "@jupyter-widgets/base",
            "_view_module_version": "1.2.0",
            "_view_name": "StyleView",
            "description_width": ""
          }
        },
        "a601d8351eb64f088ab8c486502707e4": {
          "model_module": "@jupyter-widgets/base",
          "model_module_version": "1.2.0",
          "model_name": "LayoutModel",
          "state": {
            "_model_module": "@jupyter-widgets/base",
            "_model_module_version": "1.2.0",
            "_model_name": "LayoutModel",
            "_view_count": null,
            "_view_module": "@jupyter-widgets/base",
            "_view_module_version": "1.2.0",
            "_view_name": "LayoutView",
            "align_content": null,
            "align_items": null,
            "align_self": null,
            "border": null,
            "bottom": null,
            "display": null,
            "flex": null,
            "flex_flow": null,
            "grid_area": null,
            "grid_auto_columns": null,
            "grid_auto_flow": null,
            "grid_auto_rows": null,
            "grid_column": null,
            "grid_gap": null,
            "grid_row": null,
            "grid_template_areas": null,
            "grid_template_columns": null,
            "grid_template_rows": null,
            "height": null,
            "justify_content": null,
            "justify_items": null,
            "left": null,
            "margin": null,
            "max_height": null,
            "max_width": null,
            "min_height": null,
            "min_width": null,
            "object_fit": null,
            "object_position": null,
            "order": null,
            "overflow": null,
            "overflow_x": null,
            "overflow_y": null,
            "padding": null,
            "right": null,
            "top": null,
            "visibility": null,
            "width": null
          }
        },
        "a8805ffe97f64b29806e8251aca9de82": {
          "model_module": "@jupyter-widgets/base",
          "model_module_version": "1.2.0",
          "model_name": "LayoutModel",
          "state": {
            "_model_module": "@jupyter-widgets/base",
            "_model_module_version": "1.2.0",
            "_model_name": "LayoutModel",
            "_view_count": null,
            "_view_module": "@jupyter-widgets/base",
            "_view_module_version": "1.2.0",
            "_view_name": "LayoutView",
            "align_content": null,
            "align_items": null,
            "align_self": null,
            "border": null,
            "bottom": null,
            "display": null,
            "flex": null,
            "flex_flow": null,
            "grid_area": null,
            "grid_auto_columns": null,
            "grid_auto_flow": null,
            "grid_auto_rows": null,
            "grid_column": null,
            "grid_gap": null,
            "grid_row": null,
            "grid_template_areas": null,
            "grid_template_columns": null,
            "grid_template_rows": null,
            "height": null,
            "justify_content": null,
            "justify_items": null,
            "left": null,
            "margin": null,
            "max_height": null,
            "max_width": null,
            "min_height": null,
            "min_width": null,
            "object_fit": null,
            "object_position": null,
            "order": null,
            "overflow": null,
            "overflow_x": null,
            "overflow_y": null,
            "padding": null,
            "right": null,
            "top": null,
            "visibility": null,
            "width": null
          }
        },
        "abe808693c9e4890a5c38ca335c33d51": {
          "model_module": "@jupyter-widgets/controls",
          "model_module_version": "1.5.0",
          "model_name": "DescriptionStyleModel",
          "state": {
            "_model_module": "@jupyter-widgets/controls",
            "_model_module_version": "1.5.0",
            "_model_name": "DescriptionStyleModel",
            "_view_count": null,
            "_view_module": "@jupyter-widgets/base",
            "_view_module_version": "1.2.0",
            "_view_name": "StyleView",
            "description_width": ""
          }
        },
        "b0291f4b2d044a898f22931cc3b060f1": {
          "model_module": "@jupyter-widgets/base",
          "model_module_version": "1.2.0",
          "model_name": "LayoutModel",
          "state": {
            "_model_module": "@jupyter-widgets/base",
            "_model_module_version": "1.2.0",
            "_model_name": "LayoutModel",
            "_view_count": null,
            "_view_module": "@jupyter-widgets/base",
            "_view_module_version": "1.2.0",
            "_view_name": "LayoutView",
            "align_content": null,
            "align_items": null,
            "align_self": null,
            "border": null,
            "bottom": null,
            "display": null,
            "flex": null,
            "flex_flow": null,
            "grid_area": null,
            "grid_auto_columns": null,
            "grid_auto_flow": null,
            "grid_auto_rows": null,
            "grid_column": null,
            "grid_gap": null,
            "grid_row": null,
            "grid_template_areas": null,
            "grid_template_columns": null,
            "grid_template_rows": null,
            "height": null,
            "justify_content": null,
            "justify_items": null,
            "left": null,
            "margin": null,
            "max_height": null,
            "max_width": null,
            "min_height": null,
            "min_width": null,
            "object_fit": null,
            "object_position": null,
            "order": null,
            "overflow": null,
            "overflow_x": null,
            "overflow_y": null,
            "padding": null,
            "right": null,
            "top": null,
            "visibility": null,
            "width": null
          }
        },
        "b09344aa2c9e4ab3b57c18e7c6202c75": {
          "model_module": "@jupyter-widgets/controls",
          "model_module_version": "1.5.0",
          "model_name": "FloatProgressModel",
          "state": {
            "_dom_classes": [],
            "_model_module": "@jupyter-widgets/controls",
            "_model_module_version": "1.5.0",
            "_model_name": "FloatProgressModel",
            "_view_count": null,
            "_view_module": "@jupyter-widgets/controls",
            "_view_module_version": "1.5.0",
            "_view_name": "ProgressView",
            "bar_style": "success",
            "description": "",
            "description_tooltip": null,
            "layout": "IPY_MODEL_351deb86d39c4447819536b78b645d97",
            "max": 570,
            "min": 0,
            "orientation": "horizontal",
            "style": "IPY_MODEL_26cc9dcc2c7d48ffa5be6ea18a51db97",
            "value": 570
          }
        },
        "b65e1e7b83fc43279f44daac5cca240d": {
          "model_module": "@jupyter-widgets/base",
          "model_module_version": "1.2.0",
          "model_name": "LayoutModel",
          "state": {
            "_model_module": "@jupyter-widgets/base",
            "_model_module_version": "1.2.0",
            "_model_name": "LayoutModel",
            "_view_count": null,
            "_view_module": "@jupyter-widgets/base",
            "_view_module_version": "1.2.0",
            "_view_name": "LayoutView",
            "align_content": null,
            "align_items": null,
            "align_self": null,
            "border": null,
            "bottom": null,
            "display": null,
            "flex": null,
            "flex_flow": null,
            "grid_area": null,
            "grid_auto_columns": null,
            "grid_auto_flow": null,
            "grid_auto_rows": null,
            "grid_column": null,
            "grid_gap": null,
            "grid_row": null,
            "grid_template_areas": null,
            "grid_template_columns": null,
            "grid_template_rows": null,
            "height": null,
            "justify_content": null,
            "justify_items": null,
            "left": null,
            "margin": null,
            "max_height": null,
            "max_width": null,
            "min_height": null,
            "min_width": null,
            "object_fit": null,
            "object_position": null,
            "order": null,
            "overflow": null,
            "overflow_x": null,
            "overflow_y": null,
            "padding": null,
            "right": null,
            "top": null,
            "visibility": null,
            "width": null
          }
        },
        "c34218c813754a04adc3821dd86745b2": {
          "model_module": "@jupyter-widgets/controls",
          "model_module_version": "1.5.0",
          "model_name": "HBoxModel",
          "state": {
            "_dom_classes": [],
            "_model_module": "@jupyter-widgets/controls",
            "_model_module_version": "1.5.0",
            "_model_name": "HBoxModel",
            "_view_count": null,
            "_view_module": "@jupyter-widgets/controls",
            "_view_module_version": "1.5.0",
            "_view_name": "HBoxView",
            "box_style": "",
            "children": [
              "IPY_MODEL_7ac391c29a094d2b875e953d05065712",
              "IPY_MODEL_d5390edb1312428e9f3eb126dc284065",
              "IPY_MODEL_04e504edf8f949428d9c88833efc7c21"
            ],
            "layout": "IPY_MODEL_eb8de5229523430fbc59079873e47308"
          }
        },
        "c700b748f77547889b408e19f086d1f9": {
          "model_module": "@jupyter-widgets/controls",
          "model_module_version": "1.5.0",
          "model_name": "HTMLModel",
          "state": {
            "_dom_classes": [],
            "_model_module": "@jupyter-widgets/controls",
            "_model_module_version": "1.5.0",
            "_model_name": "HTMLModel",
            "_view_count": null,
            "_view_module": "@jupyter-widgets/controls",
            "_view_module_version": "1.5.0",
            "_view_name": "HTMLView",
            "description": "",
            "description_tooltip": null,
            "layout": "IPY_MODEL_85fc18a793c64d7ea176105a100c3f5b",
            "placeholder": "​",
            "style": "IPY_MODEL_abe808693c9e4890a5c38ca335c33d51",
            "value": " 570/570 [00:00&lt;00:00, 40.2kB/s]"
          }
        },
        "c8f88ed0f91a442391aadb929ff515e9": {
          "model_module": "@jupyter-widgets/controls",
          "model_module_version": "1.5.0",
          "model_name": "HTMLModel",
          "state": {
            "_dom_classes": [],
            "_model_module": "@jupyter-widgets/controls",
            "_model_module_version": "1.5.0",
            "_model_name": "HTMLModel",
            "_view_count": null,
            "_view_module": "@jupyter-widgets/controls",
            "_view_module_version": "1.5.0",
            "_view_name": "HTMLView",
            "description": "",
            "description_tooltip": null,
            "layout": "IPY_MODEL_dbdc2a9d94d34ba590f96faefd61c761",
            "placeholder": "​",
            "style": "IPY_MODEL_43331b3efadc44fb8bd48623efff6336",
            "value": "Downloading (…)okenizer_config.json: 100%"
          }
        },
        "d41180caf8ad478f9c0a8f82660b0246": {
          "model_module": "@jupyter-widgets/controls",
          "model_module_version": "1.5.0",
          "model_name": "DescriptionStyleModel",
          "state": {
            "_model_module": "@jupyter-widgets/controls",
            "_model_module_version": "1.5.0",
            "_model_name": "DescriptionStyleModel",
            "_view_count": null,
            "_view_module": "@jupyter-widgets/base",
            "_view_module_version": "1.2.0",
            "_view_name": "StyleView",
            "description_width": ""
          }
        },
        "d5390edb1312428e9f3eb126dc284065": {
          "model_module": "@jupyter-widgets/controls",
          "model_module_version": "1.5.0",
          "model_name": "FloatProgressModel",
          "state": {
            "_dom_classes": [],
            "_model_module": "@jupyter-widgets/controls",
            "_model_module_version": "1.5.0",
            "_model_name": "FloatProgressModel",
            "_view_count": null,
            "_view_module": "@jupyter-widgets/controls",
            "_view_module_version": "1.5.0",
            "_view_name": "ProgressView",
            "bar_style": "success",
            "description": "",
            "description_tooltip": null,
            "layout": "IPY_MODEL_3b3f7ce37e5943c5995c12da3aa0112c",
            "max": 466062,
            "min": 0,
            "orientation": "horizontal",
            "style": "IPY_MODEL_20b50aad30904d6fbd6c2bf0c202a0bd",
            "value": 466062
          }
        },
        "d6ff4e03dba94ee5bbbc50e08e365047": {
          "model_module": "@jupyter-widgets/controls",
          "model_module_version": "1.5.0",
          "model_name": "HTMLModel",
          "state": {
            "_dom_classes": [],
            "_model_module": "@jupyter-widgets/controls",
            "_model_module_version": "1.5.0",
            "_model_name": "HTMLModel",
            "_view_count": null,
            "_view_module": "@jupyter-widgets/controls",
            "_view_module_version": "1.5.0",
            "_view_name": "HTMLView",
            "description": "",
            "description_tooltip": null,
            "layout": "IPY_MODEL_a601d8351eb64f088ab8c486502707e4",
            "placeholder": "​",
            "style": "IPY_MODEL_855d8bc31332444a88f45d8ed5e2c9d2",
            "value": "Downloading model.safetensors: 100%"
          }
        },
        "d9aec613b0e94d68a567b55db70ae9d5": {
          "model_module": "@jupyter-widgets/base",
          "model_module_version": "1.2.0",
          "model_name": "LayoutModel",
          "state": {
            "_model_module": "@jupyter-widgets/base",
            "_model_module_version": "1.2.0",
            "_model_name": "LayoutModel",
            "_view_count": null,
            "_view_module": "@jupyter-widgets/base",
            "_view_module_version": "1.2.0",
            "_view_name": "LayoutView",
            "align_content": null,
            "align_items": null,
            "align_self": null,
            "border": null,
            "bottom": null,
            "display": null,
            "flex": null,
            "flex_flow": null,
            "grid_area": null,
            "grid_auto_columns": null,
            "grid_auto_flow": null,
            "grid_auto_rows": null,
            "grid_column": null,
            "grid_gap": null,
            "grid_row": null,
            "grid_template_areas": null,
            "grid_template_columns": null,
            "grid_template_rows": null,
            "height": null,
            "justify_content": null,
            "justify_items": null,
            "left": null,
            "margin": null,
            "max_height": null,
            "max_width": null,
            "min_height": null,
            "min_width": null,
            "object_fit": null,
            "object_position": null,
            "order": null,
            "overflow": null,
            "overflow_x": null,
            "overflow_y": null,
            "padding": null,
            "right": null,
            "top": null,
            "visibility": null,
            "width": null
          }
        },
        "dad4bdc7e18443629d96903fc5783d72": {
          "model_module": "@jupyter-widgets/base",
          "model_module_version": "1.2.0",
          "model_name": "LayoutModel",
          "state": {
            "_model_module": "@jupyter-widgets/base",
            "_model_module_version": "1.2.0",
            "_model_name": "LayoutModel",
            "_view_count": null,
            "_view_module": "@jupyter-widgets/base",
            "_view_module_version": "1.2.0",
            "_view_name": "LayoutView",
            "align_content": null,
            "align_items": null,
            "align_self": null,
            "border": null,
            "bottom": null,
            "display": null,
            "flex": null,
            "flex_flow": null,
            "grid_area": null,
            "grid_auto_columns": null,
            "grid_auto_flow": null,
            "grid_auto_rows": null,
            "grid_column": null,
            "grid_gap": null,
            "grid_row": null,
            "grid_template_areas": null,
            "grid_template_columns": null,
            "grid_template_rows": null,
            "height": null,
            "justify_content": null,
            "justify_items": null,
            "left": null,
            "margin": null,
            "max_height": null,
            "max_width": null,
            "min_height": null,
            "min_width": null,
            "object_fit": null,
            "object_position": null,
            "order": null,
            "overflow": null,
            "overflow_x": null,
            "overflow_y": null,
            "padding": null,
            "right": null,
            "top": null,
            "visibility": null,
            "width": null
          }
        },
        "db4691309c98491e9f268562ad8276d7": {
          "model_module": "@jupyter-widgets/controls",
          "model_module_version": "1.5.0",
          "model_name": "HBoxModel",
          "state": {
            "_dom_classes": [],
            "_model_module": "@jupyter-widgets/controls",
            "_model_module_version": "1.5.0",
            "_model_name": "HBoxModel",
            "_view_count": null,
            "_view_module": "@jupyter-widgets/controls",
            "_view_module_version": "1.5.0",
            "_view_name": "HBoxView",
            "box_style": "",
            "children": [
              "IPY_MODEL_d6ff4e03dba94ee5bbbc50e08e365047",
              "IPY_MODEL_9a49c86bd47648a0965a25be2f0002cc",
              "IPY_MODEL_99b954c2d2e147109cb6f25a3e35eba2"
            ],
            "layout": "IPY_MODEL_13018fa5b9dd45bcb13b92b87fec0612"
          }
        },
        "dbdc2a9d94d34ba590f96faefd61c761": {
          "model_module": "@jupyter-widgets/base",
          "model_module_version": "1.2.0",
          "model_name": "LayoutModel",
          "state": {
            "_model_module": "@jupyter-widgets/base",
            "_model_module_version": "1.2.0",
            "_model_name": "LayoutModel",
            "_view_count": null,
            "_view_module": "@jupyter-widgets/base",
            "_view_module_version": "1.2.0",
            "_view_name": "LayoutView",
            "align_content": null,
            "align_items": null,
            "align_self": null,
            "border": null,
            "bottom": null,
            "display": null,
            "flex": null,
            "flex_flow": null,
            "grid_area": null,
            "grid_auto_columns": null,
            "grid_auto_flow": null,
            "grid_auto_rows": null,
            "grid_column": null,
            "grid_gap": null,
            "grid_row": null,
            "grid_template_areas": null,
            "grid_template_columns": null,
            "grid_template_rows": null,
            "height": null,
            "justify_content": null,
            "justify_items": null,
            "left": null,
            "margin": null,
            "max_height": null,
            "max_width": null,
            "min_height": null,
            "min_width": null,
            "object_fit": null,
            "object_position": null,
            "order": null,
            "overflow": null,
            "overflow_x": null,
            "overflow_y": null,
            "padding": null,
            "right": null,
            "top": null,
            "visibility": null,
            "width": null
          }
        },
        "e56804186464441fa5b9cf7618843f88": {
          "model_module": "@jupyter-widgets/controls",
          "model_module_version": "1.5.0",
          "model_name": "HTMLModel",
          "state": {
            "_dom_classes": [],
            "_model_module": "@jupyter-widgets/controls",
            "_model_module_version": "1.5.0",
            "_model_name": "HTMLModel",
            "_view_count": null,
            "_view_module": "@jupyter-widgets/controls",
            "_view_module_version": "1.5.0",
            "_view_name": "HTMLView",
            "description": "",
            "description_tooltip": null,
            "layout": "IPY_MODEL_80f48003e0d34f3f8fc5b1c1cb2976b8",
            "placeholder": "​",
            "style": "IPY_MODEL_9e72f69d6b26453d8c143df4f6b1f06e",
            "value": "Downloading (…)solve/main/vocab.txt: 100%"
          }
        },
        "eb8de5229523430fbc59079873e47308": {
          "model_module": "@jupyter-widgets/base",
          "model_module_version": "1.2.0",
          "model_name": "LayoutModel",
          "state": {
            "_model_module": "@jupyter-widgets/base",
            "_model_module_version": "1.2.0",
            "_model_name": "LayoutModel",
            "_view_count": null,
            "_view_module": "@jupyter-widgets/base",
            "_view_module_version": "1.2.0",
            "_view_name": "LayoutView",
            "align_content": null,
            "align_items": null,
            "align_self": null,
            "border": null,
            "bottom": null,
            "display": null,
            "flex": null,
            "flex_flow": null,
            "grid_area": null,
            "grid_auto_columns": null,
            "grid_auto_flow": null,
            "grid_auto_rows": null,
            "grid_column": null,
            "grid_gap": null,
            "grid_row": null,
            "grid_template_areas": null,
            "grid_template_columns": null,
            "grid_template_rows": null,
            "height": null,
            "justify_content": null,
            "justify_items": null,
            "left": null,
            "margin": null,
            "max_height": null,
            "max_width": null,
            "min_height": null,
            "min_width": null,
            "object_fit": null,
            "object_position": null,
            "order": null,
            "overflow": null,
            "overflow_x": null,
            "overflow_y": null,
            "padding": null,
            "right": null,
            "top": null,
            "visibility": null,
            "width": null
          }
        },
        "fe8f7952eb7c42b289af3cf9ca4fb9f7": {
          "model_module": "@jupyter-widgets/base",
          "model_module_version": "1.2.0",
          "model_name": "LayoutModel",
          "state": {
            "_model_module": "@jupyter-widgets/base",
            "_model_module_version": "1.2.0",
            "_model_name": "LayoutModel",
            "_view_count": null,
            "_view_module": "@jupyter-widgets/base",
            "_view_module_version": "1.2.0",
            "_view_name": "LayoutView",
            "align_content": null,
            "align_items": null,
            "align_self": null,
            "border": null,
            "bottom": null,
            "display": null,
            "flex": null,
            "flex_flow": null,
            "grid_area": null,
            "grid_auto_columns": null,
            "grid_auto_flow": null,
            "grid_auto_rows": null,
            "grid_column": null,
            "grid_gap": null,
            "grid_row": null,
            "grid_template_areas": null,
            "grid_template_columns": null,
            "grid_template_rows": null,
            "height": null,
            "justify_content": null,
            "justify_items": null,
            "left": null,
            "margin": null,
            "max_height": null,
            "max_width": null,
            "min_height": null,
            "min_width": null,
            "object_fit": null,
            "object_position": null,
            "order": null,
            "overflow": null,
            "overflow_x": null,
            "overflow_y": null,
            "padding": null,
            "right": null,
            "top": null,
            "visibility": null,
            "width": null
          }
        }
      }
    }
  },
  "nbformat": 4,
  "nbformat_minor": 0
}
