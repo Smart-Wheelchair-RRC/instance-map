{
 "cells": [
  {
   "cell_type": "markdown",
   "metadata": {},
   "source": [
    "# Imports"
   ]
  },
  {
   "cell_type": "code",
   "execution_count": 1,
   "metadata": {},
   "outputs": [
    {
     "name": "stdout",
     "output_type": "stream",
     "text": [
      "Jupyter environment detected. Enabling Open3D WebVisualizer.\n",
      "[Open3D INFO] WebRTC GUI backend enabled.\n",
      "[Open3D INFO] WebRTCWindowSystem: HTTP handshake server disabled.\n"
     ]
    }
   ],
   "source": [
    "import os\n",
    "import numpy as np\n",
    "import random\n",
    "import cv2\n",
    "import matplotlib.pyplot as plt\n",
    "from tqdm.notebook import tqdm\n",
    "\n",
    "from PIL import Image, ImageDraw, ImageFont\n",
    "\n",
    "import pickle\n",
    "\n",
    "from scipy.spatial.transform import Rotation as R\n",
    "from sklearn.metrics.pairwise import cosine_similarity\n",
    "\n",
    "import supervision as sv\n",
    "import open3d as o3d\n",
    "from cuml.cluster import DBSCAN\n",
    "import cupy as cp"
   ]
  },
  {
   "cell_type": "code",
   "execution_count": 2,
   "metadata": {},
   "outputs": [],
   "source": [
    "import torch\n",
    "import torchvision.transforms as transforms\n",
    "from torchvision.ops import box_convert\n",
    "from torch import nn\n",
    "import torch.nn.functional as F\n",
    "from torchvision.transforms import Compose, Resize, CenterCrop, ToTensor, Normalize"
   ]
  },
  {
   "cell_type": "markdown",
   "metadata": {},
   "source": [
    "# Setup"
   ]
  },
  {
   "cell_type": "code",
   "execution_count": 3,
   "metadata": {},
   "outputs": [],
   "source": [
    "device = torch.device('cuda' if torch.cuda.is_available() else 'cpu')"
   ]
  },
  {
   "cell_type": "code",
   "execution_count": 4,
   "metadata": {},
   "outputs": [],
   "source": [
    "# imgs_dir = \"/scratch/laksh.nanwani/instance_slam/JmbYfDe2QKZ/rgb\"\n",
    "# depth_dir = \"/scratch/laksh.nanwani/instance_slam/JmbYfDe2QKZ/depth/\"\n",
    "# pose_dir = \"/scratch/laksh.nanwani/instance_slam/JmbYfDe2QKZ/pose/\"\n",
    "\n",
    "imgs_dir = \"/scratch/kumaradi.gupta/run_kinect_wheel_1/rgb\"\n",
    "depth_dir = \"/scratch/kumaradi.gupta/run_kinect_wheel_1/depth/\"\n",
    "pose_dir = \"/scratch/kumaradi.gupta/run_kinect_wheel_1/pose/\"\n",
    "\n",
    "img_dict_dir = \"/home2/kumaradi.gupta/instance-map/kinect_img_dict.pkl\""
   ]
  },
  {
   "cell_type": "code",
   "execution_count": 6,
   "metadata": {},
   "outputs": [],
   "source": [
    "# req_tags = [\"table\", \"chair\", \"stool\", \"fan\", \"computer\", 'stool', \n",
    "#             'pillar', 'couch', 'door', 'art', 'bed', 'bookshelf', 'picture', 'frame', \n",
    "#             'appliance', 'box', 'cabinet', 'wall','cubicle', 'pillar', 'equipment', \n",
    "#             'clock', 'board']\n",
    "\n",
    "# colors = [\n",
    "#     (255, 105, 97),  # Pastel Red\n",
    "#     (255, 179, 71),  # Pastel Orange\n",
    "#     (253, 253, 150), # Pastel Yellow\n",
    "#     (119, 221, 119), # Pastel Green\n",
    "#     (203, 153, 201), # Pastel Purple\n",
    "#     (174, 198, 207), # Pastel Blue\n",
    "#     (255, 209, 220), # Pastel Pink\n",
    "#     (128, 128, 128), # Grey\n",
    "#     (255, 0, 255),   # Magenta\n",
    "#     (0, 0, 255),     # Blue\n",
    "#     (0, 255, 255),   # Cyan\n",
    "#     (255, 0, 0),     # Red\n",
    "#     (139, 69, 19),   # Saddle Brown\n",
    "#     (255, 140, 0),   # Dark Orange\n",
    "#     (128, 0, 0),     # Maroon\n",
    "#     (75, 0, 130),    # Indigo\n",
    "#     (173, 216, 230), # Light Blue\n",
    "#     (144, 238, 144), # Light Green\n",
    "#     (255, 192, 203), # Pink\n",
    "#     (210, 105, 30),  # Chocolate\n",
    "#     (106, 90, 205),  # Slate Blue\n",
    "#     (255, 165, 0),   # Orange\n",
    "#     (70, 130, 180),  # Steel Blue\n",
    "# ]\n",
    "\n",
    "req_tags = ['chair', 'cupboard', 'stool', 'table', 'fan', 'door']\n",
    "colors = [\n",
    "    (255, 105, 97),  # Pastel Red\n",
    "    (253, 253, 150), # Pastel Yellow\n",
    "    (119, 221, 119), # Pastel Green\n",
    "    (203, 153, 201), # Pastel Purple\n",
    "    (174, 198, 207), # Pastel Blue\n",
    "    (255, 209, 220), # Pastel Pink\n",
    "]\n",
    "\n",
    "\n",
    "def normalize_color(color_255):\n",
    "    return tuple(val/255.0 for val in color_255)"
   ]
  },
  {
   "cell_type": "code",
   "execution_count": 7,
   "metadata": {},
   "outputs": [],
   "source": [
    "# Load from pickle file\n",
    "with open(img_dict_dir, 'rb') as file:\n",
    "    img_dict = pickle.load(file)\n"
   ]
  },
  {
   "cell_type": "markdown",
   "metadata": {},
   "source": [
    "# 3D AABB Calc"
   ]
  },
  {
   "cell_type": "code",
   "execution_count": 8,
   "metadata": {},
   "outputs": [],
   "source": [
    "'''\n",
    "img_dict = {img_name: {img_path: str,\n",
    "                        ram_tags: list_of_str,\n",
    "                        objs: {0: {bbox: [x1, y1, x2, y2],\n",
    "                                    phrase: str,\n",
    "                                    clip_embed: [1, 1024]},\n",
    "                                    dino_embed: [1, 1024]},\n",
    "                                    mask: [h, w],\n",
    "                                    prob: float,\n",
    "                                    aabb: arr}\n",
    "                                1: {...},\n",
    "                        }\n",
    "            img_name: {...},\n",
    "            }\n",
    "'''\n",
    "\n",
    "# go through the img_name and their data\n",
    "# open the depth associated with an image from the depth folder (.npy file)\n",
    "\n",
    "def get_depth(img_name):\n",
    "    # depth_path = os.path.join(depth_dir, img_name + '.npy')\n",
    "    # depth = np.load(depth_path)\n",
    "\n",
    "    depth_path = os.path.join(depth_dir, img_name + '.png')\n",
    "    depth = cv2.imread(depth_path, cv2.IMREAD_ANYDEPTH)\n",
    "    depth = depth.astype(np.float32) / 1000.0\n",
    "    return depth\n",
    "\n",
    "def get_pose(img_name):\n",
    "    pose_path = os.path.join(pose_dir, img_name + '.txt')\n",
    "\n",
    "    # check if the pose file exists, if it doesn't, return None\n",
    "    if not os.path.exists(pose_path):\n",
    "        return None\n",
    "    \n",
    "    with open(pose_path, 'r') as f:\n",
    "        pose = f.read().split()\n",
    "        pose = np.array(pose).astype(np.float32)\n",
    "    return pose\n",
    "\n",
    "def get_sim_cam_mat_with_fov(h, w, fov):\n",
    "    cam_mat = np.eye(3)\n",
    "    cam_mat[0, 0] = cam_mat[1, 1] = w / (2.0 * np.tan(np.deg2rad(fov / 2)))\n",
    "    cam_mat[0, 2] = w / 2.0\n",
    "    cam_mat[1, 2] = h / 2.0\n",
    "    return cam_mat\n",
    "\n",
    "def get_realsense_cam_mat():\n",
    "    K = np.array([[386.458, 0, 321.111],\n",
    "              [0, 386.458, 241.595],\n",
    "              [0, 0, 1]])\n",
    "    return K\n",
    "\n",
    "def get_kinect_cam_mat():\n",
    "    K = np.array([[9.7096624755859375e+02, 0., 1.0272059326171875e+03], \n",
    "                  [0., 9.7109600830078125e+02, 7.7529718017578125e+02], \n",
    "                  [0., 0., 1]])\n",
    "    return K"
   ]
  },
  {
   "cell_type": "code",
   "execution_count": 10,
   "metadata": {},
   "outputs": [],
   "source": [
    "def create_point_cloud(depth, mask, cam_mat, pose, color=(1, 0, 0), camera_height=0.9):\n",
    "    \"\"\"\n",
    "    Generates a point cloud from a depth image, camera intrinsics, mask, and pose.\n",
    "    Only points within the mask and with valid depth are added to the cloud.\n",
    "    Points are colored using the specified color.\n",
    "    \"\"\"\n",
    "\n",
    "    # Reproject the depth to 3D space\n",
    "    rows, cols = np.where(mask)\n",
    "\n",
    "    depth_values = depth[rows, cols]\n",
    "    # valid_depth_indices = (depth_values > 0) & (depth_values <= 4)\n",
    "    valid_depth_indices = (depth_values > 0)\n",
    "\n",
    "    rows = rows[valid_depth_indices]\n",
    "    cols = cols[valid_depth_indices]\n",
    "    depth_values = depth_values[valid_depth_indices]\n",
    "\n",
    "    points2d = np.vstack([cols, rows, np.ones_like(rows)])\n",
    "\n",
    "    cam_mat_inv = np.linalg.inv(cam_mat)\n",
    "    points3d_cam = cam_mat_inv @ points2d * depth_values\n",
    "\n",
    "    # Parse the pose\n",
    "    pos = np.array(pose[:3], dtype=float).reshape((3, 1))\n",
    "    quat = pose[3:]\n",
    "    rot = R.from_quat(quat).as_matrix()\n",
    "\n",
    "    # # Apply rotation correction, to match the orientation z: backward, y: upward, and x: right\n",
    "    # rot_ro_cam = np.eye(3)\n",
    "    # rot_ro_cam[1, 1] = -1\n",
    "    # rot_ro_cam[2, 2] = -1\n",
    "    # rot = rot @ rot_ro_cam\n",
    "\n",
    "    # # Apply position correction\n",
    "    # pos[1] += camera_height\n",
    "\n",
    "    # Create the pose matrix\n",
    "    pose_matrix = np.eye(4)\n",
    "    pose_matrix[:3, :3] = rot\n",
    "    pose_matrix[:3, 3] = pos.reshape(-1)\n",
    "\n",
    "    # Transform the points to global frame\n",
    "    points3d_homo = np.vstack([points3d_cam, np.ones((1, points3d_cam.shape[1]))])\n",
    "    points3d_global_homo = pose_matrix @ points3d_homo\n",
    "    points3d_global = points3d_global_homo[:3, :]\n",
    "\n",
    "    pcd = o3d.geometry.PointCloud()\n",
    "    pcd.points = o3d.utility.Vector3dVector(points3d_global.T)\n",
    "\n",
    "    # Assign color to the point cloud\n",
    "    pcd.colors = o3d.utility.Vector3dVector(np.tile(color, (points3d_global.shape[1], 1)))\n",
    "\n",
    "    return pcd\n"
   ]
  },
  {
   "cell_type": "code",
   "execution_count": 11,
   "metadata": {},
   "outputs": [],
   "source": [
    "def get_obj_bounds(obj_pc):\n",
    "    aabb = obj_pc.get_axis_aligned_bounding_box()\n",
    "    min_bound = aabb.min_bound\n",
    "    max_bound = aabb.max_bound\n",
    "    obj_bounds = np.vstack((min_bound, max_bound))\n",
    "    return obj_bounds"
   ]
  },
  {
   "cell_type": "code",
   "execution_count": 10,
   "metadata": {},
   "outputs": [],
   "source": [
    "def filter_noise_dbscan(point_cloud, eps=0.1, min_points=15):\n",
    "    # Apply DBSCAN clustering to the point cloud\n",
    "    # with o3d.utility.VerbosityContextManager(o3d.utility.VerbosityLevel.Debug) as cm:\n",
    "    #     labels = np.array(point_cloud.cluster_dbscan(eps=eps, min_points=min_points, print_progress=False))\n",
    "\n",
    "    labels = np.array(point_cloud.cluster_dbscan(eps=eps, min_points=min_points, print_progress=False))\n",
    "\n",
    "    # Find the largest cluster\n",
    "    max_label = max(labels, key=list(labels).count)\n",
    "\n",
    "    # Filter the point cloud to include only the largest cluster\n",
    "    filtered_points = np.asarray(point_cloud.points)[labels == max_label]\n",
    "    filtered_colors = np.asarray(point_cloud.colors)[labels == max_label]\n",
    "\n",
    "    # Create a new point cloud with only the largest cluster\n",
    "    filtered_pcd = o3d.geometry.PointCloud()\n",
    "    filtered_pcd.points = o3d.utility.Vector3dVector(filtered_points)\n",
    "    filtered_pcd.colors = o3d.utility.Vector3dVector(filtered_colors)\n",
    "\n",
    "    return filtered_pcd\n"
   ]
  },
  {
   "cell_type": "code",
   "execution_count": 12,
   "metadata": {},
   "outputs": [],
   "source": [
    "def fast_DBSCAN(point_cloud_o3d, eps=0.01, min_samples=20):\n",
    "    # Convert Open3D point cloud to NumPy arrays\n",
    "    points_np = np.asarray(point_cloud_o3d.points)\n",
    "    colors_np = np.asarray(point_cloud_o3d.colors)\n",
    "\n",
    "    # Convert NumPy array to CuPy array for GPU computations\n",
    "    points_gpu = cp.asarray(points_np)\n",
    "\n",
    "    # Create a DBSCAN instance with cuML\n",
    "    dbscan_model = DBSCAN(eps=eps, min_samples=min_samples)\n",
    "\n",
    "    # Fit the model to the GPU data\n",
    "    dbscan_model.fit(points_gpu)\n",
    "\n",
    "    # Get the labels for the clusters\n",
    "    labels_gpu = dbscan_model.labels_\n",
    "\n",
    "    # Convert the labels back to a NumPy array\n",
    "    labels = cp.asnumpy(labels_gpu)\n",
    "\n",
    "    # Filter the points and colors that are part of a cluster (label != -1)\n",
    "    clustered_points = points_np[labels != -1]\n",
    "    clustered_colors = colors_np[labels != -1]\n",
    "\n",
    "    # Create a new Open3D point cloud with the clustered points and colors\n",
    "    filtered_point_cloud_o3d = o3d.geometry.PointCloud()\n",
    "    filtered_point_cloud_o3d.points = o3d.utility.Vector3dVector(clustered_points)\n",
    "    filtered_point_cloud_o3d.colors = o3d.utility.Vector3dVector(clustered_colors)\n",
    "\n",
    "    return filtered_point_cloud_o3d\n"
   ]
  },
  {
   "cell_type": "code",
   "execution_count": 16,
   "metadata": {},
   "outputs": [
    {
     "data": {
      "application/vnd.jupyter.widget-view+json": {
       "model_id": "a7a4813912834514a1462222a0fe47ad",
       "version_major": 2,
       "version_minor": 0
      },
      "text/plain": [
       "  0%|          | 0/893 [00:00<?, ?it/s]"
      ]
     },
     "metadata": {},
     "output_type": "display_data"
    }
   ],
   "source": [
    "for img_id, img_data in tqdm(img_dict.items()):\n",
    "\n",
    "  if len(img_data['objs']) == 0:\n",
    "    continue\n",
    "\n",
    "  # img_path = img_data['img_path']\n",
    "  # img = cv2.imread(img_path)\n",
    "\n",
    "  depth = get_depth(img_id)\n",
    "\n",
    "  pose = get_pose(img_id)\n",
    "  if pose is None:\n",
    "    continue\n",
    "  \n",
    "  # cam_mat = get_sim_cam_mat_with_fov(depth.shape[0], depth.shape[1], fov=90)\n",
    "  cam_mat = get_kinect_cam_mat()\n",
    "\n",
    "  for obj_id, obj_data in img_data['objs'].items():\n",
    "    mask = obj_data['mask']\n",
    "\n",
    "    pcd = create_point_cloud(depth, mask, cam_mat, pose)\n",
    "\n",
    "    if len(pcd.points) <= 0:\n",
    "      continue\n",
    "\n",
    "    pcd = pcd.voxel_down_sample(voxel_size=0.01)\n",
    "    pcd = fast_DBSCAN(pcd, eps=0.04, min_samples=75)\n",
    "    obj_data['aabb'] = get_obj_bounds(pcd)"
   ]
  },
  {
   "cell_type": "code",
   "execution_count": 17,
   "metadata": {},
   "outputs": [],
   "source": [
    "# Save updated img_dict with aabb\n",
    "\n",
    "with open('/home2/kumaradi.gupta/instance-map/kinect_img_dict.pkl', 'wb') as file:\n",
    "    pickle.dump(img_dict, file)"
   ]
  },
  {
   "cell_type": "markdown",
   "metadata": {},
   "source": [
    "# Cluster Objects"
   ]
  },
  {
   "cell_type": "code",
   "execution_count": 13,
   "metadata": {},
   "outputs": [],
   "source": [
    "def custom_cosine_similarity(vec1, vec2):\n",
    "    # Ensure the vectors have the same shape\n",
    "    if vec1.shape != vec2.shape:\n",
    "        raise ValueError(\"Vectors must have the same shape.\")\n",
    "\n",
    "    # Compute the dot product of the vectors\n",
    "    dot_product = np.dot(vec1, vec2)\n",
    "\n",
    "    # Compute the magnitudes (Euclidean norms) of the vectors\n",
    "    magnitude_vec1 = np.linalg.norm(vec1)\n",
    "    magnitude_vec2 = np.linalg.norm(vec2)\n",
    "\n",
    "    # Compute and return the cosine similarity\n",
    "    similarity = dot_product / (magnitude_vec1 * magnitude_vec2)\n",
    "    return similarity\n",
    "\n",
    "def iou_3d(box1, box2):\n",
    "    min_intersection = np.maximum(box1[0], box2[0])\n",
    "    max_intersection = np.minimum(box1[1], box2[1])\n",
    "\n",
    "    # Compute the intersection volume\n",
    "    intersection_dims = np.maximum(max_intersection - min_intersection, 0)\n",
    "    intersection_volume = np.prod(intersection_dims)\n",
    "\n",
    "    # Compute the volumes of the individual bounding boxes\n",
    "    volume_box1 = np.prod(box1[1] - box1[0])\n",
    "    volume_box2 = np.prod(box2[1] - box2[0])\n",
    "\n",
    "    # Compute the union volume\n",
    "    union_volume = volume_box1 + volume_box2 - intersection_volume\n",
    "\n",
    "    # Compute the IoU\n",
    "    iou = intersection_volume / union_volume if union_volume != 0 else 0\n",
    "    return iou"
   ]
  },
  {
   "cell_type": "code",
   "execution_count": 14,
   "metadata": {},
   "outputs": [],
   "source": [
    "from scipy.cluster.hierarchy import linkage, fcluster\n",
    "from scipy.spatial.distance import squareform\n",
    "from collections import defaultdict\n",
    "\n",
    "# Function to merge two clusters\n",
    "def merge_data(cluster1, cluster2):\n",
    "    # Compute the union of the bounding boxes\n",
    "    obj_bounds1 = cluster1['aabb']\n",
    "    obj_bounds2 = cluster2['aabb']\n",
    "\n",
    "    min_bound = np.minimum(obj_bounds1[0], obj_bounds2[0])\n",
    "    max_bound = np.maximum(obj_bounds1[1], obj_bounds2[1])\n",
    "\n",
    "    # Merge source IDs: source_ids: [(img_id, obj_id), ...]\n",
    "    source_ids = cluster1['source_ids'] + cluster2['source_ids']\n",
    "    count = len(source_ids)\n",
    "\n",
    "    # Average the embeddings\n",
    "    avg_dino_embed = (np.array(cluster1['dino_embed']) * len(cluster1['source_ids']) +\n",
    "                      np.array(cluster2['dino_embed']) * len(cluster2['source_ids'])) / count\n",
    "    avg_clip_embed = (np.array(cluster1['clip_embed']) * len(cluster1['source_ids']) +\n",
    "                      np.array(cluster2['clip_embed']) * len(cluster2['source_ids'])) / count\n",
    "    return {\n",
    "        'aabb': np.vstack((min_bound, max_bound)),\n",
    "        'source_ids': source_ids,\n",
    "        'dino_embed': avg_dino_embed,\n",
    "        'clip_embed': avg_clip_embed\n",
    "    }"
   ]
  },
  {
   "cell_type": "code",
   "execution_count": 15,
   "metadata": {},
   "outputs": [],
   "source": [
    "#New clustering algo: correct but the results are not great\n",
    "\n",
    "def custom_distance(obj1, obj2):\n",
    "\n",
    "    iou_weight = 0.7\n",
    "    dino_weight = 0.3\n",
    "\n",
    "    iou = iou_3d(obj1['aabb'], obj2['aabb'])\n",
    "\n",
    "    dino_similarity = custom_cosine_similarity(obj1['dino_embed'], obj2['dino_embed'])\n",
    "\n",
    "    distance = ((1 - iou) * iou_weight) + ((1 - dino_similarity) * dino_weight)\n",
    "    # distance = (1 - iou)\n",
    "\n",
    "    if distance < 0: # Happening in cases where iou and dino sim = 1\n",
    "    #   print(f\"Obj1: {obj1['source_ids']}, Obj2: {obj2['source_ids']}\")\n",
    "      distance = 0\n",
    "\n",
    "    return distance\n",
    "\n",
    "def fcluster_objects(img_dict, dist_threshold=0.7):\n",
    "    # Group objects by phrase\n",
    "    phrase_objects = defaultdict(list)\n",
    "    for img_id, img_data in img_dict.items():\n",
    "        for obj_id, obj_data in img_data['objs'].items():\n",
    "\n",
    "            if 'aabb' not in obj_data:\n",
    "                continue\n",
    "\n",
    "            obj_data_with_source = obj_data.copy()\n",
    "            obj_data_with_source['source_ids'] = [(img_id, obj_id)]  # Add source information\n",
    "\n",
    "            phrase = obj_data_with_source['phrase'].split()[0]\n",
    "            phrase_objects[phrase].append(obj_data_with_source)\n",
    "\n",
    "    # Dictionary to store the final merged clusters\n",
    "    merged_clusters = {}\n",
    "\n",
    "    # Perform clustering for each phrase\n",
    "    for phrase, objects_list in tqdm(phrase_objects.items()):\n",
    "\n",
    "        # Compute pairwise distances and convert to condensed form\n",
    "        n = len(objects_list)\n",
    "        distances = np.zeros((n, n))\n",
    "        for i in range(n):\n",
    "            for j in range(i + 1, n):  # Only calculate upper triangular part\n",
    "                distances[i, j] = custom_distance(objects_list[i], objects_list[j])\n",
    "                distances[j, i] = distances[i, j]  # Symmetric matrix\n",
    "        distances = squareform(distances)\n",
    "\n",
    "        # Perform hierarchical clustering\n",
    "        Z = linkage(distances, method='single')\n",
    "\n",
    "        # Cut the dendrogram to form final clusters\n",
    "        cluster_labels = fcluster(Z, t=dist_threshold, criterion='distance')\n",
    "\n",
    "        # Merge clusters for this phrase\n",
    "        phrase_clusters = {}\n",
    "        for idx, label in enumerate(cluster_labels):\n",
    "            if label not in phrase_clusters:\n",
    "                phrase_clusters[label] = objects_list[idx]\n",
    "            else:\n",
    "                # Merge data using your existing merge_data function\n",
    "                phrase_clusters[label] = merge_data(phrase_clusters[label], objects_list[idx])\n",
    "\n",
    "        # Store the merged clusters for this phrase\n",
    "        merged_clusters[phrase] = phrase_clusters\n",
    "\n",
    "    return merged_clusters\n"
   ]
  },
  {
   "cell_type": "code",
   "execution_count": 16,
   "metadata": {},
   "outputs": [
    {
     "data": {
      "application/vnd.jupyter.widget-view+json": {
       "model_id": "2f46fceeadcc48509d1ec7d4e363fb52",
       "version_major": 2,
       "version_minor": 0
      },
      "text/plain": [
       "  0%|          | 0/5 [00:00<?, ?it/s]"
      ]
     },
     "metadata": {},
     "output_type": "display_data"
    }
   ],
   "source": [
    "obj_dict = fcluster_objects(img_dict, dist_threshold=0.45)"
   ]
  },
  {
   "cell_type": "code",
   "execution_count": 18,
   "metadata": {},
   "outputs": [
    {
     "name": "stdout",
     "output_type": "stream",
     "text": [
      "416 294\n"
     ]
    }
   ],
   "source": [
    "print(len(obj_dict['chair']), len(obj_dict['table']))"
   ]
  },
  {
   "cell_type": "code",
   "execution_count": 19,
   "metadata": {},
   "outputs": [],
   "source": [
    "n = 5  # Threshold for minimum number of source_ids\n",
    "\n",
    "# Iterate through phrases (classes) in the obj_dict\n",
    "for phrase, obj_list in list(obj_dict.items()):\n",
    "    # Iterate through the cluster_ids in the content\n",
    "    for cluster_id, cluster_data in list(obj_list.items()):\n",
    "        # Check the length of the source_ids for this cluster\n",
    "        if len(cluster_data['source_ids']) <= n:\n",
    "            # Delete this cluster if the number of source_ids is less than or equal to n\n",
    "            del obj_dict[phrase][cluster_id]\n",
    "    \n",
    "    # Delete the phrase itself if it contains no clusters\n",
    "    if not obj_dict[phrase]:\n",
    "        del obj_dict[phrase]\n"
   ]
  },
  {
   "cell_type": "code",
   "execution_count": 20,
   "metadata": {},
   "outputs": [
    {
     "name": "stdout",
     "output_type": "stream",
     "text": [
      "34 8\n"
     ]
    }
   ],
   "source": [
    "print(len(obj_dict['chair']), len(obj_dict['table']))"
   ]
  },
  {
   "cell_type": "code",
   "execution_count": 21,
   "metadata": {},
   "outputs": [],
   "source": [
    "def preprocess_point_cloud(pcd, voxel_size):\n",
    "    # Preprocess point cloud by estimating normals\n",
    "    radius_normal = voxel_size * 2 # taken from open3d documentation\n",
    "    pcd.estimate_normals(\n",
    "        o3d.geometry.KDTreeSearchParamHybrid(radius=radius_normal, max_nn=30))\n",
    "    \n",
    "    # Calculate FPFH feature\n",
    "    radius_feature = voxel_size * 5 # taken from open3d documentation\n",
    "    pcd_fpfh = o3d.pipelines.registration.compute_fpfh_feature(\n",
    "        pcd,\n",
    "        o3d.geometry.KDTreeSearchParamHybrid(radius=radius_feature, max_nn=100))\n",
    "    return pcd_fpfh\n",
    "\n",
    "def fast_feature_icp(source, target, voxel_size):\n",
    "    distance_threshold = voxel_size * 0.4\n",
    "\n",
    "    # Compute FPFH features for both point clouds\n",
    "    source_fpfh = preprocess_point_cloud(source, voxel_size)\n",
    "    target_fpfh = preprocess_point_cloud(target, voxel_size)\n",
    "\n",
    "    result = o3d.pipelines.registration.registration_fgr_based_on_feature_matching(\n",
    "        source, target, source_fpfh, target_fpfh,\n",
    "        o3d.pipelines.registration.FastGlobalRegistrationOption(\n",
    "            maximum_correspondence_distance=distance_threshold))\n",
    "    \n",
    "    source.transform(result.transformation)\n",
    "    return source\n",
    "\n",
    "\n",
    "def feature_icp(source, target, voxel_size, \n",
    "               ransac_n=3, ransac_max_iter=100000, ransac_confidence=0.999):\n",
    "    \"\"\"\n",
    "    ICP function that uses feature-based RANSAC for initial alignment.\n",
    "    \n",
    "    Parameters:\n",
    "        source, target: Source and target point clouds for registration.\n",
    "        ransac_n: The minimum number of point pairs for RANSAC.\n",
    "        ransac_max_iter: Maximum number of iterations for RANSAC.\n",
    "        ransac_confidence: Confidence level for RANSAC convergence.\n",
    "    \"\"\"\n",
    "    \n",
    "    # Compute FPFH features for both point clouds\n",
    "    source_fpfh = preprocess_point_cloud(source, voxel_size)\n",
    "    target_fpfh = preprocess_point_cloud(target, voxel_size)\n",
    "\n",
    "    ransac_threshold = voxel_size * 1.5\n",
    "    icp_threshold = voxel_size * 0.4\n",
    "    \n",
    "    # Perform RANSAC based on feature matching for initial alignment\n",
    "    result_ransac = o3d.pipelines.registration.registration_ransac_based_on_feature_matching(\n",
    "        source, target, source_fpfh, target_fpfh, True,\n",
    "        max_correspondence_distance=ransac_threshold,\n",
    "        estimation_method=o3d.pipelines.registration.TransformationEstimationPointToPoint(False),\n",
    "        ransac_n=ransac_n,\n",
    "        checkers=[o3d.pipelines.registration.CorrespondenceCheckerBasedOnEdgeLength(0.9),\n",
    "                o3d.pipelines.registration.CorrespondenceCheckerBasedOnDistance(ransac_threshold)],\n",
    "        criteria=o3d.pipelines.registration.RANSACConvergenceCriteria(ransac_max_iter, ransac_confidence))\n",
    "    \n",
    "    # Perform ICP to refine the alignment\n",
    "    result_icp = o3d.pipelines.registration.registration_icp(source, target, icp_threshold, \n",
    "                                                                result_ransac.transformation,\n",
    "                                                                o3d.pipelines.registration.TransformationEstimationPointToPlane())\n",
    "        \n",
    "    # Update the source point cloud based on the final transformation\n",
    "    source.transform(result_icp.transformation)\n",
    "    \n",
    "    return source\n",
    "\n",
    "def vanilla_icp (source, target, voxel_size, max_iter=10000, threshold_multiplier=1.5):\n",
    "    # Set ICP configuration\n",
    "    config = o3d.pipelines.registration.ICPConvergenceCriteria(relative_fitness=1e-6,\n",
    "                                                            relative_rmse=1e-6, max_iteration=max_iter)\n",
    "    \n",
    "    icp_threshold = voxel_size * threshold_multiplier\n",
    "\n",
    "    # Run ICP\n",
    "    result_icp = o3d.pipelines.registration.registration_icp(\n",
    "        source, target, icp_threshold, np.eye(4),\n",
    "        o3d.pipelines.registration.TransformationEstimationPointToPoint(),\n",
    "        config)\n",
    "    \n",
    "    # Update pcd based on the transformation matrix obtained from ICP\n",
    "    source.transform(result_icp.transformation)\n",
    "    return source\n"
   ]
  },
  {
   "cell_type": "code",
   "execution_count": 22,
   "metadata": {},
   "outputs": [],
   "source": [
    "def create_obj_point_clouds(obj_dict, img_dict, output_dir, dbscan_params=(0.04, 25), icp_type='vanilla', voxel_size=0.01, color=(1, 0, 0)):\n",
    "    # Ensure the outputs directory exists\n",
    "    if not os.path.exists(output_dir):\n",
    "        os.mkdir(output_dir)\n",
    "\n",
    "    # Iterate through the phrases and clusters\n",
    "    for phrase, clusters in tqdm(obj_dict.items()):\n",
    "        # Create a directory for this phrase if it doesn't exist\n",
    "        phrase_dir = os.path.join(output_dir, phrase)\n",
    "        if not os.path.exists(phrase_dir):\n",
    "            os.mkdir(phrase_dir)\n",
    "\n",
    "        color = colors[req_tags.index(phrase)]\n",
    "        color = normalize_color(color)\n",
    "\n",
    "        # Iterate through the clusters\n",
    "        for cluster_id, cluster_data in tqdm(clusters.items()):\n",
    "            # Initialize an empty point cloud to accumulate points from all source IDs\n",
    "            final_pcd = o3d.geometry.PointCloud()\n",
    "\n",
    "            masks = []\n",
    "            poses = []\n",
    "\n",
    "            # cam_mat = get_sim_cam_mat_with_fov(depth.shape[0], depth.shape[1], fov=90)\n",
    "            cam_mat = get_kinect_cam_mat()\n",
    "\n",
    "            # Iterate through the source IDs for this cluster\n",
    "            for img_id, obj_id in cluster_data['source_ids']:\n",
    "                # Get the required information\n",
    "                depth = get_depth(img_id)\n",
    "                pose = get_pose(img_id)\n",
    "\n",
    "                if pose is None:\n",
    "                    continue\n",
    "\n",
    "                mask = img_dict[img_id]['objs'][obj_id]['mask']\n",
    "\n",
    "                # Create the point cloud for this source ID\n",
    "                pcd = create_point_cloud(depth, mask, cam_mat, pose, color=color)\n",
    "                pcd = pcd.voxel_down_sample(voxel_size=voxel_size)\n",
    "                pcd = fast_DBSCAN(pcd, eps=dbscan_params[0], min_samples=dbscan_params[1])\n",
    "\n",
    "                # Perform ICP registration if final_pcd is not empty\n",
    "                if not final_pcd.is_empty():\n",
    "                    if not final_pcd.is_empty():\n",
    "                        pcd.voxel_down_sample(voxel_size=voxel_size)\n",
    "                        final_pcd.voxel_down_sample(voxel_size=voxel_size)\n",
    "\n",
    "                        if icp_type == 'vanilla':\n",
    "                            pcd = vanilla_icp(pcd, final_pcd, voxel_size=voxel_size, max_iter=1000000, threshold_multiplier=1.5)\n",
    "                        elif icp_type == 'feature':\n",
    "                            pcd = feature_icp(pcd, final_pcd, voxel_size=voxel_size, ransac_n=3, ransac_max_iter=100000, ransac_confidence=0.999)\n",
    "                        elif icp_type == 'fast_feature':\n",
    "                            pcd = fast_feature_icp(pcd, final_pcd, voxel_size=voxel_size)\n",
    "\n",
    "                # Combine with the final point cloud\n",
    "                final_pcd += pcd\n",
    "\n",
    "                # Append the mask and pose to the list\n",
    "                masks.append(mask)\n",
    "                poses.append(pose)\n",
    "\n",
    "            # Downsample and filter the final point cloud\n",
    "            final_pcd = final_pcd.voxel_down_sample(voxel_size=voxel_size)\n",
    "\n",
    "            # Save the final point cloud for this cluster\n",
    "            file_path = os.path.join(phrase_dir, f'{cluster_id}.ply')\n",
    "            o3d.io.write_point_cloud(file_path, final_pcd)\n"
   ]
  },
  {
   "cell_type": "code",
   "execution_count": 23,
   "metadata": {},
   "outputs": [
    {
     "data": {
      "application/vnd.jupyter.widget-view+json": {
       "model_id": "24bb534d2fd3491e91d7e5f303f25d06",
       "version_major": 2,
       "version_minor": 0
      },
      "text/plain": [
       "  0%|          | 0/4 [00:00<?, ?it/s]"
      ]
     },
     "metadata": {},
     "output_type": "display_data"
    },
    {
     "data": {
      "application/vnd.jupyter.widget-view+json": {
       "model_id": "05149e6530d446cdb74f5072eebff4cf",
       "version_major": 2,
       "version_minor": 0
      },
      "text/plain": [
       "  0%|          | 0/34 [00:00<?, ?it/s]"
      ]
     },
     "metadata": {},
     "output_type": "display_data"
    },
    {
     "data": {
      "application/vnd.jupyter.widget-view+json": {
       "model_id": "859d653d5f394015b54575534f2409df",
       "version_major": 2,
       "version_minor": 0
      },
      "text/plain": [
       "  0%|          | 0/8 [00:00<?, ?it/s]"
      ]
     },
     "metadata": {},
     "output_type": "display_data"
    },
    {
     "data": {
      "application/vnd.jupyter.widget-view+json": {
       "model_id": "193092c96d9441cc8054ed35260db23b",
       "version_major": 2,
       "version_minor": 0
      },
      "text/plain": [
       "  0%|          | 0/4 [00:00<?, ?it/s]"
      ]
     },
     "metadata": {},
     "output_type": "display_data"
    },
    {
     "data": {
      "application/vnd.jupyter.widget-view+json": {
       "model_id": "b9445ba3ff6945a1b264a5699ce7fd6e",
       "version_major": 2,
       "version_minor": 0
      },
      "text/plain": [
       "  0%|          | 0/2 [00:00<?, ?it/s]"
      ]
     },
     "metadata": {},
     "output_type": "display_data"
    }
   ],
   "source": [
    "create_obj_point_clouds(obj_dict, img_dict, voxel_size=0.01, dbscan_params=(0.04, 25), \n",
    "                        icp_type='vanilla', output_dir='/home2/kumaradi.gupta/instance-map/output')"
   ]
  },
  {
   "cell_type": "code",
   "execution_count": 24,
   "metadata": {},
   "outputs": [],
   "source": [
    "def project_point_2d(points, pose, intrinsics):\n",
    "    \"\"\"\n",
    "    Batch process the projection of 3D points back onto a 2D frame.\n",
    "    \"\"\"\n",
    "\n",
    "    # Convert pose quaternion and translation vector to 4x4 pose matrix\n",
    "    pos = np.array(pose[:3], dtype=float)\n",
    "    quat = pose[3:]\n",
    "    rot = R.from_quat(quat).as_matrix()\n",
    "    pose_matrix = np.eye(4)\n",
    "    pose_matrix[:3, :3] = rot\n",
    "    pose_matrix[:3, 3] = pos\n",
    "    \n",
    "    # Transform points back to the camera's coordinate system\n",
    "    pose_inv = np.linalg.inv(pose_matrix)\n",
    "    points_homo = np.hstack((points, np.ones((points.shape[0], 1))))\n",
    "    points_camera_homo = (pose_inv @ points_homo.T).T\n",
    "    points_camera = points_camera_homo[:, :3] / points_camera_homo[:, 3:]\n",
    "    \n",
    "    # Project the 3D points to 2D\n",
    "    projected_points = (intrinsics @ points_camera.T).T\n",
    "    x, y = projected_points[:, :2].T / projected_points[:, 2]\n",
    "    \n",
    "    return x.astype(int), y.astype(int)\n",
    "\n",
    "def check_mask_intersection(x, y, mask):\n",
    "    \"\"\"\n",
    "    Check for the intersection of projected points with the object mask.\n",
    "    \"\"\"\n",
    "    height, width = mask.shape\n",
    "    # Create a boolean array to determine which x, y pairs are within bounds\n",
    "    valid_indices = (x >= 0) & (x < width) & (y >= 0) & (y < height)\n",
    "    \n",
    "    # Clip out-of-bounds indices to fit within array bounds\n",
    "    x_clipped = np.clip(x, 0, width - 1)\n",
    "    y_clipped = np.clip(y, 0, height - 1)\n",
    "    \n",
    "    # Gather mask values at (y, x) positions\n",
    "    mask_values = mask[y_clipped, x_clipped]\n",
    "    \n",
    "    # Use logical AND to combine validity and mask value\n",
    "    return valid_indices & (mask_values == 1)\n",
    "\n",
    "def remove_noise_from_point_cloud(point_cloud, poses, masks, intrinsics, vote_threshold_multiplier=0.5):\n",
    "    \"\"\"\n",
    "    Remove noise from an Open3D point cloud based on a voting system.\n",
    "    \"\"\"\n",
    "    # Convert Open3D point cloud to NumPy array\n",
    "    points = np.asarray(point_cloud.points)\n",
    "    colors = np.asarray(point_cloud.colors)\n",
    "    \n",
    "    # Initialize voting array\n",
    "    votes = np.zeros(points.shape[0], dtype=int)\n",
    "\n",
    "    # Project points and accumulate votes\n",
    "    for pose, mask in zip(poses, masks):\n",
    "        x, y = project_point_2d(points, pose, intrinsics)\n",
    "        votes += check_mask_intersection(x, y, mask)\n",
    "\n",
    "    # Filter points based on vote threshold\n",
    "    vote_threshold = len(poses) * vote_threshold_multiplier\n",
    "\n",
    "    valid_indices = votes > vote_threshold\n",
    "    filtered_points = points[valid_indices]\n",
    "    filtered_colors = colors[valid_indices]\n",
    "\n",
    "    # Create a new Open3D PointCloud object for the filtered points\n",
    "    filtered_point_cloud = o3d.geometry.PointCloud()\n",
    "    filtered_point_cloud.points = o3d.utility.Vector3dVector(filtered_points)\n",
    "    filtered_point_cloud.colors = o3d.utility.Vector3dVector(filtered_colors)\n",
    "    \n",
    "    return filtered_point_cloud\n"
   ]
  },
  {
   "cell_type": "code",
   "execution_count": 25,
   "metadata": {},
   "outputs": [],
   "source": [
    "def save_filtered_pcds(output_dir, dbscan_params=(0.04, 70), vote_threshold_multiplier=0.5):  \n",
    "    # Iterate through the phrases\n",
    "    for phrase in tqdm(os.listdir(output_dir)):\n",
    "        phrase_dir = os.path.join(output_dir, phrase)\n",
    "        # Iterate through the clusters\n",
    "        for cluster_file in tqdm(os.listdir(phrase_dir)):\n",
    "            # Load the point cloud\n",
    "            pcd = o3d.io.read_point_cloud(os.path.join(phrase_dir, cluster_file))\n",
    "            masks = []\n",
    "            poses = []\n",
    "            cam_mat = get_kinect_cam_mat()\n",
    "\n",
    "            cluster_id = cluster_file.split('.')[0]\n",
    "            \n",
    "            if not cluster_id.isdigit():\n",
    "                continue\n",
    "\n",
    "            # source_ids = obj_dict[phrase][int(cluster_id)]['source_ids']\n",
    "\n",
    "            # for img_id, obj_id in source_ids:\n",
    "            #     mask = img_dict[img_id]['objs'][obj_id]['mask']\n",
    "            #     pose = get_pose(img_id)\n",
    "\n",
    "            #     masks.append(mask)\n",
    "            #     poses.append(pose)\n",
    "            \n",
    "            # Filter the point cloud\n",
    "            filtered_pcd = fast_DBSCAN(pcd, eps=dbscan_params[0], min_samples=dbscan_params[1])\n",
    "            # filtered_pcd = remove_noise_from_point_cloud(filtered_pcd, poses, masks, cam_mat, vote_threshold_multiplier=vote_threshold_multiplier)\n",
    "\n",
    "            # Save the filtered point cloud\n",
    "            file_path = os.path.join(phrase_dir, f'{cluster_id}_filtered.ply')\n",
    "            o3d.io.write_point_cloud(file_path, filtered_pcd)\n",
    "\n"
   ]
  },
  {
   "cell_type": "code",
   "execution_count": 26,
   "metadata": {},
   "outputs": [
    {
     "data": {
      "application/vnd.jupyter.widget-view+json": {
       "model_id": "e1dc29b265e3407e8168ee9c8bb9db9e",
       "version_major": 2,
       "version_minor": 0
      },
      "text/plain": [
       "  0%|          | 0/4 [00:00<?, ?it/s]"
      ]
     },
     "metadata": {},
     "output_type": "display_data"
    },
    {
     "data": {
      "application/vnd.jupyter.widget-view+json": {
       "model_id": "914b63f6ae8a4540880669409c69a748",
       "version_major": 2,
       "version_minor": 0
      },
      "text/plain": [
       "  0%|          | 0/4 [00:00<?, ?it/s]"
      ]
     },
     "metadata": {},
     "output_type": "display_data"
    },
    {
     "data": {
      "application/vnd.jupyter.widget-view+json": {
       "model_id": "363a8f734ade46d4be96cd7411c25e2d",
       "version_major": 2,
       "version_minor": 0
      },
      "text/plain": [
       "  0%|          | 0/2 [00:00<?, ?it/s]"
      ]
     },
     "metadata": {},
     "output_type": "display_data"
    },
    {
     "name": "stdout",
     "output_type": "stream",
     "text": [
      "[W] [13:36:49.015109] Batch size limited by the chosen integer type (4 bytes). 44567 -> 35420. Using the larger integer type might result in better performance\n"
     ]
    },
    {
     "data": {
      "application/vnd.jupyter.widget-view+json": {
       "model_id": "ffbe860e508e46c48b51eb153b0004c0",
       "version_major": 2,
       "version_minor": 0
      },
      "text/plain": [
       "  0%|          | 0/8 [00:00<?, ?it/s]"
      ]
     },
     "metadata": {},
     "output_type": "display_data"
    },
    {
     "name": "stdout",
     "output_type": "stream",
     "text": [
      "[W] [13:36:51.117065] Batch size limited by the chosen integer type (4 bytes). 38801 -> 30837. Using the larger integer type might result in better performance\n",
      "[W] [13:36:52.861705] Batch size limited by the chosen integer type (4 bytes). 42659 -> 33903. Using the larger integer type might result in better performance\n"
     ]
    },
    {
     "data": {
      "application/vnd.jupyter.widget-view+json": {
       "model_id": "c340ffbe0cbf4d81afb1a3a66f1f9c4c",
       "version_major": 2,
       "version_minor": 0
      },
      "text/plain": [
       "  0%|          | 0/34 [00:00<?, ?it/s]"
      ]
     },
     "metadata": {},
     "output_type": "display_data"
    }
   ],
   "source": [
    "output_dir = '/home2/kumaradi.gupta/instance-map/output_kinect'\n",
    "save_filtered_pcds(output_dir, dbscan_params=(0.04, 70), vote_threshold_multiplier=0.5)"
   ]
  },
  {
   "cell_type": "markdown",
   "metadata": {},
   "source": [
    "# Experiments"
   ]
  },
  {
   "cell_type": "code",
   "execution_count": null,
   "metadata": {},
   "outputs": [],
   "source": [
    "# Compare the embeddings of all images, first object instance\n",
    "\n",
    "embedding_type = 'dino_embed'\n",
    "# Sort the img_ids\n",
    "sorted_img_ids = sorted(img_dict.keys(), key=lambda x: [int(i) for i in x.split('_')])\n",
    "\n",
    "# Extract the embeddings in the sorted order\n",
    "embeddings = [img_dict[img_id]['objs'][0][embedding_type] for img_id in sorted_img_ids]\n",
    "\n",
    "# Calculate the cosine similarity matrix\n",
    "similarity_matrix = cosine_similarity(embeddings)\n",
    "\n",
    "# Visualize the similarity matrix as a heatmap\n",
    "plt.figure(figsize=(8, 8))\n",
    "plt.imshow(similarity_matrix, cmap='hot', interpolation='nearest')\n",
    "plt.colorbar(label='Cosine Similarity')\n",
    "plt.title('Clip Embedding Similarity')\n",
    "\n",
    "# Add the similarity scores as text labels\n",
    "for i in range(len(similarity_matrix)):\n",
    "    for j in range(len(similarity_matrix)):\n",
    "        plt.text(j, i, f'{similarity_matrix[i, j]:.2f}', ha='center', va='center', color='white' if similarity_matrix[i, j] < 0.5 else 'black')\n",
    "\n",
    "plt.xticks(range(len(img_dict)), sorted_img_ids, rotation=90)\n",
    "plt.yticks(range(len(img_dict)), sorted_img_ids)\n",
    "plt.show()\n",
    "\n"
   ]
  },
  {
   "cell_type": "code",
   "execution_count": 40,
   "metadata": {},
   "outputs": [
    {
     "data": {
      "image/png": "[encoded data removed]",
      "text/plain": [
       "<Figure size 640x480 with 1 Axes>"
      ]
     },
     "metadata": {},
     "output_type": "display_data"
    },
    {
     "data": {
      "image/png": "[encoded data removed]",
      "text/plain": [
       "<Figure size 640x480 with 1 Axes>"
      ]
     },
     "metadata": {},
     "output_type": "display_data"
    },
    {
     "data": {
      "image/png": "[encoded data removed]",
      "text/plain": [
       "<Figure size 640x480 with 1 Axes>"
      ]
     },
     "metadata": {},
     "output_type": "display_data"
    }
   ],
   "source": [
    "#Code to visualize separate masks for a single image\n",
    "\n",
    "img_id = '1510'\n",
    "\n",
    "# Load the image\n",
    "img_path = img_dict[img_id]['img_path']\n",
    "img = cv2.imread(img_path)\n",
    "img = cv2.cvtColor(img, cv2.COLOR_BGR2RGB)  # Convert from BGR to RGB\n",
    "\n",
    "# Get the object data for the image\n",
    "objs = img_dict[img_id]['objs']\n",
    "\n",
    "# Loop through each object in the image\n",
    "for obj_index, obj_data in objs.items():\n",
    "    # Get the mask for the object\n",
    "    mask = obj_data['mask']\n",
    "\n",
    "    # If the mask isn't a numpy array, convert it to one\n",
    "    if not isinstance(mask, np.ndarray):\n",
    "        mask = mask.numpy()\n",
    "\n",
    "    # Apply the mask to the image. This assumes your mask is binary (0s and 1s).\n",
    "    # If it isn't, you may need to adjust this step accordingly.\n",
    "    masked_image = img * np.expand_dims(mask, axis=2)\n",
    "\n",
    "    # Display the masked image\n",
    "    plt.figure()\n",
    "    plt.imshow(masked_image)\n",
    "    plt.title(f\"Object {obj_index}\")\n",
    "    plt.show()\n"
   ]
  },
  {
   "cell_type": "code",
   "execution_count": null,
   "metadata": {},
   "outputs": [],
   "source": [
    "#Code to draw the segmentation mask on the image\n",
    "from torchvision.utils import draw_segmentation_masks\n",
    "\n",
    "img_id = 'JmbYfDe2QKZ_123'\n",
    "\n",
    "# Load the image\n",
    "img_path = img_dict[img_id]['img_path']\n",
    "img = Image.open(img_path)  # Load with PIL to avoid needing to convert color spaces\n",
    "\n",
    "transform = transforms.Compose([transforms.ToTensor()])\n",
    "img_tensor = transform(img)\n",
    "img_tensor = (img_tensor * 255).byte()\n",
    "\n",
    "\n",
    "masks = []\n",
    "mask_colors = []\n",
    "\n",
    "objs = img_dict[img_id]['objs']\n",
    "\n",
    "for obj_index, obj_data in objs.items():\n",
    "    mask = obj_data['mask']\n",
    "\n",
    "    phrase = obj_data['phrase']\n",
    "    phrase = phrase.split()[0] #Use only the first phrase\n",
    "\n",
    "    # If the mask isn't a numpy array, convert it to one\n",
    "    if not isinstance(mask, np.ndarray):\n",
    "        mask = mask.numpy()\n",
    "\n",
    "    # Add the mask to the list of masks\n",
    "    masks.append(mask)\n",
    "    #Cheeck the color for the mask and add it to the list\n",
    "    color = colors[req_tags.index(phrase)]\n",
    "    mask_colors.append(color)\n",
    "\n",
    "# Convert the masks to a boolean tensor\n",
    "masks_tensor = torch.tensor(masks, dtype=torch.bool)\n",
    "\n",
    "# Draw all masks on the image\n",
    "result = draw_segmentation_masks(img_tensor, masks_tensor, colors=mask_colors)\n",
    "\n",
    "# Convert the result tensor back to a PIL image, transpose the dimensions back to H,W,C for PIL\n",
    "result_img = Image.fromarray(result.permute(1, 2, 0).byte().cpu().numpy())\n",
    "\n",
    "# Display the image with all masks\n",
    "plt.imshow(result_img)\n",
    "plt.show()\n"
   ]
  },
  {
   "cell_type": "code",
   "execution_count": 14,
   "metadata": {},
   "outputs": [
    {
     "data": {
      "application/vnd.jupyter.widget-view+json": {
       "model_id": "d7df11f63e4a4a4aa467908fa8773212",
       "version_major": 2,
       "version_minor": 0
      },
      "text/plain": [
       "  0%|          | 0/568 [00:00<?, ?it/s]"
      ]
     },
     "metadata": {},
     "output_type": "display_data"
    },
    {
     "name": "stdout",
     "output_type": "stream",
     "text": [
      "JmbYfDe2QKZ_445_3: stool chair\n",
      "JmbYfDe2QKZ_126_1: stool table\n",
      "JmbYfDe2QKZ_245_3: stool table\n",
      "JmbYfDe2QKZ_563_2: couch chair\n",
      "JmbYfDe2QKZ_443_3: stool chair\n",
      "JmbYfDe2QKZ_209_3: stool table\n",
      "JmbYfDe2QKZ_294_0: closet door\n",
      "JmbYfDe2QKZ_448_3: stool chair\n",
      "JmbYfDe2QKZ_33_3: couch chair\n",
      "JmbYfDe2QKZ_293_0: closet door\n",
      "JmbYfDe2QKZ_293_1: closet door\n",
      "JmbYfDe2QKZ_125_2: stool table\n",
      "JmbYfDe2QKZ_441_4: stool chair\n",
      "JmbYfDe2QKZ_533_5: stool table\n",
      "JmbYfDe2QKZ_332_0: closet door\n",
      "JmbYfDe2QKZ_44_4: couch chair\n",
      "JmbYfDe2QKZ_471_3: stool chair\n",
      "JmbYfDe2QKZ_35_8: stool table\n",
      "JmbYfDe2QKZ_465_5: stool chair\n",
      "JmbYfDe2QKZ_210_2: stool table\n"
     ]
    }
   ],
   "source": [
    "# Code to check if there are multiple phrases for a single object\n",
    "\n",
    "for img_id, img_data in tqdm(img_dict.items()):\n",
    "    objs_data = img_data['objs']\n",
    "    for obj_id, obj_data in objs_data.items():\n",
    "        phrase = obj_data['phrase']\n",
    "        words = phrase.split()  # Splits the phrase into words using whitespace as the separator\n",
    "        if len(words) > 1:  # Checks if there are more than one word\n",
    "            print(f'{img_id}_{obj_id}: {phrase}')\n"
   ]
  },
  {
   "cell_type": "code",
   "execution_count": null,
   "metadata": {},
   "outputs": [],
   "source": [
    "# Code to print the similarity of dino embeds for all objects of an image\n",
    "\n",
    "img_id = 'JmbYfDe2QKZ_123'\n",
    "objs_data = img_dict[img_id]['objs']\n",
    "\n",
    "dino_embeds = [obj_data['dino_embed'] for obj_id, obj_data in objs_data.items()]\n",
    "phrases = [obj_data['phrase'] for obj_id, obj_data in objs_data.items()]\n",
    "\n",
    "# Reshaping the embeds to fit the input shape for cosine_similarity\n",
    "dino_embeds_matrix = np.array(dino_embeds).reshape(-1, 768)\n",
    "\n",
    "# Calculating the cosine similarity\n",
    "similarity_matrix = cosine_similarity(dino_embeds_matrix)\n",
    "\n",
    "# print(\"Cosine Similarities:\")\n",
    "# print(similarities)\n",
    "\n",
    "# Visualize the similarity matrix as a heatmap\n",
    "plt.figure(figsize=(8, 8))\n",
    "plt.imshow(similarity_matrix, cmap='hot', interpolation='nearest')\n",
    "plt.colorbar(label='Cosine Similarity')\n",
    "plt.title('Dino Embedding Similarity')\n",
    "\n",
    "# Add the similarity scores as text labels\n",
    "for i in range(len(similarity_matrix)):\n",
    "    for j in range(len(similarity_matrix)):\n",
    "        plt.text(j, i, f'{similarity_matrix[i, j]:.2f}', ha='center', va='center', color='white' if similarity_matrix[i, j] < 0.5 else 'black')\n",
    "\n",
    "plt.xticks(range(len(phrases)), phrases, rotation=90)\n",
    "plt.yticks(range(len(phrases)), phrases)\n",
    "plt.show()\n"
   ]
  },
  {
   "cell_type": "code",
   "execution_count": null,
   "metadata": {},
   "outputs": [],
   "source": [
    "# Visualize 3D bounding boxes without DBSCAN\n",
    "from mpl_toolkits.mplot3d.art3d import Poly3DCollection\n",
    "\n",
    "img_ids = ['JmbYfDe2QKZ_123']\n",
    "\n",
    "# Normalize the colors to (0-1) range\n",
    "colors_normalized = [(r/255, g/255, b/255) for r, g, b in colors]\n",
    "\n",
    "# Create a mapping of phrases to colors\n",
    "color_mapping = {phrase: color for phrase, color in zip(req_tags, colors_normalized)}\n",
    "default_color = 'gray' # Default color if the phrase is not in the mapping\n",
    "\n",
    "fig = plt.figure()\n",
    "ax = fig.add_subplot(111, projection='3d')\n",
    "\n",
    "# Finding the global min and max bounds across all bounding boxes\n",
    "global_min_bound = np.array([float('inf')] * 3)\n",
    "global_max_bound = np.array([float('-inf')] * 3)\n",
    "\n",
    "for img_id in img_ids:\n",
    "  obj_data = img_dict[img_id]['objs']\n",
    "\n",
    "  for obj_id, data in tqdm(obj_data.items()):\n",
    "\n",
    "      bounds = data['aabb']\n",
    "\n",
    "      phrase = data['phrase']\n",
    "      phrase = phrase.split()[0]\n",
    "\n",
    "      # if phrase != 'chair':\n",
    "      #     continue\n",
    "\n",
    "      color = color_mapping.get(phrase, default_color)\n",
    "\n",
    "      min_bound, max_bound = bounds\n",
    "      min_bound = [min_bound[0], min_bound[2], min_bound[1]]\n",
    "      max_bound = [max_bound[0], max_bound[2], max_bound[1]]\n",
    "\n",
    "      global_min_bound = np.minimum(global_min_bound, min_bound)\n",
    "      global_max_bound = np.maximum(global_max_bound, max_bound)\n",
    "\n",
    "      # Define vertices of the bounding box\n",
    "      vertices = [\n",
    "          [min_bound[0], min_bound[1], min_bound[2]],\n",
    "          [max_bound[0], min_bound[1], min_bound[2]],\n",
    "          [max_bound[0], max_bound[1], min_bound[2]],\n",
    "          [min_bound[0], max_bound[1], min_bound[2]],\n",
    "          [min_bound[0], min_bound[1], max_bound[2]],\n",
    "          [max_bound[0], min_bound[1], max_bound[2]],\n",
    "          [max_bound[0], max_bound[1], max_bound[2]],\n",
    "          [min_bound[0], max_bound[1], max_bound[2]]\n",
    "      ]\n",
    "\n",
    "      # Define faces using vertices\n",
    "      faces = [\n",
    "          [vertices[0], vertices[1], vertices[2], vertices[3]],\n",
    "          [vertices[4], vertices[5], vertices[6], vertices[7]],\n",
    "          [vertices[0], vertices[1], vertices[5], vertices[4]],\n",
    "          [vertices[2], vertices[3], vertices[7], vertices[6]],\n",
    "          [vertices[1], vertices[2], vertices[6], vertices[5]],\n",
    "          [vertices[4], vertices[7], vertices[3], vertices[0]]\n",
    "      ]\n",
    "\n",
    "      # Plot the faces\n",
    "      for face in faces:\n",
    "          poly3d = [[vertice[0], vertice[1], vertice[2]] for vertice in face]\n",
    "          ax.add_collection3d(Poly3DCollection([poly3d], facecolors=color, linewidths=1, edgecolors='k', alpha=0.25))\n",
    "\n",
    "\n",
    "# Setting the axes limits based on the global bounds\n",
    "ax.set_xlim([global_min_bound[0], global_max_bound[0]])\n",
    "ax.set_ylim([global_min_bound[1], global_max_bound[1]])\n",
    "ax.set_zlim([global_min_bound[2], global_max_bound[2]])\n",
    "plt.show()\n"
   ]
  },
  {
   "cell_type": "code",
   "execution_count": 76,
   "metadata": {},
   "outputs": [
    {
     "data": {
      "application/vnd.jupyter.widget-view+json": {
       "model_id": "b8017e4ad29d4204b1ef4155528ddd90",
       "version_major": 2,
       "version_minor": 0
      },
      "text/plain": [
       "  0%|          | 0/9 [00:00<?, ?it/s]"
      ]
     },
     "metadata": {},
     "output_type": "display_data"
    },
    {
     "data": {
      "application/vnd.jupyter.widget-view+json": {
       "model_id": "2a73babe1d8d485ba26d61acefa14765",
       "version_major": 2,
       "version_minor": 0
      },
      "text/plain": [
       "  0%|          | 0/9 [00:00<?, ?it/s]"
      ]
     },
     "metadata": {},
     "output_type": "display_data"
    },
    {
     "data": {
      "application/vnd.jupyter.widget-view+json": {
       "model_id": "0b67d2d0a8db4d57a0dbf63cc13bfbb9",
       "version_major": 2,
       "version_minor": 0
      },
      "text/plain": [
       "  0%|          | 0/8 [00:00<?, ?it/s]"
      ]
     },
     "metadata": {},
     "output_type": "display_data"
    },
    {
     "data": {
      "image/png": "[encoded data removed]",
      "text/plain": [
       "<Figure size 640x480 with 1 Axes>"
      ]
     },
     "metadata": {},
     "output_type": "display_data"
    }
   ],
   "source": [
    "# Visualize 3D bounding boxes with DBSCAN\n",
    "from mpl_toolkits.mplot3d.art3d import Poly3DCollection\n",
    "\n",
    "img_ids = ['JmbYfDe2QKZ_1', 'JmbYfDe2QKZ_2', 'JmbYfDe2QKZ_3']\n",
    "\n",
    "fig = plt.figure()\n",
    "ax = fig.add_subplot(111, projection='3d')\n",
    "\n",
    "# Normalize the colors to (0-1) range\n",
    "colors_normalized = [(r/255, g/255, b/255) for r, g, b in colors]\n",
    "\n",
    "# Create a mapping of phrases to colors\n",
    "color_mapping = {phrase: color for phrase, color in zip(req_tags, colors_normalized)}\n",
    "default_color = 'gray' # Default color if the phrase is not in the mapping\n",
    "\n",
    "# Finding the global min and max bounds across all bounding boxes\n",
    "global_min_bound = np.array([float('inf')] * 3)\n",
    "global_max_bound = np.array([float('-inf')] * 3)\n",
    "\n",
    "final_pcd = o3d.geometry.PointCloud()\n",
    "\n",
    "for img_id in img_ids:\n",
    "  obj_data = img_dict[img_id]['objs']\n",
    "  depth = get_depth(img_id)\n",
    "  pose = get_pose(img_id)\n",
    "\n",
    "#   cam_mat = get_sim_cam_mat_with_fov(depth.shape[0], depth.shape[1], fov=90)\n",
    "  cam_mat = get_kinect_cam_mat()\n",
    "  \n",
    "  for obj_id, data in tqdm(obj_data.items()):\n",
    "\n",
    "      #Reconstruct pointcloud\n",
    "      mask = data['mask']\n",
    "      phrase = data['phrase']\n",
    "      phrase = phrase.split()[0]\n",
    "\n",
    "      color = color_mapping.get(phrase, default_color)\n",
    "\n",
    "      pcd = create_point_cloud(depth, mask, cam_mat, pose)\n",
    "      pcd = pcd.voxel_down_sample(voxel_size=0.01)\n",
    "      pcd = fast_DBSCAN(pcd, eps=0.2, min_samples=200)\n",
    "\n",
    "      final_pcd += pcd\n",
    "\n",
    "      bounds = get_obj_bounds(pcd)\n",
    "      # bounds = data['aabb']\n",
    "      min_bound, max_bound = bounds\n",
    "\n",
    "      min_bound = [min_bound[0], min_bound[2], min_bound[1]]\n",
    "      max_bound = [max_bound[0], max_bound[2], max_bound[1]]\n",
    "\n",
    "      global_min_bound = np.minimum(global_min_bound, min_bound)\n",
    "      global_max_bound = np.maximum(global_max_bound, max_bound)\n",
    "\n",
    "      # Define vertices of the bounding box\n",
    "      vertices = [\n",
    "          [min_bound[0], min_bound[1], min_bound[2]],\n",
    "          [max_bound[0], min_bound[1], min_bound[2]],\n",
    "          [max_bound[0], max_bound[1], min_bound[2]],\n",
    "          [min_bound[0], max_bound[1], min_bound[2]],\n",
    "          [min_bound[0], min_bound[1], max_bound[2]],\n",
    "          [max_bound[0], min_bound[1], max_bound[2]],\n",
    "          [max_bound[0], max_bound[1], max_bound[2]],\n",
    "          [min_bound[0], max_bound[1], max_bound[2]]\n",
    "      ]\n",
    "\n",
    "      # Define faces using vertices\n",
    "      faces = [\n",
    "          [vertices[0], vertices[1], vertices[2], vertices[3]],\n",
    "          [vertices[4], vertices[5], vertices[6], vertices[7]],\n",
    "          [vertices[0], vertices[1], vertices[5], vertices[4]],\n",
    "          [vertices[2], vertices[3], vertices[7], vertices[6]],\n",
    "          [vertices[1], vertices[2], vertices[6], vertices[5]],\n",
    "          [vertices[4], vertices[7], vertices[3], vertices[0]]\n",
    "      ]\n",
    "\n",
    "      # Plot the faces\n",
    "      for face in faces:\n",
    "          poly3d = [[vertice[0], vertice[1], vertice[2]] for vertice in face]\n",
    "          ax.add_collection3d(Poly3DCollection([poly3d], facecolors=color, linewidths=1, edgecolors='k', alpha=0.25))\n",
    "\n",
    "# Save the pointcloud\n",
    "o3d.io.write_point_cloud('/home2/kumaradi.gupta/instance-map/sample_pcd/test4.ply', final_pcd)\n",
    "\n",
    "# Setting the axes limits based on the global bounds\n",
    "ax.set_xlabel('X')\n",
    "ax.set_ylabel('Y')\n",
    "ax.set_zlabel('Z')\n",
    "\n",
    "ax.set_xlim([global_min_bound[0], global_max_bound[0]])\n",
    "ax.set_ylim([global_min_bound[1], global_max_bound[1]])\n",
    "ax.set_zlim([global_min_bound[2], global_max_bound[2]])\n",
    "plt.show()\n"
   ]
  },
  {
   "cell_type": "code",
   "execution_count": 14,
   "metadata": {},
   "outputs": [
    {
     "data": {
      "image/png": "[encoded data removed]",
      "text/plain": [
       "<Figure size 800x800 with 2 Axes>"
      ]
     },
     "metadata": {},
     "output_type": "display_data"
    }
   ],
   "source": [
    "img_id = '1'\n",
    "depth_data = get_depth(img_id)\n",
    "\n",
    "# only keep the depth values that are within the valid range\n",
    "# depth_data[depth_data < 0] = 0\n",
    "# depth_data[depth_data > 3] = 0\n",
    "\n",
    "# Visualize the depth data as a heatmap\n",
    "plt.figure(figsize=(8, 8))\n",
    "plt.imshow(depth_data, cmap='viridis')  # You can choose different colormaps like 'gray', 'plasma', etc.\n",
    "plt.colorbar(label='Depth Value')\n",
    "plt.title('Depth Visualization')\n",
    "plt.xlabel('Width')\n",
    "plt.ylabel('Height')\n",
    "plt.show()\n"
   ]
  },
  {
   "cell_type": "code",
   "execution_count": 76,
   "metadata": {},
   "outputs": [],
   "source": [
    "def test_point_clouds(obj_dict, img_dict, output_dir, \n",
    "                            valid_phrases, valid_clusters, dbscan_params, icp_type='vanilla',\n",
    "                            voxel_size=0.01, color=(1, 0, 0)):\n",
    "    # Ensure the outputs directory exists\n",
    "    if not os.path.exists(output_dir):\n",
    "        os.mkdir(output_dir)\n",
    "\n",
    "    for eps, min_samples in tqdm(dbscan_params):\n",
    "        # Iterate through the phrases and clusters\n",
    "        for phrase, clusters in tqdm(obj_dict.items()):\n",
    "\n",
    "            if phrase not in valid_phrases:\n",
    "                continue\n",
    "\n",
    "            # Create a directory for this phrase if it doesn't exist\n",
    "            phrase_dir = os.path.join(output_dir, phrase)\n",
    "            if not os.path.exists(phrase_dir):\n",
    "                os.mkdir(phrase_dir)\n",
    "\n",
    "            color = colors[req_tags.index(phrase)]\n",
    "            color = normalize_color(color)\n",
    "\n",
    "            # Iterate through the clusters\n",
    "            for cluster_id, cluster_data in clusters.items():\n",
    "\n",
    "                if cluster_id not in valid_clusters:\n",
    "                    continue\n",
    "\n",
    "                # Initialize an empty point cloud to accumulate points from all source IDs\n",
    "                final_pcd = o3d.geometry.PointCloud()\n",
    "\n",
    "                masks = []\n",
    "                poses = []\n",
    "\n",
    "                # cam_mat = get_sim_cam_mat_with_fov(depth.shape[0], depth.shape[1], fov=90)\n",
    "                cam_mat = get_kinect_cam_mat()\n",
    "\n",
    "                # Iterate through the source IDs for this cluster\n",
    "                for img_id, obj_id in cluster_data['source_ids']:\n",
    "                    # Get the required information\n",
    "                    depth = get_depth(img_id)\n",
    "                    pose = get_pose(img_id)\n",
    "\n",
    "                    if pose is None:\n",
    "                        continue\n",
    "\n",
    "                    mask = img_dict[img_id]['objs'][obj_id]['mask']\n",
    "\n",
    "                    # Create the point cloud for this source ID\n",
    "                    pcd = create_point_cloud(depth, mask, cam_mat, pose, color=color)\n",
    "                    pcd = pcd.voxel_down_sample(voxel_size=voxel_size)\n",
    "                    pcd = fast_DBSCAN(pcd, eps=eps, min_samples=min_samples)\n",
    "\n",
    "                    if not final_pcd.is_empty():\n",
    "                        pcd.voxel_down_sample(voxel_size=voxel_size)\n",
    "                        final_pcd.voxel_down_sample(voxel_size=voxel_size)\n",
    "\n",
    "                        if icp_type == 'vanilla':\n",
    "                            pcd = vanilla_icp(pcd, final_pcd, voxel_size=voxel_size, max_iter=1000000, threshold_multiplier=1.5)\n",
    "                        elif icp_type == 'feature':\n",
    "                            pcd = feature_icp(pcd, final_pcd, voxel_size=voxel_size, ransac_n=3, ransac_max_iter=100000, ransac_confidence=0.999)\n",
    "                        elif icp_type == 'fast_feature':\n",
    "                            pcd = fast_feature_icp(pcd, final_pcd, voxel_size=voxel_size)\n",
    "\n",
    "                    # Combine with the final point cloud\n",
    "                    final_pcd += pcd\n",
    "\n",
    "                    # Append the mask and pose to the list\n",
    "                    masks.append(mask)\n",
    "                    poses.append(pose)\n",
    "\n",
    "                # Downsample and filter the final point cloud\n",
    "                final_pcd = final_pcd.voxel_down_sample(voxel_size=voxel_size)\n",
    "\n",
    "                # Save the final point cloud for this cluster\n",
    "                file_path = os.path.join(phrase_dir, f'{cluster_id}_{eps}_{min_samples}.ply')\n",
    "                o3d.io.write_point_cloud(file_path, final_pcd)\n"
   ]
  },
  {
   "cell_type": "code",
   "execution_count": 80,
   "metadata": {},
   "outputs": [
    {
     "data": {
      "application/vnd.jupyter.widget-view+json": {
       "model_id": "0eeec728e5834be1995839f29cbccd90",
       "version_major": 2,
       "version_minor": 0
      },
      "text/plain": [
       "  0%|          | 0/1 [00:00<?, ?it/s]"
      ]
     },
     "metadata": {},
     "output_type": "display_data"
    },
    {
     "data": {
      "application/vnd.jupyter.widget-view+json": {
       "model_id": "b87b737f512c452b87708ace642593af",
       "version_major": 2,
       "version_minor": 0
      },
      "text/plain": [
       "  0%|          | 0/5 [00:00<?, ?it/s]"
      ]
     },
     "metadata": {},
     "output_type": "display_data"
    }
   ],
   "source": [
    "# valid_clusters = [11, 125, 330, 339, 317, 249, 179]\n",
    "# dbscan_params = [(0.1, 20), (0.1, 50), (0.1, 100), (0.1, 200),\n",
    "                #  (0.2, 20), (0.2, 50), (0.2, 100), (0.2, 200)]\n",
    "\n",
    "valid_phrases = ['chair']\n",
    "valid_clusters = [11, 125, 330]\n",
    "dbscan_params = [(0.04, 25)]\n",
    "\n",
    "output_dir = '/home2/kumaradi.gupta/instance-map/output_rtab_test'\n",
    "\n",
    "test_point_clouds(obj_dict, img_dict, output_dir, \n",
    "                  valid_phrases, valid_clusters, \n",
    "                  dbscan_params, icp_type='vanilla', voxel_size=0.01)"
   ]
  },
  {
   "cell_type": "code",
   "execution_count": 86,
   "metadata": {},
   "outputs": [],
   "source": [
    "def try_final_filter_pcds(output_dir, dbscan_params):  \n",
    "\n",
    "    for eps, min_samples in tqdm(dbscan_params):\n",
    "        # Iterate through the phrases\n",
    "        for phrase in tqdm(os.listdir(output_dir)):\n",
    "            phrase_dir = os.path.join(output_dir, phrase)\n",
    "            # Iterate through the clusters\n",
    "            for cluster_file in tqdm(os.listdir(phrase_dir)):\n",
    "                # Load the point cloud\n",
    "                pcd = o3d.io.read_point_cloud(os.path.join(phrase_dir, cluster_file))\n",
    "                masks = []\n",
    "                poses = []\n",
    "                cam_mat = get_kinect_cam_mat()\n",
    "\n",
    "                cluster_id = cluster_file.split('.')[0]\n",
    "                \n",
    "                if not cluster_id.isdigit():\n",
    "                    continue\n",
    "\n",
    "                # source_ids = obj_dict[phrase][int(cluster_id)]['source_ids']\n",
    "\n",
    "                # for img_id, obj_id in source_ids:\n",
    "                #     mask = img_dict[img_id]['objs'][obj_id]['mask']\n",
    "                #     pose = get_pose(img_id)\n",
    "\n",
    "                #     masks.append(mask)\n",
    "                #     poses.append(pose)\n",
    "                \n",
    "                # Filter the point cloud\n",
    "                filtered_pcd = fast_DBSCAN(pcd, eps=eps, min_samples=min_samples)\n",
    "                # filtered_pcd = remove_noise_from_point_cloud(filtered_pcd, poses, masks, cam_mat)\n",
    "\n",
    "                # Save the filtered point cloud\n",
    "                file_path = os.path.join(phrase_dir, f'{cluster_id}_filtered_{eps}_{min_samples}.ply')\n",
    "                o3d.io.write_point_cloud(file_path, filtered_pcd)\n",
    "\n"
   ]
  },
  {
   "cell_type": "code",
   "execution_count": 88,
   "metadata": {},
   "outputs": [
    {
     "data": {
      "application/vnd.jupyter.widget-view+json": {
       "model_id": "1c566150451c4e8ab05e2edf71506009",
       "version_major": 2,
       "version_minor": 0
      },
      "text/plain": [
       "  0%|          | 0/4 [00:00<?, ?it/s]"
      ]
     },
     "metadata": {},
     "output_type": "display_data"
    },
    {
     "data": {
      "application/vnd.jupyter.widget-view+json": {
       "model_id": "6323636bc824471cae8bbcec39d77cb0",
       "version_major": 2,
       "version_minor": 0
      },
      "text/plain": [
       "  0%|          | 0/1 [00:00<?, ?it/s]"
      ]
     },
     "metadata": {},
     "output_type": "display_data"
    },
    {
     "data": {
      "application/vnd.jupyter.widget-view+json": {
       "model_id": "acd38b3b03184cbda15ace47d76e45cf",
       "version_major": 2,
       "version_minor": 0
      },
      "text/plain": [
       "  0%|          | 0/3 [00:00<?, ?it/s]"
      ]
     },
     "metadata": {},
     "output_type": "display_data"
    },
    {
     "name": "stdout",
     "output_type": "stream",
     "text": [
      "[W] [16:44:59.415593] Batch size limited by the chosen integer type (4 bytes). 39401 -> 31314. Using the larger integer type might result in better performance\n"
     ]
    },
    {
     "data": {
      "application/vnd.jupyter.widget-view+json": {
       "model_id": "3827d9d1de3b487d96f7aa3c3c390bd3",
       "version_major": 2,
       "version_minor": 0
      },
      "text/plain": [
       "  0%|          | 0/1 [00:00<?, ?it/s]"
      ]
     },
     "metadata": {},
     "output_type": "display_data"
    },
    {
     "data": {
      "application/vnd.jupyter.widget-view+json": {
       "model_id": "8e7b092fa7b441f2a6adec9bb2da49cb",
       "version_major": 2,
       "version_minor": 0
      },
      "text/plain": [
       "  0%|          | 0/6 [00:00<?, ?it/s]"
      ]
     },
     "metadata": {},
     "output_type": "display_data"
    },
    {
     "name": "stdout",
     "output_type": "stream",
     "text": [
      "[W] [16:45:03.376336] Batch size limited by the chosen integer type (4 bytes). 39401 -> 31314. Using the larger integer type might result in better performance\n"
     ]
    },
    {
     "data": {
      "application/vnd.jupyter.widget-view+json": {
       "model_id": "e1161145276d4fd0bb954ad4dd1287fc",
       "version_major": 2,
       "version_minor": 0
      },
      "text/plain": [
       "  0%|          | 0/1 [00:00<?, ?it/s]"
      ]
     },
     "metadata": {},
     "output_type": "display_data"
    },
    {
     "data": {
      "application/vnd.jupyter.widget-view+json": {
       "model_id": "0cfbcff578cf417b89ef1fd3f34ac709",
       "version_major": 2,
       "version_minor": 0
      },
      "text/plain": [
       "  0%|          | 0/9 [00:00<?, ?it/s]"
      ]
     },
     "metadata": {},
     "output_type": "display_data"
    },
    {
     "name": "stdout",
     "output_type": "stream",
     "text": [
      "[W] [16:45:07.219142] Batch size limited by the chosen integer type (4 bytes). 39401 -> 31314. Using the larger integer type might result in better performance\n"
     ]
    },
    {
     "data": {
      "application/vnd.jupyter.widget-view+json": {
       "model_id": "10049fe48f5d4d1ead6373d42798e01c",
       "version_major": 2,
       "version_minor": 0
      },
      "text/plain": [
       "  0%|          | 0/1 [00:00<?, ?it/s]"
      ]
     },
     "metadata": {},
     "output_type": "display_data"
    },
    {
     "data": {
      "application/vnd.jupyter.widget-view+json": {
       "model_id": "587490eff75249c389adb7601a49ac7c",
       "version_major": 2,
       "version_minor": 0
      },
      "text/plain": [
       "  0%|          | 0/12 [00:00<?, ?it/s]"
      ]
     },
     "metadata": {},
     "output_type": "display_data"
    },
    {
     "name": "stdout",
     "output_type": "stream",
     "text": [
      "[W] [16:45:09.736556] Batch size limited by the chosen integer type (4 bytes). 39401 -> 31314. Using the larger integer type might result in better performance\n"
     ]
    }
   ],
   "source": [
    "output_dir = '/home2/kumaradi.gupta/instance-map/output_rtab_test'\n",
    "dbscan_params = [(0.04, 25), (0.04, 50), (0.04, 100), (0.04, 200)]\n",
    "try_final_filter_pcds(output_dir, dbscan_params)"
   ]
  }
 ],
 "metadata": {
  "kernelspec": {
   "display_name": "o3d",
   "language": "python",
   "name": "python3"
  },
  "language_info": {
   "codemirror_mode": {
    "name": "ipython",
    "version": 3
   },
   "file_extension": ".py",
   "mimetype": "text/x-python",
   "name": "python",
   "nbconvert_exporter": "python",
   "pygments_lexer": "ipython3",
   "version": "3.10.12"
  },
  "orig_nbformat": 4,
  "vscode": {
   "interpreter": {
    "hash": "064d73f5e6a3923b1518042ee08ca4f456bf3acfc62238e998fca7ed8a96199d"
   }
  }
 },
 "nbformat": 4,
 "nbformat_minor": 2
}
