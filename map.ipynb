{
 "cells": [
  {
   "cell_type": "code",
   "execution_count": null,
   "metadata": {},
   "outputs": [],
   "source": [
    "import ipywidgets as widgets\n",
    "from IPython.display import clear_output, display, Image\n",
    "import os\n",
    "\n",
    "import numpy as np\n",
    "import random\n",
    "\n",
    "import torch\n",
    "import torchvision.transforms as transforms\n",
    "\n",
    "from PIL import Image\n",
    "\n",
    "#RAM Installs\n",
    "!pip install timm transformers fairscale pycocoevalcap\n",
    "clear_output()\n",
    "\n",
    "#RAM Imports\n",
    "from ram.models import ram\n",
    "from ram import inference_ram as inference"
   ]
  },
  {
   "cell_type": "code",
   "execution_count": 7,
   "metadata": {},
   "outputs": [
    {
     "name": "stdout",
     "output_type": "stream",
     "text": [
      "/Users/kumaraditya/Desktop/instance-map\n",
      "/Users/kumaraditya/Desktop/instance-map\n"
     ]
    }
   ],
   "source": [
    "HOME = os.getcwd()\n",
    "print(HOME)\n",
    "\n",
    "%cd {HOME}"
   ]
  },
  {
   "cell_type": "code",
   "execution_count": null,
   "metadata": {},
   "outputs": [],
   "source": [
    "%cd {HOME}/ram\n",
    "\n",
    "model = \"RAM\"\n",
    "\n",
    "def download_checkpoints(model):\n",
    "    print('You selected', model)\n",
    "    if not os.path.exists('pretrained'):\n",
    "        os.makedirs('pretrained')\n",
    "\n",
    "    if model == \"RAM\":\n",
    "        ram_weights_path = 'pretrained/ram_swin_large_14m.pth'\n",
    "        if not os.path.exists(ram_weights_path):\n",
    "            !wget https://huggingface.co/spaces/xinyu1205/Recognize_Anything-Tag2Text/resolve/main/ram_swin_large_14m.pth -O pretrained/ram_swin_large_14m.pth\n",
    "        else:\n",
    "            print(\"RAM weights already downloaded!\")\n",
    "    else:\n",
    "        print(\"Invalid Model Selection\")\n",
    "\n",
    "download_checkpoints(model)\n",
    "print(model, 'weights are downloaded!')"
   ]
  },
  {
   "cell_type": "code",
   "execution_count": 5,
   "metadata": {},
   "outputs": [
    {
     "name": "stdout",
     "output_type": "stream",
     "text": [
      "/Users/kumaraditya/Desktop/instance-map\n"
     ]
    }
   ],
   "source": [
    "%cd {HOME}"
   ]
  },
  {
   "cell_type": "code",
   "execution_count": null,
   "metadata": {},
   "outputs": [],
   "source": [
    "image_size = 384 # default value\n",
    "pretrained = \"pretrained/ram_swin_large_14m.pth\"\n",
    "\n",
    "device = torch.device('cuda' if torch.cuda.is_available() else 'cpu')\n",
    "normalize = transforms.Normalize(mean=[0.485, 0.456, 0.406],\n",
    "                                  std=[0.229, 0.224, 0.225])\n",
    "transform = transforms.Compose([\n",
    "    transforms.Resize((image_size, image_size)),\n",
    "    transforms.ToTensor(), normalize\n",
    "])\n",
    "\n",
    "#Load model\n",
    "model = ram(pretrained=pretrained,\n",
    "                          image_size=image_size,\n",
    "                          vit='swin_l')\n",
    "model.eval()\n",
    "\n",
    "model = model.to(device)\n",
    "raw_image = Image.open(image_path).convert(\"RGB\").resize(\n",
    "    (image_size, image_size))\n",
    "image = transform(raw_image).unsqueeze(0).to(device)\n",
    "\n",
    "res = inference(image, model)[0]\n",
    "print(\"Image Tags: \", res)"
   ]
  }
 ],
 "metadata": {
  "kernelspec": {
   "display_name": "base",
   "language": "python",
   "name": "python3"
  },
  "language_info": {
   "codemirror_mode": {
    "name": "ipython",
    "version": 3
   },
   "file_extension": ".py",
   "mimetype": "text/x-python",
   "name": "python",
   "nbconvert_exporter": "python",
   "pygments_lexer": "ipython3",
   "version": "3.11.4"
  },
  "orig_nbformat": 4
 },
 "nbformat": 4,
 "nbformat_minor": 2
}
