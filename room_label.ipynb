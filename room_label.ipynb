{
 "cells": [
  {
   "cell_type": "code",
   "execution_count": 1,
   "metadata": {},
   "outputs": [
    {
     "name": "stdout",
     "output_type": "stream",
     "text": [
      "Jupyter environment detected. Enabling Open3D WebVisualizer.\n",
      "[Open3D INFO] WebRTC GUI backend enabled.\n",
      "[Open3D INFO] WebRTCWindowSystem: HTTP handshake server disabled.\n"
     ]
    }
   ],
   "source": [
    "import numpy as np\n",
    "import os\n",
    "import pickle\n",
    "import torch\n",
    "import open_clip\n",
    "\n",
    "import open3d as o3d\n",
    "\n",
    "from scipy.spatial import cKDTree\n",
    "import matplotlib.pyplot as plt\n",
    "from tqdm.notebook import tqdm\n",
    "from scipy.spatial.transform import Rotation as R"
   ]
  },
  {
   "cell_type": "code",
   "execution_count": 21,
   "metadata": {},
   "outputs": [],
   "source": [
    "all_datasets_path = \"/scratch/kumaraditya_gupta/Datasets/mp3d_test\"\n",
    "gt_dir = \"/scratch/yash_mehan/mp3d_gt_instance_labelled\"\n",
    "dataset_name = \"RPmz2sHmrrY\"\n",
    "seq_name = \"sequence4\"\n",
    "version = \"output_objs_v1\"\n",
    "\n",
    "dataset_path = os.path.join(all_datasets_path, dataset_name, seq_name)\n",
    "imgs_dir = os.path.join(dataset_path, \"color\")\n",
    "\n",
    "def load_gt_data(gt_dir, dataset_name):\n",
    "    gt_file_name = f\"{dataset_name}_xyz_rgb_o_r_inst.npy\"\n",
    "    gt = np.load(os.path.join(gt_dir, gt_file_name)) # (N, 9)\n",
    "    return gt\n",
    "\n",
    "gt = load_gt_data(gt_dir, dataset_name)\n",
    "\n",
    "output_dir = os.path.join(dataset_path, f\"output_{version}\")\n",
    "\n",
    "obj_nodes_path = os.path.join(output_dir, \"scene_obj_nodes.pkl\")\n",
    "with open(obj_nodes_path, 'rb') as file:\n",
    "    obj_nodes_dict = pickle.load(file)\n",
    "\n",
    "img_dict_path = os.path.join(output_dir, \"img_dict.pkl\")\n",
    "with open(img_dict_path, 'rb') as file:\n",
    "    img_dict = pickle.load(file)"
   ]
  },
  {
   "cell_type": "code",
   "execution_count": 3,
   "metadata": {},
   "outputs": [],
   "source": [
    "# gt shape is (N, 9) and format [x, y, z, r, g, b, obj, room_label_id, instance_number]\n",
    "\n",
    "ALL_ROOM_TYPES = [\"bathroom\", \"bedroom\", \"closet\", \"dining\", \"entryway\", \n",
    "\"family\", \"garage\", \"hallway\", \"library\", \"laundry\", \n",
    "\"kitchen\", \"living\", \"meeting\", \"lounge\", \"office\", \n",
    "\"porch\", \"recreation\", \"stairs\", \"toilet\", \"utility\", \n",
    "\"tv\", \"gym\", \"outdoor\", \"balcony\", \"other\", \"bar\", \"classroom\", \n",
    "\"sauna\", \"junk\", \"none\"]\n",
    "\n",
    "for row in gt:\n",
    "    room_label_id = int(row[7])\n",
    "    instance_number = int(row[8])\n",
    "\n",
    "    # update the rows with ints\n",
    "    row[7] = room_label_id\n",
    "    row[8] = instance_number"
   ]
  },
  {
   "cell_type": "code",
   "execution_count": 9,
   "metadata": {},
   "outputs": [],
   "source": [
    "# gt shape is (N, 9) and format [x, y, z, r, g, b, obj, room_label_id, instance_number]\n",
    "unique_room_ids = np.unique(['{}_{}'.format(int(room_label), int(instance_num)) for room_label, instance_num in gt[:, [7, 8]]])\n",
    "\n",
    "# Initialize a dictionary to store mask coordinates for each room\n",
    "room_masks = {}\n",
    "\n",
    "# Iterate over each unique room ID and plot\n",
    "for room_id in unique_room_ids:\n",
    "    room_label, instance_num = map(int, room_id.split('_'))\n",
    "    \n",
    "    # Filter points belonging to the current room\n",
    "    room_points = gt[(gt[:, 7] == room_label) & (gt[:, 8] == instance_num)]\n",
    "    x, y, z = room_points[:, 0], room_points[:, 1], room_points[:, 2]\n",
    "    room_masks[room_id] = (x, y, z)\n",
    "\n",
    "# Create a KD-tree for each room\n",
    "kd_trees = {}\n",
    "for room_id, (x, y, z) in room_masks.items():\n",
    "    points = np.stack((x, y, z), axis=-1)\n",
    "    kd_trees[room_id] = cKDTree(points)\n"
   ]
  },
  {
   "cell_type": "markdown",
   "metadata": {},
   "source": [
    "# Room-wise Poses"
   ]
  },
  {
   "cell_type": "code",
   "execution_count": 6,
   "metadata": {},
   "outputs": [],
   "source": [
    "# Find which room each camera pose belongs to\n",
    "pose_dir = os.path.join(dataset_path, \"pose\")\n",
    "pose_files = os.listdir(pose_dir)\n",
    "\n",
    "def get_pose(img_name):\n",
    "    pose_path = os.path.join(pose_dir, img_name + '.txt')\n",
    "\n",
    "    # check if the pose file exists, if it doesn't, return None\n",
    "    # [x, y, z, qx, qy, qz, qw]\n",
    "    if not os.path.exists(pose_path):\n",
    "        return None\n",
    "    \n",
    "    with open(pose_path, 'r') as f:\n",
    "        pose = f.read().split()\n",
    "        pose = np.array(pose).astype(np.float32)\n",
    "\n",
    "        #change pose from [x, y, z, qw, qx, qy, qz] to [x, y, z, qx, qy, qz, qw]\n",
    "        pose = np.concatenate((pose[:3], pose[4:], pose[3:4]))\n",
    "    return pose\n",
    "\n",
    "def pose_correction(pose):\n",
    "    # Parse the pose\n",
    "    pos = np.array(pose[:3], dtype=float).reshape((3, 1))\n",
    "    quat = pose[3:]\n",
    "    rot = R.from_quat(quat).as_matrix()\n",
    "\n",
    "    # Apply rotation correction, to match the orientation z: backward, y: upward, and x: right\n",
    "    rot_ro_cam = np.eye(3)\n",
    "    rot_ro_cam[1, 1] = -1\n",
    "    rot_ro_cam[2, 2] = -1\n",
    "    # Additional rotation to get the points in the correct orientation\n",
    "    new_rot = np.array([[1.0, 0, 0], [0, 0, -1.0], [0, 1.0, 0]])\n",
    "\n",
    "    combined_rot = new_rot @ rot @ rot_ro_cam\n",
    "\n",
    "    cam_height = 1.50\n",
    "    pos[1] += cam_height\n",
    "\n",
    "    # Create the pose matrix\n",
    "    pose_matrix = np.eye(4)\n",
    "    pose_matrix[:3, :3] = combined_rot\n",
    "    pose_matrix[:3, 3] = pos.reshape(-1)\n",
    "\n",
    "    # create an array of point [0, 0, 0, 1] for camera_coord_homogenous\n",
    "    camera_coord_homogenous = np.zeros((4, 1))\n",
    "    camera_coord_homogenous[-1] = 1\n",
    "\n",
    "    corrected_cam_xyz = new_rot @ pos\n",
    "    corrected_cam_xyz = corrected_cam_xyz.reshape(-1)\n",
    "    corrected_cam_quat = R.from_matrix(combined_rot).as_quat()\n",
    "\n",
    "    return corrected_cam_xyz, corrected_cam_quat\n",
    "    "
   ]
  },
  {
   "cell_type": "code",
   "execution_count": 7,
   "metadata": {},
   "outputs": [
    {
     "data": {
      "application/vnd.jupyter.widget-view+json": {
       "model_id": "3dcdb7b7a6f848ba81458c39cf9deb1d",
       "version_major": 2,
       "version_minor": 0
      },
      "text/plain": [
       "  0%|          | 0/821 [00:00<?, ?it/s]"
      ]
     },
     "metadata": {},
     "output_type": "display_data"
    },
    {
     "name": "stdout",
     "output_type": "stream",
     "text": [
      "Number of pose-room mappings: 821\n"
     ]
    }
   ],
   "source": [
    "# Assuming dataset_path is defined and room_masks is already populated\n",
    "# Initialize a dictionary to store the room ID for each pose\n",
    "pose_room_mapping = {}\n",
    "\n",
    "# Iterate over each pose file\n",
    "for img_id in tqdm(img_dict.keys()):\n",
    "    pose = get_pose(img_id)\n",
    "    pose_xyz, pose_quat = pose_correction(pose)\n",
    "\n",
    "    min_distance = float('inf')\n",
    "    room_id_for_pose = None\n",
    "\n",
    "    for room_id, kd_tree in kd_trees.items():\n",
    "        distance, _ = kd_tree.query(pose_xyz[:2])\n",
    "        if distance < min_distance:\n",
    "            min_distance = distance\n",
    "            room_id_for_pose = room_id\n",
    "\n",
    "    pose_room_mapping[img_id] = room_id_for_pose\n",
    "\n",
    "print(f'Number of pose-room mappings: {len(pose_room_mapping)}')\n"
   ]
  },
  {
   "cell_type": "code",
   "execution_count": 8,
   "metadata": {},
   "outputs": [
    {
     "data": {
      "image/png": "[encoded data removed]",
      "text/plain": [
       "<Figure size 600x600 with 1 Axes>"
      ]
     },
     "metadata": {},
     "output_type": "display_data"
    }
   ],
   "source": [
    "plt.figure(figsize=(6, 6))\n",
    "\n",
    "for img_id in img_dict.keys():\n",
    "    pose = get_pose(img_id)\n",
    "    pose_xyz, pose_quat = pose_correction(pose)\n",
    "\n",
    "    plt.scatter(pose_xyz[0], pose_xyz[1], color='blue')\n",
    "\n",
    "plt.xlabel('X')\n",
    "plt.ylabel('Y')\n",
    "plt.title('Top-Down View of Poses')\n",
    "plt.grid(True)\n",
    "plt.axis('equal')\n",
    "plt.show()\n"
   ]
  },
  {
   "cell_type": "code",
   "execution_count": 9,
   "metadata": {},
   "outputs": [
    {
     "name": "stderr",
     "output_type": "stream",
     "text": [
      "/tmp/ipykernel_186981/232513713.py:4: MatplotlibDeprecationWarning: The get_cmap function was deprecated in Matplotlib 3.7 and will be removed two minor releases later. Use ``matplotlib.colormaps[name]`` or ``matplotlib.colormaps.get_cmap(obj)`` instead.\n",
      "  colormap = plt.cm.get_cmap('tab20', len(unique_room_ids))\n"
     ]
    },
    {
     "data": {
      "application/vnd.jupyter.widget-view+json": {
       "model_id": "401f279d867c4c2aa02ec0e2a624ebbe",
       "version_major": 2,
       "version_minor": 0
      },
      "text/plain": [
       "  0%|          | 0/821 [00:00<?, ?it/s]"
      ]
     },
     "metadata": {},
     "output_type": "display_data"
    },
    {
     "name": "stderr",
     "output_type": "stream",
     "text": [
      "/home/kumaraditya_gupta/.conda/envs/instance-map/lib/python3.10/site-packages/IPython/core/pylabtools.py:152: UserWarning: Creating legend with loc=\"best\" can be slow with large amounts of data.\n",
      "  fig.canvas.print_figure(bytes_io, **kw)\n"
     ]
    },
    {
     "data": {
      "image/png": "[encoded data removed]",
      "text/plain": [
       "<Figure size 600x600 with 1 Axes>"
      ]
     },
     "metadata": {},
     "output_type": "display_data"
    }
   ],
   "source": [
    "# Assuming you have `pose_room_mapping` and `room_masks` from the previous steps.\n",
    "\n",
    "# Continue using the colormap defined for rooms\n",
    "colormap = plt.cm.get_cmap('tab20', len(unique_room_ids))\n",
    "\n",
    "# Create a new figure for plotting\n",
    "plt.figure(figsize=(6, 6))\n",
    "\n",
    "# Plot each room\n",
    "for i, room_id in enumerate(unique_room_ids):\n",
    "    room_points = gt[gt[:, -1] == room_id]\n",
    "    x, y = room_points[:, 0], room_points[:, 1]\n",
    "    plt.scatter(x, y, color=colormap(i), label=f'Room ID: {room_id}', alpha=0.5)  # Slightly transparent\n",
    "\n",
    "# Plot each pose\n",
    "for img_id, room_id in tqdm(pose_room_mapping.items()):\n",
    "    pose_xyz = get_pose(img_id)\n",
    "    pose_xyz, pose_quat = pose_correction(pose_xyz)\n",
    "    \n",
    "    # Find the color index from the unique_room_ids\n",
    "    color_idx = np.where(unique_room_ids == room_id)[0][0]\n",
    "    plt.scatter(pose_xyz[0], pose_xyz[1], color=colormap(color_idx), edgecolor='k')  # 'k' makes the edge color black for better visibility\n",
    "\n",
    "# Enhance the plot\n",
    "plt.legend()\n",
    "plt.title('Top-Down View of Rooms and Poses')\n",
    "plt.xlabel('X Coordinate')\n",
    "plt.ylabel('Y Coordinate')\n",
    "plt.grid(True)\n",
    "plt.axis('equal')  # Ensure equal scaling for x and y axes\n",
    "plt.show()\n",
    "\n",
    "# Optionally save the plot\n",
    "# plt.savefig(f'{dataset_path}/rooms_and_poses.png')\n"
   ]
  },
  {
   "cell_type": "markdown",
   "metadata": {},
   "source": [
    "# Room-wise Objects"
   ]
  },
  {
   "cell_type": "code",
   "execution_count": 10,
   "metadata": {},
   "outputs": [
    {
     "data": {
      "application/vnd.jupyter.widget-view+json": {
       "model_id": "d81008baa69f42c49e533b38c97750fb",
       "version_major": 2,
       "version_minor": 0
      },
      "text/plain": [
       "  0%|          | 0/101 [00:00<?, ?it/s]"
      ]
     },
     "metadata": {},
     "output_type": "display_data"
    }
   ],
   "source": [
    "# Initialize a dictionary to store the room assignment for each object\n",
    "room_obj_assignments = {}\n",
    "\n",
    "# Iterate through each object\n",
    "for node_id, node_data in tqdm(obj_nodes_dict.items()):\n",
    "    obj_bbox = node_data['bbox']  # 8x3 array of bbox points\n",
    "\n",
    "    # Initialize a dictionary to keep the sum of minimum distances for each room\n",
    "    room_distance_sum = {room_id: 0 for room_id in kd_trees.keys()}\n",
    "\n",
    "    # Iterate through the 8 points of the bounding box\n",
    "    for point in obj_bbox:\n",
    "        # Initialize a dictionary to keep the minimum distance for each room for this point\n",
    "        room_min_distance = {}\n",
    "\n",
    "        # Check the distance of the point to each room\n",
    "        for room_id, kd_tree in kd_trees.items():\n",
    "            distance, _ = kd_tree.query(point[:3])  # Consider x, y, z for 3D KD-tree\n",
    "            room_min_distance[room_id] = distance\n",
    "\n",
    "        # Add the minimum distance to the room's total distance sum\n",
    "        for room_id, distance in room_min_distance.items():\n",
    "            room_distance_sum[room_id] += distance\n",
    "\n",
    "    # Assign the object to the room with the minimum sum of distances\n",
    "    assigned_room = min(room_distance_sum, key=room_distance_sum.get)\n",
    "    \n",
    "    if assigned_room not in room_obj_assignments:\n",
    "        room_obj_assignments[assigned_room] = []\n",
    "    room_obj_assignments[assigned_room].append(node_id)\n",
    "\n",
    "    node_data['room_id'] = assigned_room\n",
    "\n",
    "    room_label_id = assigned_room.split('_')[0]\n",
    "    node_data['room_label'] = ALL_ROOM_TYPES[int(room_label_id)]"
   ]
  },
  {
   "cell_type": "code",
   "execution_count": 12,
   "metadata": {},
   "outputs": [],
   "source": [
    "room_obj_assignments_top30 = {}\n",
    "\n",
    "for room_id, obj_ids in room_obj_assignments.items():\n",
    "    if len(obj_ids) <= 30:\n",
    "        room_obj_assignments_top30[room_id] = obj_ids\n",
    "    else:\n",
    "        obj_points_counts = []\n",
    "\n",
    "        for obj_id in obj_ids:\n",
    "            pcd_path = obj_nodes_dict[obj_id]['pcd']\n",
    "            pcd = o3d.io.read_point_cloud(pcd_path)\n",
    "            obj_points_counts.append((obj_id, len(pcd.points)))\n",
    "        \n",
    "        # Sort the list based on the number of points in descending order\n",
    "        obj_points_counts.sort(key=lambda x: x[1], reverse=True)\n",
    "        top_30_obj_ids = [obj_id for obj_id, _ in obj_points_counts[:30]]     \n",
    "        room_obj_assignments_top30[room_id] = top_30_obj_ids\n"
   ]
  },
  {
   "cell_type": "code",
   "execution_count": 14,
   "metadata": {},
   "outputs": [],
   "source": [
    "# save obj_node_dict.pkl\n",
    "with open(obj_nodes_path, 'wb') as file:\n",
    "    pickle.dump(obj_nodes_dict, file)\n",
    "\n",
    "# save room_obj_assignments.pkl\n",
    "with open(os.path.join(output_dir, \"room_obj_assignments.pkl\"), 'wb') as file:\n",
    "    pickle.dump(room_obj_assignments_top30, file)"
   ]
  },
  {
   "cell_type": "code",
   "execution_count": 16,
   "metadata": {},
   "outputs": [],
   "source": [
    "import random\n",
    "\n",
    "def generate_pastel_color():\n",
    "    # generate (r, g, b) tuple of random numbers between 0.5 and 1, truncate to 2 decimal places\n",
    "    r = round(random.uniform(0.4, 1), 2)\n",
    "    g = round(random.uniform(0.4, 1), 2)\n",
    "    b = round(random.uniform(0.4, 1), 2)\n",
    "    color = np.array([r, g, b])\n",
    "    return color\n",
    "\n",
    "# generate colors equal to the length of room_labels\n",
    "room_id_to_color = {}\n",
    "for room_id in room_obj_assignments_top30.keys():\n",
    "    room_id_to_color[room_id] = generate_pastel_color()"
   ]
  },
  {
   "cell_type": "code",
   "execution_count": 19,
   "metadata": {},
   "outputs": [],
   "source": [
    "save_path = os.path.join(output_dir, \"pcds_roomwise\")\n",
    "if not os.path.exists(save_path):\n",
    "    os.makedirs(save_path)\n",
    "\n",
    "room_pcds = {}\n",
    "\n",
    "# iterate over obj_nodes_dict and get the pcd for each node. Save the pcd with a color based on room label\n",
    "for node_id, node_data in obj_nodes_dict.items():\n",
    "    obj_pcd_path = node_data['pcd']\n",
    "    obj_pcd = o3d.io.read_point_cloud(obj_pcd_path)\n",
    "    obj_room_id = node_data['room_id']\n",
    "\n",
    "    color = room_id_to_color[obj_room_id]\n",
    "    obj_pcd.paint_uniform_color(color)\n",
    "    o3d.io.write_point_cloud(os.path.join(save_path, f\"{node_id}.pcd\"), obj_pcd)\n",
    "\n",
    "    if obj_room_id not in room_pcds:\n",
    "        room_pcds[obj_room_id] = []\n",
    "    room_pcds[obj_room_id].append(obj_pcd)"
   ]
  },
  {
   "cell_type": "code",
   "execution_count": 20,
   "metadata": {},
   "outputs": [],
   "source": [
    "# now room_pcds contains the list of pcds for each room label\n",
    "# we can merge them and save them in a separate folder\n",
    "save_path = os.path.join(output_dir, \"pcds_roomwise_merged\")\n",
    "if not os.path.exists(save_path):\n",
    "    os.makedirs(save_path)\n",
    "\n",
    "for room_id, pcd_list in room_pcds.items():\n",
    "    merged_pcd = o3d.geometry.PointCloud()\n",
    "    for pcd in pcd_list:\n",
    "        merged_pcd += pcd\n",
    "    o3d.io.write_point_cloud(os.path.join(save_path, f\"{room_id}.pcd\"), merged_pcd)"
   ]
  },
  {
   "cell_type": "markdown",
   "metadata": {},
   "source": [
    "# Top-k images for each room"
   ]
  },
  {
   "cell_type": "code",
   "execution_count": 38,
   "metadata": {},
   "outputs": [
    {
     "data": {
      "application/vnd.jupyter.widget-view+json": {
       "model_id": "93f910e7b5f24c7985334ee5f2b76d72",
       "version_major": 2,
       "version_minor": 0
      },
      "text/plain": [
       "  0%|          | 0/7 [00:00<?, ?it/s]"
      ]
     },
     "metadata": {},
     "output_type": "display_data"
    }
   ],
   "source": [
    "# img_objs_coverage : {room_id : {img_id : {node_id : points_contri_perc, ...}, ...}, ...}\n",
    "\n",
    "roomwise_img_coverage = {}\n",
    "for room_id, node_id_list in tqdm(room_obj_assignments.items()):\n",
    "\n",
    "    img_coverage = {}\n",
    "\n",
    "    for node_id in node_id_list:\n",
    "        points_contri = obj_nodes_dict[node_id]['points_contri']\n",
    "        points_contri_perc = points_contri / np.sum(points_contri)\n",
    "\n",
    "        source_ids = obj_nodes_dict[node_id]['source_ids'] \n",
    "\n",
    "        for source_id, points_contri_perc in zip(source_ids, points_contri_perc):\n",
    "            img_id, mask_id = source_id\n",
    "            if img_id not in img_coverage:\n",
    "                img_coverage[img_id] = {}\n",
    "            img_coverage[img_id][node_id] = points_contri_perc\n",
    "\n",
    "    roomwise_img_coverage[room_id] = img_coverage\n"
   ]
  },
  {
   "cell_type": "code",
   "execution_count": 62,
   "metadata": {},
   "outputs": [],
   "source": [
    "from collections import defaultdict\n",
    "\n",
    "def calculate_similarity(img1, img2, img_coverage, largest_obj_ids):\n",
    "    # Identify the primary contribution object for both images\n",
    "    primary_obj_img1 = max(img_coverage[img1], key=img_coverage[img1].get) if img_coverage[img1] else None\n",
    "    primary_obj_img2 = max(img_coverage[img2], key=img_coverage[img2].get) if img_coverage[img2] else None\n",
    "    \n",
    "    # Check if the primary contribution of both images is to the same largest object\n",
    "    if (primary_obj_img1 in largest_obj_ids and primary_obj_img1 == primary_obj_img2):\n",
    "        return 1  # Assign maximum similarity\n",
    "\n",
    "    # If not, calculate Jaccard similarity of the objects covered\n",
    "    objects_img1 = set(img_coverage[img1].keys())\n",
    "    objects_img2 = set(img_coverage[img2].keys())\n",
    "    intersection = len(objects_img1.intersection(objects_img2))\n",
    "    union = len(objects_img1.union(objects_img2))\n",
    "    return intersection / union if union != 0 else 0\n",
    "\n",
    "\n",
    "\n",
    "def get_top_k_images(roomwise_img_coverage, room_obj_assignments, obj_nodes_dict, k, n, diversity_threshold=0.5):\n",
    "    # Resultant dictionary\n",
    "    roomwise_top_k_images = {}\n",
    "\n",
    "    # Iterate through each room\n",
    "    for room_id, img_coverage in roomwise_img_coverage.items():\n",
    "\n",
    "        # Step 1: Find n biggest objects\n",
    "        node_id_list = room_obj_assignments[room_id]\n",
    "        node_pcd_paths = [obj_nodes_dict[node_id]['pcd'] for node_id in node_id_list]\n",
    "        node_pcds = [o3d.io.read_point_cloud(pcd_path) for pcd_path in node_pcd_paths]\n",
    "        node_pcd_sizes = np.array([len(np.asarray(pcd.points)) for pcd in node_pcds])\n",
    "        \n",
    "        # Get indices of n largest objects\n",
    "        largest_obj_indices = node_pcd_sizes.argsort()[-n:][::-1]\n",
    "        largest_obj_ids = [node_id_list[i] for i in largest_obj_indices]\n",
    "\n",
    "        # Step 2: Rank images based on number of objects covered and total coverage percentage\n",
    "        img_scores = defaultdict(lambda: {'obj_count': 0, 'coverage_perc': 0.0, 'covers_largest_objs': 0})\n",
    "        \n",
    "        for img_id, coverage in img_coverage.items():\n",
    "            for node_id, points_contri_perc in coverage.items():\n",
    "                img_scores[img_id]['obj_count'] += 1\n",
    "                img_scores[img_id]['coverage_perc'] += points_contri_perc\n",
    "                if node_id in largest_obj_ids:\n",
    "                    img_scores[img_id]['covers_largest_objs'] += 1\n",
    "\n",
    "        # Convert img_scores to a list and sort it based on criteria\n",
    "        # Priority: covers_largest_objs, obj_count, coverage_perc\n",
    "        sorted_imgs = sorted(img_scores.items(), key=lambda x: (\n",
    "            x[1]['obj_count'], \n",
    "            x[1]['covers_largest_objs'],\n",
    "            x[1]['coverage_perc']), reverse=True)\n",
    "\n",
    "        # Step 3: Select top-k images with diversity filter\n",
    "        top_k_images = []\n",
    "        for img_info in sorted_imgs:\n",
    "            img_id = img_info[0]\n",
    "            \n",
    "            # Calculate similarity and apply diversity filter\n",
    "            if top_k_images:\n",
    "                similarities = [calculate_similarity(img_id, selected_img, img_coverage, largest_obj_ids)\n",
    "                                for selected_img in top_k_images]\n",
    "                if max(similarities) > diversity_threshold:\n",
    "                    continue  # Skip this image as it's too similar to already selected images\n",
    "            \n",
    "            top_k_images.append(img_id)\n",
    "            if len(top_k_images) == k:\n",
    "                break\n",
    "\n",
    "        roomwise_top_k_images[room_id] = top_k_images\n",
    "\n",
    "    return roomwise_top_k_images\n",
    "\n",
    "# Usage\n",
    "top_k_images_per_room = get_top_k_images(roomwise_img_coverage, room_obj_assignments, obj_nodes_dict, k=6, n=3, diversity_threshold=0.5)"
   ]
  },
  {
   "cell_type": "code",
   "execution_count": 63,
   "metadata": {},
   "outputs": [
    {
     "name": "stdout",
     "output_type": "stream",
     "text": [
      "Room ID: 11.0\n",
      "Top Images: ['810', '821', '795', '800', '001', '797']\n",
      "\n",
      "Room ID: 6.0\n",
      "Top Images: ['022', '036', '715', '041', '721', '069']\n",
      "\n",
      "Room ID: 4.0\n",
      "Top Images: ['781', '791', '785', '009', '770', '016']\n",
      "\n",
      "Room ID: 8.0\n",
      "Top Images: ['671', '688', '460', '690', '444', '448']\n",
      "\n",
      "Room ID: 2.0\n",
      "Top Images: ['522', '526', '187', '579', '630', '514']\n",
      "\n",
      "Room ID: 1.0\n",
      "Top Images: ['298', '295', '313', '667', '536']\n",
      "\n",
      "Room ID: 12.0\n",
      "Top Images: ['403', '405', '399', '438', '422', '394']\n",
      "\n"
     ]
    }
   ],
   "source": [
    "from PIL import Image\n",
    "\n",
    "def get_img(img_id):\n",
    "    img_path = os.path.join(imgs_dir, img_id + '.jpg')\n",
    "    img = Image.open(img_path)\n",
    "    return img\n",
    "\n",
    "imgs_output_path = os.path.join(dataset_path, \"output_objs_v2\", \"top_k_imgs\")\n",
    "\n",
    "for room_id, top_images in top_k_images_per_room.items():\n",
    "    print(f'Room ID: {room_id}')\n",
    "    print(f'Top Images: {top_images}')\n",
    "    print()\n",
    "\n",
    "    room_imgs = [get_img(img_id) for img_id in top_images]\n",
    "    if not os.path.exists(os.path.join(imgs_output_path, str(room_id))):\n",
    "        os.makedirs(os.path.join(imgs_output_path, str(room_id)))\n",
    "\n",
    "    for i, img in enumerate(room_imgs):\n",
    "        img.save(os.path.join(imgs_output_path, str(room_id), f\"img_{i}.jpg\"))"
   ]
  },
  {
   "cell_type": "markdown",
   "metadata": {},
   "source": [
    "# Assigning each object a room label using CLIP"
   ]
  },
  {
   "cell_type": "code",
   "execution_count": 3,
   "metadata": {},
   "outputs": [],
   "source": [
    "# CLIP Model Loading and Preprocessing\n",
    "device = \"cuda\" if torch.cuda.is_available() else \"cpu\"\n",
    "clip_model, _, clip_preprocess = open_clip.create_model_and_transforms(\n",
    "        \"ViT-H-14\", \"laion2b_s32b_b79k\"\n",
    "    )\n",
    "clip_model = clip_model.to(device)\n",
    "clip_tokenizer = open_clip.get_tokenizer(\"ViT-H-14\")"
   ]
  },
  {
   "cell_type": "code",
   "execution_count": 22,
   "metadata": {},
   "outputs": [
    {
     "name": "stdout",
     "output_type": "stream",
     "text": [
      "torch.Size([101, 1024])\n"
     ]
    }
   ],
   "source": [
    "# for every key in obj_nodes_dict, get the clip_embed and store it in a separate list for comparison later\n",
    "obj_embeds_list = []\n",
    "for node_id, node_data in obj_nodes_dict.items():\n",
    "    obj_clip_embed = torch.Tensor(node_data['clip_embed'])\n",
    "    obj_embeds_list.append(obj_clip_embed)\n",
    "\n",
    "obj_embeds_tensor = torch.stack(obj_embeds_list, dim=0) # (N, 1024)\n",
    "print(obj_embeds_tensor.shape)\n"
   ]
  },
  {
   "cell_type": "code",
   "execution_count": 34,
   "metadata": {},
   "outputs": [
    {
     "name": "stdout",
     "output_type": "stream",
     "text": [
      "torch.Size([21, 1024])\n"
     ]
    }
   ],
   "source": [
    "# Mapping of single-character labels to room names\n",
    "label_to_room = {\n",
    "    'a': 'bathroom',\n",
    "    'b': 'bedroom',\n",
    "    'd': 'dining room',\n",
    "    'e': 'entryway',\n",
    "    'g': 'garage',\n",
    "    'h': 'hallway',\n",
    "    'i': 'library',\n",
    "    'j': 'laundry room',\n",
    "    'k': 'kitchen',\n",
    "    'l': 'living room',\n",
    "    'm': 'meeting room',\n",
    "    'n': 'lounge',\n",
    "    'o': 'office',\n",
    "    's': 'stairs',\n",
    "    'u': 'utility room',\n",
    "    'w': 'gym',\n",
    "    'C': 'classroom',\n",
    "    'S': 'spa',\n",
    "}\n",
    "\n",
    "# Convert single-character labels to full room names\n",
    "room_labels = list(label_to_room.values())\n",
    "\n",
    "room_labels_tokens = clip_tokenizer(room_labels).to(device)\n",
    "with torch.no_grad(), torch.cuda.amp.autocast():\n",
    "    room_labels_embeds = clip_model.encode_text(room_labels_tokens)\n",
    "    room_labels_embeds /= room_labels_embeds.norm(dim=-1, keepdim=True)\n",
    "\n",
    "room_labels_embeds = room_labels_embeds.cpu() # (M, 1024)\n",
    "print(room_labels_embeds.shape)\n"
   ]
  },
  {
   "cell_type": "code",
   "execution_count": 35,
   "metadata": {},
   "outputs": [],
   "source": [
    "# Ensure both tensors are in the same dtype, for example, float32\n",
    "obj_embeds_tensor = obj_embeds_tensor.to(dtype=torch.float32)\n",
    "room_labels_embeds = room_labels_embeds.to(dtype=torch.float32)\n",
    "\n",
    "probs = (100.0 * obj_embeds_tensor @ room_labels_embeds.T).softmax(dim=-1) # (N, M)\n",
    "\n",
    "# Get the top-5 predictions\n",
    "top5 = probs.topk(5)\n",
    "\n",
    "# Convert to a dict like {obj_id: [top5 room ids]}\n",
    "obj_id_to_top5_room_ids = {}\n",
    "obj_id_to_top5_room_labels = {}\n",
    "for obj_id, top5_room_ids in zip(obj_nodes_dict.keys(), top5.indices):\n",
    "    top5_room_labels = [room_labels[room_id] for room_id in top5_room_ids]\n",
    "    obj_id_to_top5_room_ids[obj_id] = top5_room_ids\n",
    "    obj_id_to_top5_room_labels[obj_id] = top5_room_labels\n",
    "\n",
    "# print(obj_id_to_top5_room_labels)\n"
   ]
  },
  {
   "cell_type": "code",
   "execution_count": 36,
   "metadata": {},
   "outputs": [
    {
     "name": "stdout",
     "output_type": "stream",
     "text": [
      "{'office': [3, 13, 55, 69, 76, 295, 301, 346, 372, 490, 512, 538, 689, 759, 811, 813, 814, 847, 869, 923, 993, 1184], 'kitchen': [6, 1243], 'living room': [9, 54, 56, 71, 91, 98, 99, 192, 216, 378, 443, 1036, 1090], 'spa': [35, 140, 415, 650, 722, 792], 'bedroom': [61, 103, 145, 197, 327, 330, 334, 344, 352, 360, 363, 371, 387, 683, 699, 709, 731, 750, 758, 802, 826, 985, 1192, 1201], 'lounge': [74, 202, 290], 'balcony': [174, 181, 187, 240, 254, 286, 306, 317, 365, 385, 428, 685, 732, 862, 948, 1266], 'dining room': [242, 249], 'garage': [397], 'toilet': [564, 606, 648, 1023, 1116, 1224, 1254, 1272], 'bathroom': [624], 'classroom': [823, 920], 'gym': [932]}\n"
     ]
    }
   ],
   "source": [
    "# Make a dictionary like {room_label: [obj_ids]}\n",
    "\n",
    "room_label_to_obj_ids = {}\n",
    "for obj_id, top5_room_labels in obj_id_to_top5_room_labels.items():\n",
    "    room_label = top5_room_labels[0]\n",
    "    if room_label not in room_label_to_obj_ids:\n",
    "        room_label_to_obj_ids[room_label] = []\n",
    "    room_label_to_obj_ids[room_label].append(obj_id)\n",
    "\n",
    "print(room_label_to_obj_ids)"
   ]
  },
  {
   "cell_type": "code",
   "execution_count": 51,
   "metadata": {},
   "outputs": [
    {
     "name": "stdout",
     "output_type": "stream",
     "text": [
      "{'bathroom': array([0.6 , 0.93, 0.75]), 'bedroom': array([0.64, 0.96, 0.99]), 'dining room': array([0.64, 0.4 , 0.91]), 'entryway': array([0.68, 0.73, 0.44]), 'garage': array([0.88, 0.71, 0.9 ]), 'hallway': array([0.95, 0.43, 0.64]), 'library': array([0.89, 0.9 , 0.85]), 'laundry room': array([0.55, 0.83, 0.79]), 'kitchen': array([0.67, 0.51, 0.53]), 'living room': array([0.75, 0.65, 0.45]), 'meeting room': array([0.86, 0.76, 0.85]), 'lounge': array([0.93, 0.82, 0.48]), 'office': array([0.45, 0.6 , 0.56]), 'stairs': array([0.66, 0.82, 0.43]), 'toilet': array([0.88, 0.46, 0.88]), 'utility room': array([0.97, 0.41, 0.41]), 'gym': array([0.67, 0.63, 0.86]), 'outdoor': array([0.94, 0.52, 0.59]), 'balcony': array([0.53, 0.96, 0.96]), 'classroom': array([0.68, 0.65, 0.54]), 'spa': array([0.5 , 0.82, 0.61])}\n"
     ]
    }
   ],
   "source": [
    "import random\n",
    "\n",
    "def generate_pastel_color():\n",
    "    # generate (r, g, b) tuple of random numbers between 0.5 and 1, truncate to 2 decimal places\n",
    "    r = round(random.uniform(0.4, 1), 2)\n",
    "    g = round(random.uniform(0.4, 1), 2)\n",
    "    b = round(random.uniform(0.4, 1), 2)\n",
    "    color = np.array([r, g, b])\n",
    "    return color\n",
    "\n",
    "# generate colors equal to the length of room_labels\n",
    "room_label_to_color = {}\n",
    "for room_label in room_labels:\n",
    "    room_label_to_color[room_label] = generate_pastel_color()\n",
    "\n",
    "print(room_label_to_color)"
   ]
  },
  {
   "cell_type": "code",
   "execution_count": 52,
   "metadata": {},
   "outputs": [],
   "source": [
    "save_path = os.path.join(dataset_path, \"output_objs_v1\", \"pcds_roomwise\")\n",
    "if not os.path.exists(save_path):\n",
    "    os.makedirs(save_path)\n",
    "\n",
    "room_pcds = {}\n",
    "\n",
    "# iterate over obj_nodes_dict and get the pcd for each node. Save the pcd with a color based on room label\n",
    "for node_id, node_data in obj_nodes_dict.items():\n",
    "    obj_pcd_path = node_data['pcd']\n",
    "    obj_pcd = o3d.io.read_point_cloud(obj_pcd_path)\n",
    "    obj_room_label = obj_id_to_top5_room_labels[node_id][0]\n",
    "\n",
    "    color = room_label_to_color[obj_room_label]\n",
    "    obj_pcd.paint_uniform_color(color)\n",
    "    o3d.io.write_point_cloud(os.path.join(save_path, f\"{node_id}.pcd\"), obj_pcd)\n",
    "\n",
    "    if obj_room_label not in room_pcds:\n",
    "        room_pcds[obj_room_label] = []\n",
    "    room_pcds[obj_room_label].append(obj_pcd)"
   ]
  },
  {
   "cell_type": "code",
   "execution_count": 53,
   "metadata": {},
   "outputs": [],
   "source": [
    "# now room_pcds contains the list of pcds for each room label\n",
    "# we can merge them and save them in a separate folder\n",
    "save_path = os.path.join(dataset_path, \"output_objs_v1\", \"pcds_roomwise_merged\")\n",
    "if not os.path.exists(save_path):\n",
    "    os.makedirs(save_path)\n",
    "\n",
    "for room_label, pcd_list in room_pcds.items():\n",
    "    merged_pcd = o3d.geometry.PointCloud()\n",
    "    for pcd in pcd_list:\n",
    "        merged_pcd += pcd\n",
    "    o3d.io.write_point_cloud(os.path.join(save_path, f\"{room_label}.pcd\"), merged_pcd)"
   ]
  },
  {
   "cell_type": "markdown",
   "metadata": {},
   "source": [
    "# Experiments"
   ]
  },
  {
   "cell_type": "code",
   "execution_count": null,
   "metadata": {},
   "outputs": [],
   "source": [
    "def count_unique_instances_per_room_type(gt):\n",
    "    # Initialize a dictionary to hold the count of unique instances for each room type\n",
    "    unique_instance_counts = {room_type: 0 for room_type in ALL_ROOM_TYPES}\n",
    "    \n",
    "    # Iterate over each room type ID\n",
    "    for room_type_id in range(len(ALL_ROOM_TYPES)):\n",
    "        # Filter gt data for the current room type\n",
    "        room_type_data = gt[gt[:, 7] == room_type_id]\n",
    "        \n",
    "        # Count unique instance numbers for this room type\n",
    "        if room_type_data.size > 0:\n",
    "            unique_instances = np.unique(room_type_data[:, 8])\n",
    "            unique_instance_counts[ALL_ROOM_TYPES[room_type_id]] = len(unique_instances)\n",
    "    \n",
    "    return unique_instance_counts\n",
    "\n",
    "def plot_unique_instances(unique_instance_counts):\n",
    "    # Filter out room types with zero unique instances\n",
    "    filtered_counts = {room: count for room, count in unique_instance_counts.items() if count > 0}\n",
    "    \n",
    "    # Plotting\n",
    "    plt.figure(figsize=(10, 8))\n",
    "    plt.bar(filtered_counts.keys(), filtered_counts.values(), color='skyblue')\n",
    "    plt.xlabel('Room Type')\n",
    "    plt.ylabel('Number of Unique Instances')\n",
    "    plt.title('Number of Unique Instances per Room Type')\n",
    "    plt.xticks(rotation=45, ha=\"right\")\n",
    "    plt.tight_layout()\n",
    "    plt.show()\n",
    "\n",
    "def aggregate_counts_from_all_files(gt_files):\n",
    "    # Initialize a dictionary to hold the aggregated count of unique instances for each room type\n",
    "    aggregated_counts = {room_type: 0 for room_type in ALL_ROOM_TYPES}\n",
    "    \n",
    "    # Process each GT file\n",
    "    for gt_file in tqdm(gt_files):\n",
    "        # Extract sequence name from the file name\n",
    "        seq_name = gt_file.split('_xyz_rgb_o_r_inst.npy')[0]\n",
    "        \n",
    "        # Load GT data\n",
    "        gt = load_gt_data(gt_dir, seq_name)\n",
    "        # Count unique instances for this GT file\n",
    "        unique_instance_counts = count_unique_instances_per_room_type(gt)\n",
    "        \n",
    "        # Aggregate the counts\n",
    "        for room_type, count in unique_instance_counts.items():\n",
    "            aggregated_counts[room_type] += count\n",
    "    \n",
    "    return aggregated_counts\n",
    "\n",
    "def plot_aggregated_counts(aggregated_counts):\n",
    "    # Filter out room types with zero unique instances\n",
    "    filtered_counts = {room: count for room, count in aggregated_counts.items() if count > 0}\n",
    "    \n",
    "    # Plotting\n",
    "    plt.figure(figsize=(12, 9))\n",
    "    plt.bar(filtered_counts.keys(), filtered_counts.values(), color='skyblue')\n",
    "    plt.xlabel('Room Type')\n",
    "    plt.ylabel('Total Number of Unique Instances')\n",
    "    plt.title('Total Number of Unique Instances per Room Type Across All Sequences')\n",
    "    plt.xticks(rotation=45, ha=\"right\")\n",
    "    plt.tight_layout()\n",
    "    plt.show()\n"
   ]
  },
  {
   "cell_type": "code",
   "execution_count": null,
   "metadata": {},
   "outputs": [],
   "source": [
    "# # Single gt file\n",
    "# unique_instance_counts = count_unique_instances_per_room_type(gt)\n",
    "# plot_unique_instances(unique_instance_counts)\n",
    "\n",
    "# # Multiple gt files\n",
    "# gt_files = [f for f in os.listdir(gt_dir) if f.endswith('_xyz_rgb_o_r_inst.npy')]\n",
    "\n",
    "# List all .npy files in the gt_dir\n",
    "gt_files = []\n",
    "all_dataset_names = [\"RPmz2sHmrrY\", \"ac26ZMwG7aT\", \"q9vSo1VnCiC\", \"sT4fr6TAbpF\", \"Pm6F8kyY3z2\", \n",
    "                     \"cV4RVeZvu5T\", \"e9zR4mvMWw7\", \"jh4fc5c5qoQ\", \"kEZ7cmS4wCh\", \"sKLMLpTHeUy\"]\n",
    "\n",
    "for file in os.listdir(gt_dir):\n",
    "    if file.endswith(\"_xyz_rgb_o_r_inst.npy\") and file.split('_')[0] in all_dataset_names:\n",
    "        gt_files.append(file)\n",
    "\n",
    "\n",
    "aggregated_counts = aggregate_counts_from_all_files(gt_files)\n",
    "plot_aggregated_counts(aggregated_counts)\n"
   ]
  }
 ],
 "metadata": {
  "kernelspec": {
   "display_name": "instance-map",
   "language": "python",
   "name": "python3"
  },
  "language_info": {
   "codemirror_mode": {
    "name": "ipython",
    "version": 3
   },
   "file_extension": ".py",
   "mimetype": "text/x-python",
   "name": "python",
   "nbconvert_exporter": "python",
   "pygments_lexer": "ipython3",
   "version": "3.10.13"
  }
 },
 "nbformat": 4,
 "nbformat_minor": 2
}
